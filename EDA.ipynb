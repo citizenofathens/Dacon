{
 "cells": [
  {
   "cell_type": "code",
   "execution_count": null,
   "outputs": [],
   "source": [],
   "metadata": {
    "collapsed": false,
    "pycharm": {
     "name": "#%%\n"
    }
   }
  },
  {
   "cell_type": "code",
   "execution_count": 2,
   "outputs": [
    {
     "data": {
      "text/html": "        <script type=\"text/javascript\">\n        window.PlotlyConfig = {MathJaxConfig: 'local'};\n        if (window.MathJax) {MathJax.Hub.Config({SVG: {font: \"STIX-Web\"}});}\n        if (typeof require !== 'undefined') {\n        require.undef(\"plotly\");\n        requirejs.config({\n            paths: {\n                'plotly': ['https://cdn.plot.ly/plotly-2.4.2.min']\n            }\n        });\n        require(['plotly'], function(Plotly) {\n            window._Plotly = Plotly;\n        });\n        }\n        </script>\n        "
     },
     "metadata": {},
     "output_type": "display_data"
    }
   ],
   "source": [
    "import chardet\n",
    "import matplotlib.pyplot as plt\n",
    "import pandas as pd\n",
    "from plotly.offline import init_notebook_mode, plot, iplot\n",
    "import plotly.graph_objs as go\n",
    "# Make plotly work with Jupyter notebook\n",
    "init_notebook_mode(connected=True)\n",
    "import seaborn as sns\n",
    "import warnings\n",
    "warnings.filterwarnings('ignore')\n",
    "\n",
    "# 한글 폰트 사용을 위해서 세팅\n",
    "from matplotlib import font_manager, rc\n",
    "font_path = \"C:/Windows/Fonts/malgun.TTF\"\n",
    "font = font_manager.FontProperties(fname=font_path).get_name()\n",
    "rc('font', family=font)"
   ],
   "metadata": {
    "collapsed": false,
    "pycharm": {
     "name": "#%%\n"
    }
   }
  },
  {
   "cell_type": "code",
   "execution_count": 10,
   "outputs": [],
   "source": [
    "\n",
    "korail_customer_2019 = pd.read_csv('C:/Users/tjdal/PycharmProjects/Dacon/'\n",
    "                                   '플랫폼통합경진대회 데이터/KORAIL)플랫폼통합경진대회 데이터/'\n",
    "                                   '고객 특성별 철도서비스 이용정보(강릉,목포,전주)_2019.csv', chunksize= 10000)"
   ],
   "metadata": {
    "collapsed": false,
    "pycharm": {
     "name": "#%%\n"
    }
   }
  },
  {
   "cell_type": "code",
   "execution_count": 8,
   "outputs": [],
   "source": [
    "tp = pd.concat(korail_customer_2019, ignore_index=True)"
   ],
   "metadata": {
    "collapsed": false,
    "pycharm": {
     "name": "#%%\n"
    }
   }
  },
  {
   "cell_type": "code",
   "execution_count": 9,
   "outputs": [
    {
     "data": {
      "text/plain": "            운행일자 운행요일   구분  출발시간대   성별     연령대 고객등급_현재    출발역코드  출발역명  \\\n0       20190301    금  비회원    0.0  NaN      기타     NaN  3900248    전주   \n1       20190301    금  비회원    0.0  NaN      기타     NaN  3900248    전주   \n2       20190301    금  비회원    0.0  NaN      기타     NaN  3900248    전주   \n3       20190301    금  비회원    2.0  NaN      기타     NaN  3900248    전주   \n4       20190301    금  비회원    2.0  NaN      기타     NaN  3900248    전주   \n...          ...  ...  ...    ...  ...     ...     ...      ...   ...   \n644268  20190531    금   회원   23.0    M  50~59세       F  3900884  천안아산   \n644269  20190531    금   회원   23.0    M  60~64세       F  3900025    용산   \n644270  20190531    금   회원   23.0    M  60~64세       F  3900130    양평   \n644271  20190531    금   회원   23.0    M   65세이상       A  3900030   영등포   \n644272  20190531    금   회원   23.0    M   65세이상       F  3900030   영등포   \n\n          도착역코드   도착역명 상하행구분    노선  역무열차종코드 역무열차종  인원  \n0       3900211     익산     U   943        2  무궁화호  12  \n1       3900259     남원     D  1040        2  무궁화호   4  \n2       3900279  여수엑스포     D  1040        2  무궁화호   1  \n3       3900276     여천     D  1040        2  무궁화호   3  \n4       3900259     남원     D  1040        2  무궁화호   4  \n...         ...    ...   ...   ...      ...   ...  ..  \n644268  3900242     목포     D  1773        0   KTX   2  \n644269  3900242     목포     D  1563        2  무궁화호   2  \n644270  3900587     강릉     D  1963        2  무궁화호   1  \n644271  3900242     목포     D  1563        2  무궁화호   1  \n644272  3900242     목포     D  1563        2  무궁화호   2  \n\n[644273 rows x 16 columns]",
      "text/html": "<div>\n<style scoped>\n    .dataframe tbody tr th:only-of-type {\n        vertical-align: middle;\n    }\n\n    .dataframe tbody tr th {\n        vertical-align: top;\n    }\n\n    .dataframe thead th {\n        text-align: right;\n    }\n</style>\n<table border=\"1\" class=\"dataframe\">\n  <thead>\n    <tr style=\"text-align: right;\">\n      <th></th>\n      <th>운행일자</th>\n      <th>운행요일</th>\n      <th>구분</th>\n      <th>출발시간대</th>\n      <th>성별</th>\n      <th>연령대</th>\n      <th>고객등급_현재</th>\n      <th>출발역코드</th>\n      <th>출발역명</th>\n      <th>도착역코드</th>\n      <th>도착역명</th>\n      <th>상하행구분</th>\n      <th>노선</th>\n      <th>역무열차종코드</th>\n      <th>역무열차종</th>\n      <th>인원</th>\n    </tr>\n  </thead>\n  <tbody>\n    <tr>\n      <th>0</th>\n      <td>20190301</td>\n      <td>금</td>\n      <td>비회원</td>\n      <td>0.0</td>\n      <td>NaN</td>\n      <td>기타</td>\n      <td>NaN</td>\n      <td>3900248</td>\n      <td>전주</td>\n      <td>3900211</td>\n      <td>익산</td>\n      <td>U</td>\n      <td>943</td>\n      <td>2</td>\n      <td>무궁화호</td>\n      <td>12</td>\n    </tr>\n    <tr>\n      <th>1</th>\n      <td>20190301</td>\n      <td>금</td>\n      <td>비회원</td>\n      <td>0.0</td>\n      <td>NaN</td>\n      <td>기타</td>\n      <td>NaN</td>\n      <td>3900248</td>\n      <td>전주</td>\n      <td>3900259</td>\n      <td>남원</td>\n      <td>D</td>\n      <td>1040</td>\n      <td>2</td>\n      <td>무궁화호</td>\n      <td>4</td>\n    </tr>\n    <tr>\n      <th>2</th>\n      <td>20190301</td>\n      <td>금</td>\n      <td>비회원</td>\n      <td>0.0</td>\n      <td>NaN</td>\n      <td>기타</td>\n      <td>NaN</td>\n      <td>3900248</td>\n      <td>전주</td>\n      <td>3900279</td>\n      <td>여수엑스포</td>\n      <td>D</td>\n      <td>1040</td>\n      <td>2</td>\n      <td>무궁화호</td>\n      <td>1</td>\n    </tr>\n    <tr>\n      <th>3</th>\n      <td>20190301</td>\n      <td>금</td>\n      <td>비회원</td>\n      <td>2.0</td>\n      <td>NaN</td>\n      <td>기타</td>\n      <td>NaN</td>\n      <td>3900248</td>\n      <td>전주</td>\n      <td>3900276</td>\n      <td>여천</td>\n      <td>D</td>\n      <td>1040</td>\n      <td>2</td>\n      <td>무궁화호</td>\n      <td>3</td>\n    </tr>\n    <tr>\n      <th>4</th>\n      <td>20190301</td>\n      <td>금</td>\n      <td>비회원</td>\n      <td>2.0</td>\n      <td>NaN</td>\n      <td>기타</td>\n      <td>NaN</td>\n      <td>3900248</td>\n      <td>전주</td>\n      <td>3900259</td>\n      <td>남원</td>\n      <td>D</td>\n      <td>1040</td>\n      <td>2</td>\n      <td>무궁화호</td>\n      <td>4</td>\n    </tr>\n    <tr>\n      <th>...</th>\n      <td>...</td>\n      <td>...</td>\n      <td>...</td>\n      <td>...</td>\n      <td>...</td>\n      <td>...</td>\n      <td>...</td>\n      <td>...</td>\n      <td>...</td>\n      <td>...</td>\n      <td>...</td>\n      <td>...</td>\n      <td>...</td>\n      <td>...</td>\n      <td>...</td>\n      <td>...</td>\n    </tr>\n    <tr>\n      <th>644268</th>\n      <td>20190531</td>\n      <td>금</td>\n      <td>회원</td>\n      <td>23.0</td>\n      <td>M</td>\n      <td>50~59세</td>\n      <td>F</td>\n      <td>3900884</td>\n      <td>천안아산</td>\n      <td>3900242</td>\n      <td>목포</td>\n      <td>D</td>\n      <td>1773</td>\n      <td>0</td>\n      <td>KTX</td>\n      <td>2</td>\n    </tr>\n    <tr>\n      <th>644269</th>\n      <td>20190531</td>\n      <td>금</td>\n      <td>회원</td>\n      <td>23.0</td>\n      <td>M</td>\n      <td>60~64세</td>\n      <td>F</td>\n      <td>3900025</td>\n      <td>용산</td>\n      <td>3900242</td>\n      <td>목포</td>\n      <td>D</td>\n      <td>1563</td>\n      <td>2</td>\n      <td>무궁화호</td>\n      <td>2</td>\n    </tr>\n    <tr>\n      <th>644270</th>\n      <td>20190531</td>\n      <td>금</td>\n      <td>회원</td>\n      <td>23.0</td>\n      <td>M</td>\n      <td>60~64세</td>\n      <td>F</td>\n      <td>3900130</td>\n      <td>양평</td>\n      <td>3900587</td>\n      <td>강릉</td>\n      <td>D</td>\n      <td>1963</td>\n      <td>2</td>\n      <td>무궁화호</td>\n      <td>1</td>\n    </tr>\n    <tr>\n      <th>644271</th>\n      <td>20190531</td>\n      <td>금</td>\n      <td>회원</td>\n      <td>23.0</td>\n      <td>M</td>\n      <td>65세이상</td>\n      <td>A</td>\n      <td>3900030</td>\n      <td>영등포</td>\n      <td>3900242</td>\n      <td>목포</td>\n      <td>D</td>\n      <td>1563</td>\n      <td>2</td>\n      <td>무궁화호</td>\n      <td>1</td>\n    </tr>\n    <tr>\n      <th>644272</th>\n      <td>20190531</td>\n      <td>금</td>\n      <td>회원</td>\n      <td>23.0</td>\n      <td>M</td>\n      <td>65세이상</td>\n      <td>F</td>\n      <td>3900030</td>\n      <td>영등포</td>\n      <td>3900242</td>\n      <td>목포</td>\n      <td>D</td>\n      <td>1563</td>\n      <td>2</td>\n      <td>무궁화호</td>\n      <td>2</td>\n    </tr>\n  </tbody>\n</table>\n<p>644273 rows × 16 columns</p>\n</div>"
     },
     "execution_count": 9,
     "metadata": {},
     "output_type": "execute_result"
    }
   ],
   "source": [
    "korail_customer_2019"
   ],
   "metadata": {
    "collapsed": false,
    "pycharm": {
     "name": "#%%\n"
    }
   }
  },
  {
   "cell_type": "code",
   "execution_count": 17,
   "outputs": [],
   "source": [
    "\n",
    "\n",
    "df = pd.read_csv('C:/Users/tjdal/PycharmProjects/Dacon/'\n",
    "                                   '플랫폼통합경진대회 데이터/KORAIL)플랫폼통합경진대회 데이터/'\n",
    "                                   '고객 특성별 철도서비스 이용정보(강릉,목포,전주)_2019.csv', chunksize= 10000)"
   ],
   "metadata": {
    "collapsed": false,
    "pycharm": {
     "name": "#%%\n"
    }
   }
  },
  {
   "cell_type": "code",
   "execution_count": 18,
   "outputs": [
    {
     "data": {
      "text/plain": "<pandas.io.parsers.TextFileReader at 0x1c4b7a30>"
     },
     "execution_count": 18,
     "metadata": {},
     "output_type": "execute_result"
    }
   ],
   "source": [],
   "metadata": {
    "collapsed": false,
    "pycharm": {
     "name": "#%%\n"
    }
   }
  },
  {
   "cell_type": "code",
   "execution_count": 19,
   "outputs": [],
   "source": [
    "total_len = 0\n",
    "for chunk in df:\n",
    "    # Do some preprocessing to reduce the memory size of each chunk\n",
    "    total_len += len(chunk)\n",
    "tp = pd.read_csv('C:/Users/tjdal/PycharmProjects/Dacon/'\n",
    "                                   '플랫폼통합경진대회 데이터/KORAIL)플랫폼통합경진대회 데이터/'\n",
    "                                   '고객 특성별 철도서비스 이용정보(강릉,목포,전주)_2019.csv', iterator=True, chunksize=10000)  # gives TextFileReader\n",
    "df = pd.concat(tp, ignore_index=True)"
   ],
   "metadata": {
    "collapsed": false,
    "pycharm": {
     "name": "#%%\n"
    }
   }
  },
  {
   "cell_type": "code",
   "execution_count": 20,
   "outputs": [
    {
     "data": {
      "text/plain": "            운행일자 운행요일   구분  출발시간대   성별     연령대 고객등급_현재    출발역코드  출발역명  \\\n0       20190301    금  비회원    0.0  NaN      기타     NaN  3900248    전주   \n1       20190301    금  비회원    0.0  NaN      기타     NaN  3900248    전주   \n2       20190301    금  비회원    0.0  NaN      기타     NaN  3900248    전주   \n3       20190301    금  비회원    2.0  NaN      기타     NaN  3900248    전주   \n4       20190301    금  비회원    2.0  NaN      기타     NaN  3900248    전주   \n...          ...  ...  ...    ...  ...     ...     ...      ...   ...   \n644268  20190531    금   회원   23.0    M  50~59세       F  3900884  천안아산   \n644269  20190531    금   회원   23.0    M  60~64세       F  3900025    용산   \n644270  20190531    금   회원   23.0    M  60~64세       F  3900130    양평   \n644271  20190531    금   회원   23.0    M   65세이상       A  3900030   영등포   \n644272  20190531    금   회원   23.0    M   65세이상       F  3900030   영등포   \n\n          도착역코드   도착역명 상하행구분    노선  역무열차종코드 역무열차종  인원  \n0       3900211     익산     U   943        2  무궁화호  12  \n1       3900259     남원     D  1040        2  무궁화호   4  \n2       3900279  여수엑스포     D  1040        2  무궁화호   1  \n3       3900276     여천     D  1040        2  무궁화호   3  \n4       3900259     남원     D  1040        2  무궁화호   4  \n...         ...    ...   ...   ...      ...   ...  ..  \n644268  3900242     목포     D  1773        0   KTX   2  \n644269  3900242     목포     D  1563        2  무궁화호   2  \n644270  3900587     강릉     D  1963        2  무궁화호   1  \n644271  3900242     목포     D  1563        2  무궁화호   1  \n644272  3900242     목포     D  1563        2  무궁화호   2  \n\n[644273 rows x 16 columns]",
      "text/html": "<div>\n<style scoped>\n    .dataframe tbody tr th:only-of-type {\n        vertical-align: middle;\n    }\n\n    .dataframe tbody tr th {\n        vertical-align: top;\n    }\n\n    .dataframe thead th {\n        text-align: right;\n    }\n</style>\n<table border=\"1\" class=\"dataframe\">\n  <thead>\n    <tr style=\"text-align: right;\">\n      <th></th>\n      <th>운행일자</th>\n      <th>운행요일</th>\n      <th>구분</th>\n      <th>출발시간대</th>\n      <th>성별</th>\n      <th>연령대</th>\n      <th>고객등급_현재</th>\n      <th>출발역코드</th>\n      <th>출발역명</th>\n      <th>도착역코드</th>\n      <th>도착역명</th>\n      <th>상하행구분</th>\n      <th>노선</th>\n      <th>역무열차종코드</th>\n      <th>역무열차종</th>\n      <th>인원</th>\n    </tr>\n  </thead>\n  <tbody>\n    <tr>\n      <th>0</th>\n      <td>20190301</td>\n      <td>금</td>\n      <td>비회원</td>\n      <td>0.0</td>\n      <td>NaN</td>\n      <td>기타</td>\n      <td>NaN</td>\n      <td>3900248</td>\n      <td>전주</td>\n      <td>3900211</td>\n      <td>익산</td>\n      <td>U</td>\n      <td>943</td>\n      <td>2</td>\n      <td>무궁화호</td>\n      <td>12</td>\n    </tr>\n    <tr>\n      <th>1</th>\n      <td>20190301</td>\n      <td>금</td>\n      <td>비회원</td>\n      <td>0.0</td>\n      <td>NaN</td>\n      <td>기타</td>\n      <td>NaN</td>\n      <td>3900248</td>\n      <td>전주</td>\n      <td>3900259</td>\n      <td>남원</td>\n      <td>D</td>\n      <td>1040</td>\n      <td>2</td>\n      <td>무궁화호</td>\n      <td>4</td>\n    </tr>\n    <tr>\n      <th>2</th>\n      <td>20190301</td>\n      <td>금</td>\n      <td>비회원</td>\n      <td>0.0</td>\n      <td>NaN</td>\n      <td>기타</td>\n      <td>NaN</td>\n      <td>3900248</td>\n      <td>전주</td>\n      <td>3900279</td>\n      <td>여수엑스포</td>\n      <td>D</td>\n      <td>1040</td>\n      <td>2</td>\n      <td>무궁화호</td>\n      <td>1</td>\n    </tr>\n    <tr>\n      <th>3</th>\n      <td>20190301</td>\n      <td>금</td>\n      <td>비회원</td>\n      <td>2.0</td>\n      <td>NaN</td>\n      <td>기타</td>\n      <td>NaN</td>\n      <td>3900248</td>\n      <td>전주</td>\n      <td>3900276</td>\n      <td>여천</td>\n      <td>D</td>\n      <td>1040</td>\n      <td>2</td>\n      <td>무궁화호</td>\n      <td>3</td>\n    </tr>\n    <tr>\n      <th>4</th>\n      <td>20190301</td>\n      <td>금</td>\n      <td>비회원</td>\n      <td>2.0</td>\n      <td>NaN</td>\n      <td>기타</td>\n      <td>NaN</td>\n      <td>3900248</td>\n      <td>전주</td>\n      <td>3900259</td>\n      <td>남원</td>\n      <td>D</td>\n      <td>1040</td>\n      <td>2</td>\n      <td>무궁화호</td>\n      <td>4</td>\n    </tr>\n    <tr>\n      <th>...</th>\n      <td>...</td>\n      <td>...</td>\n      <td>...</td>\n      <td>...</td>\n      <td>...</td>\n      <td>...</td>\n      <td>...</td>\n      <td>...</td>\n      <td>...</td>\n      <td>...</td>\n      <td>...</td>\n      <td>...</td>\n      <td>...</td>\n      <td>...</td>\n      <td>...</td>\n      <td>...</td>\n    </tr>\n    <tr>\n      <th>644268</th>\n      <td>20190531</td>\n      <td>금</td>\n      <td>회원</td>\n      <td>23.0</td>\n      <td>M</td>\n      <td>50~59세</td>\n      <td>F</td>\n      <td>3900884</td>\n      <td>천안아산</td>\n      <td>3900242</td>\n      <td>목포</td>\n      <td>D</td>\n      <td>1773</td>\n      <td>0</td>\n      <td>KTX</td>\n      <td>2</td>\n    </tr>\n    <tr>\n      <th>644269</th>\n      <td>20190531</td>\n      <td>금</td>\n      <td>회원</td>\n      <td>23.0</td>\n      <td>M</td>\n      <td>60~64세</td>\n      <td>F</td>\n      <td>3900025</td>\n      <td>용산</td>\n      <td>3900242</td>\n      <td>목포</td>\n      <td>D</td>\n      <td>1563</td>\n      <td>2</td>\n      <td>무궁화호</td>\n      <td>2</td>\n    </tr>\n    <tr>\n      <th>644270</th>\n      <td>20190531</td>\n      <td>금</td>\n      <td>회원</td>\n      <td>23.0</td>\n      <td>M</td>\n      <td>60~64세</td>\n      <td>F</td>\n      <td>3900130</td>\n      <td>양평</td>\n      <td>3900587</td>\n      <td>강릉</td>\n      <td>D</td>\n      <td>1963</td>\n      <td>2</td>\n      <td>무궁화호</td>\n      <td>1</td>\n    </tr>\n    <tr>\n      <th>644271</th>\n      <td>20190531</td>\n      <td>금</td>\n      <td>회원</td>\n      <td>23.0</td>\n      <td>M</td>\n      <td>65세이상</td>\n      <td>A</td>\n      <td>3900030</td>\n      <td>영등포</td>\n      <td>3900242</td>\n      <td>목포</td>\n      <td>D</td>\n      <td>1563</td>\n      <td>2</td>\n      <td>무궁화호</td>\n      <td>1</td>\n    </tr>\n    <tr>\n      <th>644272</th>\n      <td>20190531</td>\n      <td>금</td>\n      <td>회원</td>\n      <td>23.0</td>\n      <td>M</td>\n      <td>65세이상</td>\n      <td>F</td>\n      <td>3900030</td>\n      <td>영등포</td>\n      <td>3900242</td>\n      <td>목포</td>\n      <td>D</td>\n      <td>1563</td>\n      <td>2</td>\n      <td>무궁화호</td>\n      <td>2</td>\n    </tr>\n  </tbody>\n</table>\n<p>644273 rows × 16 columns</p>\n</div>"
     },
     "execution_count": 20,
     "metadata": {},
     "output_type": "execute_result"
    }
   ],
   "source": [
    "\n",
    "df"
   ],
   "metadata": {
    "collapsed": false,
    "pycharm": {
     "name": "#%%\n"
    }
   }
  },
  {
   "cell_type": "code",
   "execution_count": 15,
   "outputs": [],
   "source": [
    "import numpy as np\n",
    "\n",
    "\n",
    "#꿀팁 결측치를 사전에 원하는 값으로 변경하면 메모리 감소"
   ],
   "metadata": {
    "collapsed": false,
    "pycharm": {
     "name": "#%%\n"
    }
   }
  },
  {
   "cell_type": "code",
   "execution_count": null,
   "outputs": [],
   "source": [
    "def convertor(val) :\n",
    "    if val == np.nan :\n",
    "        return -9999\n",
    "    return val\n",
    "\n",
    "df = pd.read_csv(\"./../../Data/Rain/weatherAUS.csv\",\n",
    "                 usecols=use_col,\n",
    "                 converters={\"Evaporation\": convertor},\n",
    "                 dtype={\"WindGustDir\": \"category\",\n",
    "                        \"Evaporation\" : \"float16\",\n",
    "                       })"
   ],
   "metadata": {
    "collapsed": false,
    "pycharm": {
     "name": "#%%time\n"
    }
   }
  },
  {
   "cell_type": "code",
   "execution_count": null,
   "outputs": [],
   "source": [
    "del df"
   ],
   "metadata": {
    "collapsed": false,
    "pycharm": {
     "name": "#%%\n"
    }
   }
  },
  {
   "cell_type": "code",
   "execution_count": 28,
   "outputs": [],
   "source": [
    "chunk_size = 10000"
   ],
   "metadata": {
    "collapsed": false,
    "pycharm": {
     "name": "#%%\n"
    }
   }
  },
  {
   "cell_type": "code",
   "execution_count": 29,
   "outputs": [
    {
     "ename": "TypeError",
     "evalue": "'iterator' is an invalid keyword argument for open()",
     "output_type": "error",
     "traceback": [
      "\u001B[1;31m---------------------------------------------------------------------------\u001B[0m",
      "\u001B[1;31mTypeError\u001B[0m                                 Traceback (most recent call last)",
      "\u001B[1;32m~\\AppData\\Local\\Temp/ipykernel_13036/2490109047.py\u001B[0m in \u001B[0;36m<module>\u001B[1;34m\u001B[0m\n\u001B[0;32m      7\u001B[0m \u001B[0mdf\u001B[0m \u001B[1;33m=\u001B[0m \u001B[0mpd\u001B[0m\u001B[1;33m.\u001B[0m\u001B[0mconcat\u001B[0m\u001B[1;33m(\u001B[0m\u001B[1;33m[\u001B[0m\u001B[0mchunk\u001B[0m \u001B[1;32mfor\u001B[0m \u001B[0mchunk\u001B[0m \u001B[1;32min\u001B[0m \u001B[0mtp\u001B[0m\u001B[1;33m]\u001B[0m\u001B[1;33m)\u001B[0m\u001B[1;33m\u001B[0m\u001B[1;33m\u001B[0m\u001B[0m\n\u001B[0;32m      8\u001B[0m \u001B[1;33m\u001B[0m\u001B[0m\n\u001B[1;32m----> 9\u001B[1;33m with open('C:/Users/tjdal/PycharmProjects/Dacon/'\n\u001B[0m\u001B[0;32m     10\u001B[0m                                    \u001B[1;34m'플랫폼통합경진대회 데이터/KORAIL)플랫폼통합경진대회 데이터/'\u001B[0m\u001B[1;33m\u001B[0m\u001B[1;33m\u001B[0m\u001B[0m\n\u001B[0;32m     11\u001B[0m                                    '고객 특성별 철도서비스 이용정보(강릉,목포,전주)_2019.csv', iterator=True, chunksize=10000)  as f:\n",
      "\u001B[1;31mTypeError\u001B[0m: 'iterator' is an invalid keyword argument for open()"
     ]
    }
   ],
   "source": [
    "import pandas as pd\n",
    "# 10000개씩 읽는 것이지 처음부터 10000개를 저장하는 것은 아니다\n",
    "cnt =0\n",
    "tp = pd.read_csv('C:/Users/tjdal/PycharmProjects/Dacon/'\n",
    "                                   '플랫폼통합경진대회 데이터/KORAIL)플랫폼통합경진대회 데이터/'\n",
    "                                   '고객 특성별 철도서비스 이용정보(강릉,목포,전주)_2019.csv', iterator=True, chunksize=10000)  # gives T\n",
    "df = pd.concat([chunk for chunk in tp])"
   ],
   "metadata": {
    "collapsed": false,
    "pycharm": {
     "name": "#%%\n"
    }
   }
  },
  {
   "cell_type": "code",
   "execution_count": 48,
   "outputs": [],
   "source": [],
   "metadata": {
    "collapsed": false,
    "pycharm": {
     "name": "#%%\n"
    }
   }
  },
  {
   "cell_type": "code",
   "execution_count": 55,
   "outputs": [],
   "source": [
    "df = pd.DataFrame(index=[], columns= ['운행일자','운행요일','구분','출발시간대','성별','연령대','고객등급_현재','출발역코드','출발역명','도착역코드','도착역명','상하행구분','노선','역무열차종코드','역무열차종','인원'])"
   ],
   "metadata": {
    "collapsed": false,
    "pycharm": {
     "name": "#%%\n"
    }
   }
  },
  {
   "cell_type": "code",
   "execution_count": 56,
   "outputs": [
    {
     "data": {
      "text/plain": "Empty DataFrame\nColumns: [운행일자, 운행요일, 구분, 출발시간대, 성별, 연령대, 고객등급_현재, 출발역코드, 출발역명, 도착역코드, 도착역명, 상하행구분, 노선, 역무열차종코드, 역무열차종, 인원]\nIndex: []",
      "text/html": "<div>\n<style scoped>\n    .dataframe tbody tr th:only-of-type {\n        vertical-align: middle;\n    }\n\n    .dataframe tbody tr th {\n        vertical-align: top;\n    }\n\n    .dataframe thead th {\n        text-align: right;\n    }\n</style>\n<table border=\"1\" class=\"dataframe\">\n  <thead>\n    <tr style=\"text-align: right;\">\n      <th></th>\n      <th>운행일자</th>\n      <th>운행요일</th>\n      <th>구분</th>\n      <th>출발시간대</th>\n      <th>성별</th>\n      <th>연령대</th>\n      <th>고객등급_현재</th>\n      <th>출발역코드</th>\n      <th>출발역명</th>\n      <th>도착역코드</th>\n      <th>도착역명</th>\n      <th>상하행구분</th>\n      <th>노선</th>\n      <th>역무열차종코드</th>\n      <th>역무열차종</th>\n      <th>인원</th>\n    </tr>\n  </thead>\n  <tbody>\n  </tbody>\n</table>\n</div>"
     },
     "execution_count": 56,
     "metadata": {},
     "output_type": "execute_result"
    }
   ],
   "source": [
    "df.append()"
   ],
   "metadata": {
    "collapsed": false,
    "pycharm": {
     "name": "#%%\n"
    }
   }
  },
  {
   "cell_type": "code",
   "execution_count": 61,
   "outputs": [
    {
     "ename": "KeyboardInterrupt",
     "evalue": "",
     "output_type": "error",
     "traceback": [
      "\u001B[1;31m---------------------------------------------------------------------------\u001B[0m",
      "\u001B[1;31mKeyboardInterrupt\u001B[0m                         Traceback (most recent call last)",
      "\u001B[1;32m~\\AppData\\Local\\Temp/ipykernel_13036/834010663.py\u001B[0m in \u001B[0;36m<module>\u001B[1;34m\u001B[0m\n\u001B[0;32m     11\u001B[0m         \u001B[1;32mif\u001B[0m \u001B[0mcnt\u001B[0m \u001B[1;33m==\u001B[0m\u001B[1;36m0\u001B[0m \u001B[1;33m:\u001B[0m\u001B[1;33m\u001B[0m\u001B[1;33m\u001B[0m\u001B[0m\n\u001B[0;32m     12\u001B[0m \u001B[1;33m\u001B[0m\u001B[0m\n\u001B[1;32m---> 13\u001B[1;33m             \u001B[0mdf\u001B[0m \u001B[1;33m=\u001B[0m \u001B[0mpd\u001B[0m\u001B[1;33m.\u001B[0m\u001B[0mDataFrame\u001B[0m\u001B[1;33m(\u001B[0m\u001B[0mindex\u001B[0m\u001B[1;33m=\u001B[0m\u001B[1;33m[\u001B[0m\u001B[1;33m]\u001B[0m\u001B[1;33m,\u001B[0m \u001B[0mcolumns\u001B[0m\u001B[1;33m=\u001B[0m \u001B[1;33m[\u001B[0m\u001B[1;34m'운행일자'\u001B[0m\u001B[1;33m,\u001B[0m\u001B[1;34m'운행요일'\u001B[0m\u001B[1;33m,\u001B[0m\u001B[1;34m'구분'\u001B[0m\u001B[1;33m,\u001B[0m\u001B[1;34m'출발시간대'\u001B[0m\u001B[1;33m,\u001B[0m\u001B[1;34m'성별'\u001B[0m\u001B[1;33m,\u001B[0m\u001B[1;34m'연령대'\u001B[0m\u001B[1;33m,\u001B[0m\u001B[1;34m'고객등급_현재'\u001B[0m\u001B[1;33m,\u001B[0m\u001B[1;34m'출발역코드'\u001B[0m\u001B[1;33m,\u001B[0m\u001B[1;34m'출발역명'\u001B[0m\u001B[1;33m,\u001B[0m\u001B[1;34m'도착역코드'\u001B[0m\u001B[1;33m,\u001B[0m\u001B[1;34m'도착역명'\u001B[0m\u001B[1;33m,\u001B[0m\u001B[1;34m'상하행구분'\u001B[0m\u001B[1;33m,\u001B[0m\u001B[1;34m'노선'\u001B[0m\u001B[1;33m,\u001B[0m\u001B[1;34m'역무열차종코드'\u001B[0m\u001B[1;33m,\u001B[0m\u001B[1;34m'역무열차종'\u001B[0m\u001B[1;33m,\u001B[0m\u001B[1;34m'인원'\u001B[0m\u001B[1;33m]\u001B[0m\u001B[1;33m)\u001B[0m\u001B[1;33m\u001B[0m\u001B[1;33m\u001B[0m\u001B[0m\n\u001B[0m\u001B[0;32m     14\u001B[0m             \u001B[1;32mcontinue\u001B[0m\u001B[1;33m\u001B[0m\u001B[1;33m\u001B[0m\u001B[0m\n\u001B[0;32m     15\u001B[0m         \u001B[0mdf\u001B[0m\u001B[1;33m.\u001B[0m\u001B[0mappend\u001B[0m\u001B[1;33m(\u001B[0m\u001B[0mpd\u001B[0m\u001B[1;33m.\u001B[0m\u001B[0mSeries\u001B[0m\u001B[1;33m(\u001B[0m\u001B[0mf\u001B[0m\u001B[1;33m.\u001B[0m\u001B[0mread\u001B[0m\u001B[1;33m(\u001B[0m\u001B[0mchunk_size\u001B[0m\u001B[1;33m)\u001B[0m\u001B[1;33m)\u001B[0m\u001B[1;33m,\u001B[0m\u001B[0mignore_index\u001B[0m\u001B[1;33m=\u001B[0m\u001B[1;32mTrue\u001B[0m\u001B[1;33m)\u001B[0m\u001B[1;33m\u001B[0m\u001B[1;33m\u001B[0m\u001B[0m\n",
      "\u001B[1;32mc:\\python38-32\\lib\\site-packages\\pandas\\core\\frame.py\u001B[0m in \u001B[0;36m__init__\u001B[1;34m(self, data, index, columns, dtype, copy)\u001B[0m\n\u001B[0;32m    527\u001B[0m \u001B[1;33m\u001B[0m\u001B[0m\n\u001B[0;32m    528\u001B[0m         \u001B[1;32melif\u001B[0m \u001B[0misinstance\u001B[0m\u001B[1;33m(\u001B[0m\u001B[0mdata\u001B[0m\u001B[1;33m,\u001B[0m \u001B[0mdict\u001B[0m\u001B[1;33m)\u001B[0m\u001B[1;33m:\u001B[0m\u001B[1;33m\u001B[0m\u001B[1;33m\u001B[0m\u001B[0m\n\u001B[1;32m--> 529\u001B[1;33m             \u001B[0mmgr\u001B[0m \u001B[1;33m=\u001B[0m \u001B[0minit_dict\u001B[0m\u001B[1;33m(\u001B[0m\u001B[0mdata\u001B[0m\u001B[1;33m,\u001B[0m \u001B[0mindex\u001B[0m\u001B[1;33m,\u001B[0m \u001B[0mcolumns\u001B[0m\u001B[1;33m,\u001B[0m \u001B[0mdtype\u001B[0m\u001B[1;33m=\u001B[0m\u001B[0mdtype\u001B[0m\u001B[1;33m)\u001B[0m\u001B[1;33m\u001B[0m\u001B[1;33m\u001B[0m\u001B[0m\n\u001B[0m\u001B[0;32m    530\u001B[0m         \u001B[1;32melif\u001B[0m \u001B[0misinstance\u001B[0m\u001B[1;33m(\u001B[0m\u001B[0mdata\u001B[0m\u001B[1;33m,\u001B[0m \u001B[0mma\u001B[0m\u001B[1;33m.\u001B[0m\u001B[0mMaskedArray\u001B[0m\u001B[1;33m)\u001B[0m\u001B[1;33m:\u001B[0m\u001B[1;33m\u001B[0m\u001B[1;33m\u001B[0m\u001B[0m\n\u001B[0;32m    531\u001B[0m             \u001B[1;32mimport\u001B[0m \u001B[0mnumpy\u001B[0m\u001B[1;33m.\u001B[0m\u001B[0mma\u001B[0m\u001B[1;33m.\u001B[0m\u001B[0mmrecords\u001B[0m \u001B[1;32mas\u001B[0m \u001B[0mmrecords\u001B[0m\u001B[1;33m\u001B[0m\u001B[1;33m\u001B[0m\u001B[0m\n",
      "\u001B[1;32mc:\\python38-32\\lib\\site-packages\\pandas\\core\\internals\\construction.py\u001B[0m in \u001B[0;36minit_dict\u001B[1;34m(data, index, columns, dtype)\u001B[0m\n\u001B[0;32m    271\u001B[0m                 \u001B[0mnan_dtype\u001B[0m \u001B[1;33m=\u001B[0m \u001B[0mdtype\u001B[0m\u001B[1;33m\u001B[0m\u001B[1;33m\u001B[0m\u001B[0m\n\u001B[0;32m    272\u001B[0m             \u001B[0mval\u001B[0m \u001B[1;33m=\u001B[0m \u001B[0mconstruct_1d_arraylike_from_scalar\u001B[0m\u001B[1;33m(\u001B[0m\u001B[0mnp\u001B[0m\u001B[1;33m.\u001B[0m\u001B[0mnan\u001B[0m\u001B[1;33m,\u001B[0m \u001B[0mlen\u001B[0m\u001B[1;33m(\u001B[0m\u001B[0mindex\u001B[0m\u001B[1;33m)\u001B[0m\u001B[1;33m,\u001B[0m \u001B[0mnan_dtype\u001B[0m\u001B[1;33m)\u001B[0m\u001B[1;33m\u001B[0m\u001B[1;33m\u001B[0m\u001B[0m\n\u001B[1;32m--> 273\u001B[1;33m             \u001B[0marrays\u001B[0m\u001B[1;33m.\u001B[0m\u001B[0mloc\u001B[0m\u001B[1;33m[\u001B[0m\u001B[0mmissing\u001B[0m\u001B[1;33m]\u001B[0m \u001B[1;33m=\u001B[0m \u001B[1;33m[\u001B[0m\u001B[0mval\u001B[0m\u001B[1;33m]\u001B[0m \u001B[1;33m*\u001B[0m \u001B[0mmissing\u001B[0m\u001B[1;33m.\u001B[0m\u001B[0msum\u001B[0m\u001B[1;33m(\u001B[0m\u001B[1;33m)\u001B[0m\u001B[1;33m\u001B[0m\u001B[1;33m\u001B[0m\u001B[0m\n\u001B[0m\u001B[0;32m    274\u001B[0m \u001B[1;33m\u001B[0m\u001B[0m\n\u001B[0;32m    275\u001B[0m     \u001B[1;32melse\u001B[0m\u001B[1;33m:\u001B[0m\u001B[1;33m\u001B[0m\u001B[1;33m\u001B[0m\u001B[0m\n",
      "\u001B[1;32mc:\\python38-32\\lib\\site-packages\\pandas\\core\\indexing.py\u001B[0m in \u001B[0;36m__setitem__\u001B[1;34m(self, key, value)\u001B[0m\n\u001B[0;32m    690\u001B[0m \u001B[1;33m\u001B[0m\u001B[0m\n\u001B[0;32m    691\u001B[0m         \u001B[0miloc\u001B[0m \u001B[1;33m=\u001B[0m \u001B[0mself\u001B[0m \u001B[1;32mif\u001B[0m \u001B[0mself\u001B[0m\u001B[1;33m.\u001B[0m\u001B[0mname\u001B[0m \u001B[1;33m==\u001B[0m \u001B[1;34m\"iloc\"\u001B[0m \u001B[1;32melse\u001B[0m \u001B[0mself\u001B[0m\u001B[1;33m.\u001B[0m\u001B[0mobj\u001B[0m\u001B[1;33m.\u001B[0m\u001B[0miloc\u001B[0m\u001B[1;33m\u001B[0m\u001B[1;33m\u001B[0m\u001B[0m\n\u001B[1;32m--> 692\u001B[1;33m         \u001B[0miloc\u001B[0m\u001B[1;33m.\u001B[0m\u001B[0m_setitem_with_indexer\u001B[0m\u001B[1;33m(\u001B[0m\u001B[0mindexer\u001B[0m\u001B[1;33m,\u001B[0m \u001B[0mvalue\u001B[0m\u001B[1;33m,\u001B[0m \u001B[0mself\u001B[0m\u001B[1;33m.\u001B[0m\u001B[0mname\u001B[0m\u001B[1;33m)\u001B[0m\u001B[1;33m\u001B[0m\u001B[1;33m\u001B[0m\u001B[0m\n\u001B[0m\u001B[0;32m    693\u001B[0m \u001B[1;33m\u001B[0m\u001B[0m\n\u001B[0;32m    694\u001B[0m     \u001B[1;32mdef\u001B[0m \u001B[0m_validate_key\u001B[0m\u001B[1;33m(\u001B[0m\u001B[0mself\u001B[0m\u001B[1;33m,\u001B[0m \u001B[0mkey\u001B[0m\u001B[1;33m,\u001B[0m \u001B[0maxis\u001B[0m\u001B[1;33m:\u001B[0m \u001B[0mint\u001B[0m\u001B[1;33m)\u001B[0m\u001B[1;33m:\u001B[0m\u001B[1;33m\u001B[0m\u001B[1;33m\u001B[0m\u001B[0m\n",
      "\u001B[1;32mc:\\python38-32\\lib\\site-packages\\pandas\\core\\indexing.py\u001B[0m in \u001B[0;36m_setitem_with_indexer\u001B[1;34m(self, indexer, value, name)\u001B[0m\n\u001B[0;32m   1635\u001B[0m             \u001B[0mself\u001B[0m\u001B[1;33m.\u001B[0m\u001B[0m_setitem_with_indexer_split_path\u001B[0m\u001B[1;33m(\u001B[0m\u001B[0mindexer\u001B[0m\u001B[1;33m,\u001B[0m \u001B[0mvalue\u001B[0m\u001B[1;33m,\u001B[0m \u001B[0mname\u001B[0m\u001B[1;33m)\u001B[0m\u001B[1;33m\u001B[0m\u001B[1;33m\u001B[0m\u001B[0m\n\u001B[0;32m   1636\u001B[0m         \u001B[1;32melse\u001B[0m\u001B[1;33m:\u001B[0m\u001B[1;33m\u001B[0m\u001B[1;33m\u001B[0m\u001B[0m\n\u001B[1;32m-> 1637\u001B[1;33m             \u001B[0mself\u001B[0m\u001B[1;33m.\u001B[0m\u001B[0m_setitem_single_block\u001B[0m\u001B[1;33m(\u001B[0m\u001B[0mindexer\u001B[0m\u001B[1;33m,\u001B[0m \u001B[0mvalue\u001B[0m\u001B[1;33m,\u001B[0m \u001B[0mname\u001B[0m\u001B[1;33m)\u001B[0m\u001B[1;33m\u001B[0m\u001B[1;33m\u001B[0m\u001B[0m\n\u001B[0m\u001B[0;32m   1638\u001B[0m \u001B[1;33m\u001B[0m\u001B[0m\n\u001B[0;32m   1639\u001B[0m     \u001B[1;32mdef\u001B[0m \u001B[0m_setitem_with_indexer_split_path\u001B[0m\u001B[1;33m(\u001B[0m\u001B[0mself\u001B[0m\u001B[1;33m,\u001B[0m \u001B[0mindexer\u001B[0m\u001B[1;33m,\u001B[0m \u001B[0mvalue\u001B[0m\u001B[1;33m,\u001B[0m \u001B[0mname\u001B[0m\u001B[1;33m:\u001B[0m \u001B[0mstr\u001B[0m\u001B[1;33m)\u001B[0m\u001B[1;33m:\u001B[0m\u001B[1;33m\u001B[0m\u001B[1;33m\u001B[0m\u001B[0m\n",
      "\u001B[1;32mc:\\python38-32\\lib\\site-packages\\pandas\\core\\indexing.py\u001B[0m in \u001B[0;36m_setitem_single_block\u001B[1;34m(self, indexer, value, name)\u001B[0m\n\u001B[0;32m   1859\u001B[0m         \u001B[1;31m# actually do the set\u001B[0m\u001B[1;33m\u001B[0m\u001B[1;33m\u001B[0m\u001B[1;33m\u001B[0m\u001B[0m\n\u001B[0;32m   1860\u001B[0m         \u001B[0mself\u001B[0m\u001B[1;33m.\u001B[0m\u001B[0mobj\u001B[0m\u001B[1;33m.\u001B[0m\u001B[0m_consolidate_inplace\u001B[0m\u001B[1;33m(\u001B[0m\u001B[1;33m)\u001B[0m\u001B[1;33m\u001B[0m\u001B[1;33m\u001B[0m\u001B[0m\n\u001B[1;32m-> 1861\u001B[1;33m         \u001B[0mself\u001B[0m\u001B[1;33m.\u001B[0m\u001B[0mobj\u001B[0m\u001B[1;33m.\u001B[0m\u001B[0m_mgr\u001B[0m \u001B[1;33m=\u001B[0m \u001B[0mself\u001B[0m\u001B[1;33m.\u001B[0m\u001B[0mobj\u001B[0m\u001B[1;33m.\u001B[0m\u001B[0m_mgr\u001B[0m\u001B[1;33m.\u001B[0m\u001B[0msetitem\u001B[0m\u001B[1;33m(\u001B[0m\u001B[0mindexer\u001B[0m\u001B[1;33m=\u001B[0m\u001B[0mindexer\u001B[0m\u001B[1;33m,\u001B[0m \u001B[0mvalue\u001B[0m\u001B[1;33m=\u001B[0m\u001B[0mvalue\u001B[0m\u001B[1;33m)\u001B[0m\u001B[1;33m\u001B[0m\u001B[1;33m\u001B[0m\u001B[0m\n\u001B[0m\u001B[0;32m   1862\u001B[0m         \u001B[0mself\u001B[0m\u001B[1;33m.\u001B[0m\u001B[0mobj\u001B[0m\u001B[1;33m.\u001B[0m\u001B[0m_maybe_update_cacher\u001B[0m\u001B[1;33m(\u001B[0m\u001B[0mclear\u001B[0m\u001B[1;33m=\u001B[0m\u001B[1;32mTrue\u001B[0m\u001B[1;33m)\u001B[0m\u001B[1;33m\u001B[0m\u001B[1;33m\u001B[0m\u001B[0m\n\u001B[0;32m   1863\u001B[0m \u001B[1;33m\u001B[0m\u001B[0m\n",
      "\u001B[1;32mc:\\python38-32\\lib\\site-packages\\pandas\\core\\internals\\managers.py\u001B[0m in \u001B[0;36msetitem\u001B[1;34m(self, indexer, value)\u001B[0m\n\u001B[0;32m    566\u001B[0m \u001B[1;33m\u001B[0m\u001B[0m\n\u001B[0;32m    567\u001B[0m     \u001B[1;32mdef\u001B[0m \u001B[0msetitem\u001B[0m\u001B[1;33m(\u001B[0m\u001B[0mself\u001B[0m\u001B[1;33m,\u001B[0m \u001B[0mindexer\u001B[0m\u001B[1;33m,\u001B[0m \u001B[0mvalue\u001B[0m\u001B[1;33m)\u001B[0m \u001B[1;33m->\u001B[0m \u001B[1;34m\"BlockManager\"\u001B[0m\u001B[1;33m:\u001B[0m\u001B[1;33m\u001B[0m\u001B[1;33m\u001B[0m\u001B[0m\n\u001B[1;32m--> 568\u001B[1;33m         \u001B[1;32mreturn\u001B[0m \u001B[0mself\u001B[0m\u001B[1;33m.\u001B[0m\u001B[0mapply\u001B[0m\u001B[1;33m(\u001B[0m\u001B[1;34m\"setitem\"\u001B[0m\u001B[1;33m,\u001B[0m \u001B[0mindexer\u001B[0m\u001B[1;33m=\u001B[0m\u001B[0mindexer\u001B[0m\u001B[1;33m,\u001B[0m \u001B[0mvalue\u001B[0m\u001B[1;33m=\u001B[0m\u001B[0mvalue\u001B[0m\u001B[1;33m)\u001B[0m\u001B[1;33m\u001B[0m\u001B[1;33m\u001B[0m\u001B[0m\n\u001B[0m\u001B[0;32m    569\u001B[0m \u001B[1;33m\u001B[0m\u001B[0m\n\u001B[0;32m    570\u001B[0m     \u001B[1;32mdef\u001B[0m \u001B[0mputmask\u001B[0m\u001B[1;33m(\u001B[0m\u001B[0mself\u001B[0m\u001B[1;33m,\u001B[0m \u001B[0mmask\u001B[0m\u001B[1;33m,\u001B[0m \u001B[0mnew\u001B[0m\u001B[1;33m,\u001B[0m \u001B[0malign\u001B[0m\u001B[1;33m:\u001B[0m \u001B[0mbool\u001B[0m \u001B[1;33m=\u001B[0m \u001B[1;32mTrue\u001B[0m\u001B[1;33m,\u001B[0m \u001B[0maxis\u001B[0m\u001B[1;33m:\u001B[0m \u001B[0mint\u001B[0m \u001B[1;33m=\u001B[0m \u001B[1;36m0\u001B[0m\u001B[1;33m)\u001B[0m\u001B[1;33m:\u001B[0m\u001B[1;33m\u001B[0m\u001B[1;33m\u001B[0m\u001B[0m\n",
      "\u001B[1;32mc:\\python38-32\\lib\\site-packages\\pandas\\core\\internals\\managers.py\u001B[0m in \u001B[0;36mapply\u001B[1;34m(self, f, align_keys, ignore_failures, **kwargs)\u001B[0m\n\u001B[0;32m    425\u001B[0m                     \u001B[0mapplied\u001B[0m \u001B[1;33m=\u001B[0m \u001B[0mb\u001B[0m\u001B[1;33m.\u001B[0m\u001B[0mapply\u001B[0m\u001B[1;33m(\u001B[0m\u001B[0mf\u001B[0m\u001B[1;33m,\u001B[0m \u001B[1;33m**\u001B[0m\u001B[0mkwargs\u001B[0m\u001B[1;33m)\u001B[0m\u001B[1;33m\u001B[0m\u001B[1;33m\u001B[0m\u001B[0m\n\u001B[0;32m    426\u001B[0m                 \u001B[1;32melse\u001B[0m\u001B[1;33m:\u001B[0m\u001B[1;33m\u001B[0m\u001B[1;33m\u001B[0m\u001B[0m\n\u001B[1;32m--> 427\u001B[1;33m                     \u001B[0mapplied\u001B[0m \u001B[1;33m=\u001B[0m \u001B[0mgetattr\u001B[0m\u001B[1;33m(\u001B[0m\u001B[0mb\u001B[0m\u001B[1;33m,\u001B[0m \u001B[0mf\u001B[0m\u001B[1;33m)\u001B[0m\u001B[1;33m(\u001B[0m\u001B[1;33m**\u001B[0m\u001B[0mkwargs\u001B[0m\u001B[1;33m)\u001B[0m\u001B[1;33m\u001B[0m\u001B[1;33m\u001B[0m\u001B[0m\n\u001B[0m\u001B[0;32m    428\u001B[0m             \u001B[1;32mexcept\u001B[0m \u001B[1;33m(\u001B[0m\u001B[0mTypeError\u001B[0m\u001B[1;33m,\u001B[0m \u001B[0mNotImplementedError\u001B[0m\u001B[1;33m)\u001B[0m\u001B[1;33m:\u001B[0m\u001B[1;33m\u001B[0m\u001B[1;33m\u001B[0m\u001B[0m\n\u001B[0;32m    429\u001B[0m                 \u001B[1;32mif\u001B[0m \u001B[1;32mnot\u001B[0m \u001B[0mignore_failures\u001B[0m\u001B[1;33m:\u001B[0m\u001B[1;33m\u001B[0m\u001B[1;33m\u001B[0m\u001B[0m\n",
      "\u001B[1;32mc:\\python38-32\\lib\\site-packages\\pandas\\core\\internals\\blocks.py\u001B[0m in \u001B[0;36msetitem\u001B[1;34m(self, indexer, value)\u001B[0m\n\u001B[0;32m   1033\u001B[0m         \u001B[1;31m# set\u001B[0m\u001B[1;33m\u001B[0m\u001B[1;33m\u001B[0m\u001B[1;33m\u001B[0m\u001B[0m\n\u001B[0;32m   1034\u001B[0m         \u001B[1;32melse\u001B[0m\u001B[1;33m:\u001B[0m\u001B[1;33m\u001B[0m\u001B[1;33m\u001B[0m\u001B[0m\n\u001B[1;32m-> 1035\u001B[1;33m             \u001B[0mvalues\u001B[0m\u001B[1;33m[\u001B[0m\u001B[0mindexer\u001B[0m\u001B[1;33m]\u001B[0m \u001B[1;33m=\u001B[0m \u001B[0mvalue\u001B[0m\u001B[1;33m\u001B[0m\u001B[1;33m\u001B[0m\u001B[0m\n\u001B[0m\u001B[0;32m   1036\u001B[0m \u001B[1;33m\u001B[0m\u001B[0m\n\u001B[0;32m   1037\u001B[0m         \u001B[1;32mif\u001B[0m \u001B[0mtranspose\u001B[0m\u001B[1;33m:\u001B[0m\u001B[1;33m\u001B[0m\u001B[1;33m\u001B[0m\u001B[0m\n",
      "\u001B[1;31mKeyboardInterrupt\u001B[0m: "
     ]
    }
   ],
   "source": [
    "\n",
    "chunksize=16\n",
    "df =[]\n",
    "\n",
    "cnt= 0\n",
    "\n",
    "\n",
    "with open('C:/Users/tjdal/PycharmProjects/Dacon/'\n",
    "                                   '플랫폼통합경진대회 데이터/KORAIL)플랫폼통합경진대회 데이터/'\n",
    "                                   '고객 특성별 철도서비스 이용정보(강릉,목포,전주)_2019.csv',encoding='utf-8')  as f:\n",
    "    while True:\n",
    "        if cnt ==0 :\n",
    "\n",
    "            df = pd.DataFrame(index=[], columns= ['운행일자','운행요일','구분','출발시간대','성별','연령대','고객등급_현재','출발역코드','출발역명','도착역코드','도착역명','상하행구분','노선','역무열차종코드','역무열차종','인원'])\n",
    "            continue\n",
    "        df.append(pd.Series(f.read(chunk_size)),ignore_index=True)\n",
    "        cnt += 16\n",
    "        if cnt == 1600:\n",
    "            break"
   ],
   "metadata": {
    "collapsed": false,
    "pycharm": {
     "name": "#%%\n"
    }
   }
  },
  {
   "cell_type": "code",
   "execution_count": 76,
   "outputs": [],
   "source": [
    "df_chunk = pd.read_csv('C:/Users/tjdal/PycharmProjects/Dacon/'\n",
    "                                   '플랫폼통합경진대회 데이터/KORAIL)플랫폼통합경진대회 데이터/'\n",
    "                                   '고객 특성별 철도서비스 이용정보(강릉,목포,전주)_2019.csv', iterator=True, chunksize=10000)  # gives"
   ],
   "metadata": {
    "collapsed": false,
    "pycharm": {
     "name": "#%%chunk_list = []  # append each chunk df here\n"
    }
   }
  },
  {
   "cell_type": "code",
   "execution_count": 69,
   "outputs": [
    {
     "data": {
      "text/plain": "<pandas.io.parsers.TextFileReader at 0x39eb6bc8>"
     },
     "execution_count": 69,
     "metadata": {},
     "output_type": "execute_result"
    }
   ],
   "source": [
    "df_chunk"
   ],
   "metadata": {
    "collapsed": false,
    "pycharm": {
     "name": "#%%\n"
    }
   }
  },
  {
   "cell_type": "code",
   "execution_count": 71,
   "outputs": [
    {
     "ename": "ValueError",
     "evalue": "No objects to concatenate",
     "output_type": "error",
     "traceback": [
      "\u001B[1;31m---------------------------------------------------------------------------\u001B[0m",
      "\u001B[1;31mValueError\u001B[0m                                Traceback (most recent call last)",
      "\u001B[1;32m~\\AppData\\Local\\Temp/ipykernel_13036/3016865558.py\u001B[0m in \u001B[0;36m<module>\u001B[1;34m\u001B[0m\n\u001B[0;32m     12\u001B[0m     \u001B[1;31m#     break\u001B[0m\u001B[1;33m\u001B[0m\u001B[1;33m\u001B[0m\u001B[1;33m\u001B[0m\u001B[0m\n\u001B[0;32m     13\u001B[0m \u001B[1;31m# concat the list into dataframe\u001B[0m\u001B[1;33m\u001B[0m\u001B[1;33m\u001B[0m\u001B[1;33m\u001B[0m\u001B[0m\n\u001B[1;32m---> 14\u001B[1;33m \u001B[0mdf_concat\u001B[0m \u001B[1;33m=\u001B[0m \u001B[0mpd\u001B[0m\u001B[1;33m.\u001B[0m\u001B[0mconcat\u001B[0m\u001B[1;33m(\u001B[0m\u001B[0mchunk_list\u001B[0m\u001B[1;33m)\u001B[0m\u001B[1;33m\u001B[0m\u001B[1;33m\u001B[0m\u001B[0m\n\u001B[0m",
      "\u001B[1;32mc:\\python38-32\\lib\\site-packages\\pandas\\core\\reshape\\concat.py\u001B[0m in \u001B[0;36mconcat\u001B[1;34m(objs, axis, join, ignore_index, keys, levels, names, verify_integrity, sort, copy)\u001B[0m\n\u001B[0;32m    283\u001B[0m     \u001B[0mValueError\u001B[0m\u001B[1;33m:\u001B[0m \u001B[0mIndexes\u001B[0m \u001B[0mhave\u001B[0m \u001B[0moverlapping\u001B[0m \u001B[0mvalues\u001B[0m\u001B[1;33m:\u001B[0m \u001B[1;33m[\u001B[0m\u001B[1;34m'a'\u001B[0m\u001B[1;33m]\u001B[0m\u001B[1;33m\u001B[0m\u001B[1;33m\u001B[0m\u001B[0m\n\u001B[0;32m    284\u001B[0m     \"\"\"\n\u001B[1;32m--> 285\u001B[1;33m     op = _Concatenator(\n\u001B[0m\u001B[0;32m    286\u001B[0m         \u001B[0mobjs\u001B[0m\u001B[1;33m,\u001B[0m\u001B[1;33m\u001B[0m\u001B[1;33m\u001B[0m\u001B[0m\n\u001B[0;32m    287\u001B[0m         \u001B[0maxis\u001B[0m\u001B[1;33m=\u001B[0m\u001B[0maxis\u001B[0m\u001B[1;33m,\u001B[0m\u001B[1;33m\u001B[0m\u001B[1;33m\u001B[0m\u001B[0m\n",
      "\u001B[1;32mc:\\python38-32\\lib\\site-packages\\pandas\\core\\reshape\\concat.py\u001B[0m in \u001B[0;36m__init__\u001B[1;34m(self, objs, axis, join, keys, levels, names, ignore_index, verify_integrity, copy, sort)\u001B[0m\n\u001B[0;32m    340\u001B[0m \u001B[1;33m\u001B[0m\u001B[0m\n\u001B[0;32m    341\u001B[0m         \u001B[1;32mif\u001B[0m \u001B[0mlen\u001B[0m\u001B[1;33m(\u001B[0m\u001B[0mobjs\u001B[0m\u001B[1;33m)\u001B[0m \u001B[1;33m==\u001B[0m \u001B[1;36m0\u001B[0m\u001B[1;33m:\u001B[0m\u001B[1;33m\u001B[0m\u001B[1;33m\u001B[0m\u001B[0m\n\u001B[1;32m--> 342\u001B[1;33m             \u001B[1;32mraise\u001B[0m \u001B[0mValueError\u001B[0m\u001B[1;33m(\u001B[0m\u001B[1;34m\"No objects to concatenate\"\u001B[0m\u001B[1;33m)\u001B[0m\u001B[1;33m\u001B[0m\u001B[1;33m\u001B[0m\u001B[0m\n\u001B[0m\u001B[0;32m    343\u001B[0m \u001B[1;33m\u001B[0m\u001B[0m\n\u001B[0;32m    344\u001B[0m         \u001B[1;32mif\u001B[0m \u001B[0mkeys\u001B[0m \u001B[1;32mis\u001B[0m \u001B[1;32mNone\u001B[0m\u001B[1;33m:\u001B[0m\u001B[1;33m\u001B[0m\u001B[1;33m\u001B[0m\u001B[0m\n",
      "\u001B[1;31mValueError\u001B[0m: No objects to concatenate"
     ]
    }
   ],
   "source": [],
   "metadata": {
    "collapsed": false,
    "pycharm": {
     "name": "#%%\n"
    }
   }
  },
  {
   "cell_type": "code",
   "execution_count": 77,
   "outputs": [],
   "source": [
    "chunk_list =[]\n",
    "chunk_cnt = 0\n",
    "# Each chunk is in df format\n",
    "for chunk in df_chunk:\n",
    "    # perform data filtering\n",
    "    #chunk_filter = chunk_preprocessing(chunk)\n",
    "\n",
    "    # Once the data filtering is done, append the chunk to list\n",
    "    chunk_list.append(chunk)\n",
    "    chunk_cnt += 1\n",
    "    if chunk_cnt > 50000:\n",
    "        break\n",
    "# concat the list into dataframe\n",
    "df_concat = pd.concat(chunk_list)"
   ],
   "metadata": {
    "collapsed": false,
    "pycharm": {
     "name": "#%%\n"
    }
   }
  },
  {
   "cell_type": "code",
   "execution_count": 65,
   "outputs": [
    {
     "data": {
      "text/plain": "            운행일자 운행요일   구분  출발시간대   성별     연령대 고객등급_현재    출발역코드  출발역명  \\\n0       20190301    금  비회원    0.0  NaN      기타     NaN  3900248    전주   \n1       20190301    금  비회원    0.0  NaN      기타     NaN  3900248    전주   \n2       20190301    금  비회원    0.0  NaN      기타     NaN  3900248    전주   \n3       20190301    금  비회원    2.0  NaN      기타     NaN  3900248    전주   \n4       20190301    금  비회원    2.0  NaN      기타     NaN  3900248    전주   \n...          ...  ...  ...    ...  ...     ...     ...      ...   ...   \n644268  20190531    금   회원   23.0    M  50~59세       F  3900884  천안아산   \n644269  20190531    금   회원   23.0    M  60~64세       F  3900025    용산   \n644270  20190531    금   회원   23.0    M  60~64세       F  3900130    양평   \n644271  20190531    금   회원   23.0    M   65세이상       A  3900030   영등포   \n644272  20190531    금   회원   23.0    M   65세이상       F  3900030   영등포   \n\n          도착역코드   도착역명 상하행구분    노선  역무열차종코드 역무열차종  인원  \n0       3900211     익산     U   943        2  무궁화호  12  \n1       3900259     남원     D  1040        2  무궁화호   4  \n2       3900279  여수엑스포     D  1040        2  무궁화호   1  \n3       3900276     여천     D  1040        2  무궁화호   3  \n4       3900259     남원     D  1040        2  무궁화호   4  \n...         ...    ...   ...   ...      ...   ...  ..  \n644268  3900242     목포     D  1773        0   KTX   2  \n644269  3900242     목포     D  1563        2  무궁화호   2  \n644270  3900587     강릉     D  1963        2  무궁화호   1  \n644271  3900242     목포     D  1563        2  무궁화호   1  \n644272  3900242     목포     D  1563        2  무궁화호   2  \n\n[644273 rows x 16 columns]",
      "text/html": "<div>\n<style scoped>\n    .dataframe tbody tr th:only-of-type {\n        vertical-align: middle;\n    }\n\n    .dataframe tbody tr th {\n        vertical-align: top;\n    }\n\n    .dataframe thead th {\n        text-align: right;\n    }\n</style>\n<table border=\"1\" class=\"dataframe\">\n  <thead>\n    <tr style=\"text-align: right;\">\n      <th></th>\n      <th>운행일자</th>\n      <th>운행요일</th>\n      <th>구분</th>\n      <th>출발시간대</th>\n      <th>성별</th>\n      <th>연령대</th>\n      <th>고객등급_현재</th>\n      <th>출발역코드</th>\n      <th>출발역명</th>\n      <th>도착역코드</th>\n      <th>도착역명</th>\n      <th>상하행구분</th>\n      <th>노선</th>\n      <th>역무열차종코드</th>\n      <th>역무열차종</th>\n      <th>인원</th>\n    </tr>\n  </thead>\n  <tbody>\n    <tr>\n      <th>0</th>\n      <td>20190301</td>\n      <td>금</td>\n      <td>비회원</td>\n      <td>0.0</td>\n      <td>NaN</td>\n      <td>기타</td>\n      <td>NaN</td>\n      <td>3900248</td>\n      <td>전주</td>\n      <td>3900211</td>\n      <td>익산</td>\n      <td>U</td>\n      <td>943</td>\n      <td>2</td>\n      <td>무궁화호</td>\n      <td>12</td>\n    </tr>\n    <tr>\n      <th>1</th>\n      <td>20190301</td>\n      <td>금</td>\n      <td>비회원</td>\n      <td>0.0</td>\n      <td>NaN</td>\n      <td>기타</td>\n      <td>NaN</td>\n      <td>3900248</td>\n      <td>전주</td>\n      <td>3900259</td>\n      <td>남원</td>\n      <td>D</td>\n      <td>1040</td>\n      <td>2</td>\n      <td>무궁화호</td>\n      <td>4</td>\n    </tr>\n    <tr>\n      <th>2</th>\n      <td>20190301</td>\n      <td>금</td>\n      <td>비회원</td>\n      <td>0.0</td>\n      <td>NaN</td>\n      <td>기타</td>\n      <td>NaN</td>\n      <td>3900248</td>\n      <td>전주</td>\n      <td>3900279</td>\n      <td>여수엑스포</td>\n      <td>D</td>\n      <td>1040</td>\n      <td>2</td>\n      <td>무궁화호</td>\n      <td>1</td>\n    </tr>\n    <tr>\n      <th>3</th>\n      <td>20190301</td>\n      <td>금</td>\n      <td>비회원</td>\n      <td>2.0</td>\n      <td>NaN</td>\n      <td>기타</td>\n      <td>NaN</td>\n      <td>3900248</td>\n      <td>전주</td>\n      <td>3900276</td>\n      <td>여천</td>\n      <td>D</td>\n      <td>1040</td>\n      <td>2</td>\n      <td>무궁화호</td>\n      <td>3</td>\n    </tr>\n    <tr>\n      <th>4</th>\n      <td>20190301</td>\n      <td>금</td>\n      <td>비회원</td>\n      <td>2.0</td>\n      <td>NaN</td>\n      <td>기타</td>\n      <td>NaN</td>\n      <td>3900248</td>\n      <td>전주</td>\n      <td>3900259</td>\n      <td>남원</td>\n      <td>D</td>\n      <td>1040</td>\n      <td>2</td>\n      <td>무궁화호</td>\n      <td>4</td>\n    </tr>\n    <tr>\n      <th>...</th>\n      <td>...</td>\n      <td>...</td>\n      <td>...</td>\n      <td>...</td>\n      <td>...</td>\n      <td>...</td>\n      <td>...</td>\n      <td>...</td>\n      <td>...</td>\n      <td>...</td>\n      <td>...</td>\n      <td>...</td>\n      <td>...</td>\n      <td>...</td>\n      <td>...</td>\n      <td>...</td>\n    </tr>\n    <tr>\n      <th>644268</th>\n      <td>20190531</td>\n      <td>금</td>\n      <td>회원</td>\n      <td>23.0</td>\n      <td>M</td>\n      <td>50~59세</td>\n      <td>F</td>\n      <td>3900884</td>\n      <td>천안아산</td>\n      <td>3900242</td>\n      <td>목포</td>\n      <td>D</td>\n      <td>1773</td>\n      <td>0</td>\n      <td>KTX</td>\n      <td>2</td>\n    </tr>\n    <tr>\n      <th>644269</th>\n      <td>20190531</td>\n      <td>금</td>\n      <td>회원</td>\n      <td>23.0</td>\n      <td>M</td>\n      <td>60~64세</td>\n      <td>F</td>\n      <td>3900025</td>\n      <td>용산</td>\n      <td>3900242</td>\n      <td>목포</td>\n      <td>D</td>\n      <td>1563</td>\n      <td>2</td>\n      <td>무궁화호</td>\n      <td>2</td>\n    </tr>\n    <tr>\n      <th>644270</th>\n      <td>20190531</td>\n      <td>금</td>\n      <td>회원</td>\n      <td>23.0</td>\n      <td>M</td>\n      <td>60~64세</td>\n      <td>F</td>\n      <td>3900130</td>\n      <td>양평</td>\n      <td>3900587</td>\n      <td>강릉</td>\n      <td>D</td>\n      <td>1963</td>\n      <td>2</td>\n      <td>무궁화호</td>\n      <td>1</td>\n    </tr>\n    <tr>\n      <th>644271</th>\n      <td>20190531</td>\n      <td>금</td>\n      <td>회원</td>\n      <td>23.0</td>\n      <td>M</td>\n      <td>65세이상</td>\n      <td>A</td>\n      <td>3900030</td>\n      <td>영등포</td>\n      <td>3900242</td>\n      <td>목포</td>\n      <td>D</td>\n      <td>1563</td>\n      <td>2</td>\n      <td>무궁화호</td>\n      <td>1</td>\n    </tr>\n    <tr>\n      <th>644272</th>\n      <td>20190531</td>\n      <td>금</td>\n      <td>회원</td>\n      <td>23.0</td>\n      <td>M</td>\n      <td>65세이상</td>\n      <td>F</td>\n      <td>3900030</td>\n      <td>영등포</td>\n      <td>3900242</td>\n      <td>목포</td>\n      <td>D</td>\n      <td>1563</td>\n      <td>2</td>\n      <td>무궁화호</td>\n      <td>2</td>\n    </tr>\n  </tbody>\n</table>\n<p>644273 rows × 16 columns</p>\n</div>"
     },
     "execution_count": 65,
     "metadata": {},
     "output_type": "execute_result"
    }
   ],
   "source": [],
   "metadata": {
    "collapsed": false,
    "pycharm": {
     "name": "#%%\n"
    }
   }
  },
  {
   "cell_type": "code",
   "execution_count": 78,
   "outputs": [
    {
     "data": {
      "text/plain": "            운행일자 운행요일   구분  출발시간대   성별     연령대 고객등급_현재    출발역코드  출발역명  \\\n0       20190301    금  비회원    0.0  NaN      기타     NaN  3900248    전주   \n1       20190301    금  비회원    0.0  NaN      기타     NaN  3900248    전주   \n2       20190301    금  비회원    0.0  NaN      기타     NaN  3900248    전주   \n3       20190301    금  비회원    2.0  NaN      기타     NaN  3900248    전주   \n4       20190301    금  비회원    2.0  NaN      기타     NaN  3900248    전주   \n...          ...  ...  ...    ...  ...     ...     ...      ...   ...   \n644268  20190531    금   회원   23.0    M  50~59세       F  3900884  천안아산   \n644269  20190531    금   회원   23.0    M  60~64세       F  3900025    용산   \n644270  20190531    금   회원   23.0    M  60~64세       F  3900130    양평   \n644271  20190531    금   회원   23.0    M   65세이상       A  3900030   영등포   \n644272  20190531    금   회원   23.0    M   65세이상       F  3900030   영등포   \n\n          도착역코드   도착역명 상하행구분    노선  역무열차종코드 역무열차종  인원  \n0       3900211     익산     U   943        2  무궁화호  12  \n1       3900259     남원     D  1040        2  무궁화호   4  \n2       3900279  여수엑스포     D  1040        2  무궁화호   1  \n3       3900276     여천     D  1040        2  무궁화호   3  \n4       3900259     남원     D  1040        2  무궁화호   4  \n...         ...    ...   ...   ...      ...   ...  ..  \n644268  3900242     목포     D  1773        0   KTX   2  \n644269  3900242     목포     D  1563        2  무궁화호   2  \n644270  3900587     강릉     D  1963        2  무궁화호   1  \n644271  3900242     목포     D  1563        2  무궁화호   1  \n644272  3900242     목포     D  1563        2  무궁화호   2  \n\n[644273 rows x 16 columns]",
      "text/html": "<div>\n<style scoped>\n    .dataframe tbody tr th:only-of-type {\n        vertical-align: middle;\n    }\n\n    .dataframe tbody tr th {\n        vertical-align: top;\n    }\n\n    .dataframe thead th {\n        text-align: right;\n    }\n</style>\n<table border=\"1\" class=\"dataframe\">\n  <thead>\n    <tr style=\"text-align: right;\">\n      <th></th>\n      <th>운행일자</th>\n      <th>운행요일</th>\n      <th>구분</th>\n      <th>출발시간대</th>\n      <th>성별</th>\n      <th>연령대</th>\n      <th>고객등급_현재</th>\n      <th>출발역코드</th>\n      <th>출발역명</th>\n      <th>도착역코드</th>\n      <th>도착역명</th>\n      <th>상하행구분</th>\n      <th>노선</th>\n      <th>역무열차종코드</th>\n      <th>역무열차종</th>\n      <th>인원</th>\n    </tr>\n  </thead>\n  <tbody>\n    <tr>\n      <th>0</th>\n      <td>20190301</td>\n      <td>금</td>\n      <td>비회원</td>\n      <td>0.0</td>\n      <td>NaN</td>\n      <td>기타</td>\n      <td>NaN</td>\n      <td>3900248</td>\n      <td>전주</td>\n      <td>3900211</td>\n      <td>익산</td>\n      <td>U</td>\n      <td>943</td>\n      <td>2</td>\n      <td>무궁화호</td>\n      <td>12</td>\n    </tr>\n    <tr>\n      <th>1</th>\n      <td>20190301</td>\n      <td>금</td>\n      <td>비회원</td>\n      <td>0.0</td>\n      <td>NaN</td>\n      <td>기타</td>\n      <td>NaN</td>\n      <td>3900248</td>\n      <td>전주</td>\n      <td>3900259</td>\n      <td>남원</td>\n      <td>D</td>\n      <td>1040</td>\n      <td>2</td>\n      <td>무궁화호</td>\n      <td>4</td>\n    </tr>\n    <tr>\n      <th>2</th>\n      <td>20190301</td>\n      <td>금</td>\n      <td>비회원</td>\n      <td>0.0</td>\n      <td>NaN</td>\n      <td>기타</td>\n      <td>NaN</td>\n      <td>3900248</td>\n      <td>전주</td>\n      <td>3900279</td>\n      <td>여수엑스포</td>\n      <td>D</td>\n      <td>1040</td>\n      <td>2</td>\n      <td>무궁화호</td>\n      <td>1</td>\n    </tr>\n    <tr>\n      <th>3</th>\n      <td>20190301</td>\n      <td>금</td>\n      <td>비회원</td>\n      <td>2.0</td>\n      <td>NaN</td>\n      <td>기타</td>\n      <td>NaN</td>\n      <td>3900248</td>\n      <td>전주</td>\n      <td>3900276</td>\n      <td>여천</td>\n      <td>D</td>\n      <td>1040</td>\n      <td>2</td>\n      <td>무궁화호</td>\n      <td>3</td>\n    </tr>\n    <tr>\n      <th>4</th>\n      <td>20190301</td>\n      <td>금</td>\n      <td>비회원</td>\n      <td>2.0</td>\n      <td>NaN</td>\n      <td>기타</td>\n      <td>NaN</td>\n      <td>3900248</td>\n      <td>전주</td>\n      <td>3900259</td>\n      <td>남원</td>\n      <td>D</td>\n      <td>1040</td>\n      <td>2</td>\n      <td>무궁화호</td>\n      <td>4</td>\n    </tr>\n    <tr>\n      <th>...</th>\n      <td>...</td>\n      <td>...</td>\n      <td>...</td>\n      <td>...</td>\n      <td>...</td>\n      <td>...</td>\n      <td>...</td>\n      <td>...</td>\n      <td>...</td>\n      <td>...</td>\n      <td>...</td>\n      <td>...</td>\n      <td>...</td>\n      <td>...</td>\n      <td>...</td>\n      <td>...</td>\n    </tr>\n    <tr>\n      <th>644268</th>\n      <td>20190531</td>\n      <td>금</td>\n      <td>회원</td>\n      <td>23.0</td>\n      <td>M</td>\n      <td>50~59세</td>\n      <td>F</td>\n      <td>3900884</td>\n      <td>천안아산</td>\n      <td>3900242</td>\n      <td>목포</td>\n      <td>D</td>\n      <td>1773</td>\n      <td>0</td>\n      <td>KTX</td>\n      <td>2</td>\n    </tr>\n    <tr>\n      <th>644269</th>\n      <td>20190531</td>\n      <td>금</td>\n      <td>회원</td>\n      <td>23.0</td>\n      <td>M</td>\n      <td>60~64세</td>\n      <td>F</td>\n      <td>3900025</td>\n      <td>용산</td>\n      <td>3900242</td>\n      <td>목포</td>\n      <td>D</td>\n      <td>1563</td>\n      <td>2</td>\n      <td>무궁화호</td>\n      <td>2</td>\n    </tr>\n    <tr>\n      <th>644270</th>\n      <td>20190531</td>\n      <td>금</td>\n      <td>회원</td>\n      <td>23.0</td>\n      <td>M</td>\n      <td>60~64세</td>\n      <td>F</td>\n      <td>3900130</td>\n      <td>양평</td>\n      <td>3900587</td>\n      <td>강릉</td>\n      <td>D</td>\n      <td>1963</td>\n      <td>2</td>\n      <td>무궁화호</td>\n      <td>1</td>\n    </tr>\n    <tr>\n      <th>644271</th>\n      <td>20190531</td>\n      <td>금</td>\n      <td>회원</td>\n      <td>23.0</td>\n      <td>M</td>\n      <td>65세이상</td>\n      <td>A</td>\n      <td>3900030</td>\n      <td>영등포</td>\n      <td>3900242</td>\n      <td>목포</td>\n      <td>D</td>\n      <td>1563</td>\n      <td>2</td>\n      <td>무궁화호</td>\n      <td>1</td>\n    </tr>\n    <tr>\n      <th>644272</th>\n      <td>20190531</td>\n      <td>금</td>\n      <td>회원</td>\n      <td>23.0</td>\n      <td>M</td>\n      <td>65세이상</td>\n      <td>F</td>\n      <td>3900030</td>\n      <td>영등포</td>\n      <td>3900242</td>\n      <td>목포</td>\n      <td>D</td>\n      <td>1563</td>\n      <td>2</td>\n      <td>무궁화호</td>\n      <td>2</td>\n    </tr>\n  </tbody>\n</table>\n<p>644273 rows × 16 columns</p>\n</div>"
     },
     "execution_count": 78,
     "metadata": {},
     "output_type": "execute_result"
    }
   ],
   "source": [
    "df_concat\n"
   ],
   "metadata": {
    "collapsed": false,
    "pycharm": {
     "name": "#%%\n"
    }
   }
  },
  {
   "cell_type": "code",
   "execution_count": null,
   "outputs": [],
   "source": [
    "pd.DataFrame(index=[],columns=[df[0]])\n"
   ],
   "metadata": {
    "collapsed": false,
    "pycharm": {
     "name": "#%%\n"
    }
   }
  },
  {
   "cell_type": "code",
   "execution_count": 27,
   "outputs": [
    {
     "data": {
      "text/plain": "            운행일자 운행요일  구분  출발시간대 성별     연령대 고객등급_현재    출발역코드   출발역명    도착역코드  \\\n640000  20190530    목  회원   22.0  M  20~29세       F  3900271     순천  3900248   \n640001  20190530    목  회원   22.0  M  20~29세       F  3900279  여수엑스포  3900248   \n640002  20190530    목  회원   22.0  M  20~29세       F  3900388    청량리  3900587   \n640003  20190530    목  회원   22.0  M  30~39세       B  3900023     서울  3900587   \n640004  20190530    목  회원   22.0  M  30~39세       B  3900388    청량리  3900587   \n...          ...  ...  ..    ... ..     ...     ...      ...    ...      ...   \n644268  20190531    금  회원   23.0  M  50~59세       F  3900884   천안아산  3900242   \n644269  20190531    금  회원   23.0  M  60~64세       F  3900025     용산  3900242   \n644270  20190531    금  회원   23.0  M  60~64세       F  3900130     양평  3900587   \n644271  20190531    금  회원   23.0  M   65세이상       A  3900030    영등포  3900242   \n644272  20190531    금  회원   23.0  M   65세이상       F  3900030    영등포  3900242   \n\n       도착역명 상하행구분    노선  역무열차종코드   역무열차종  인원  \n640000   전주     U  1786        7  KTX-산천   1  \n640001   전주     U   943        2    무궁화호   2  \n640002   강릉     D  2041       10  KTX-호남   1  \n640003   강릉     D  2041       10  KTX-호남   1  \n640004   강릉     D  2041       10  KTX-호남   2  \n...     ...   ...   ...      ...     ...  ..  \n644268   목포     D  1773        0     KTX   2  \n644269   목포     D  1563        2    무궁화호   2  \n644270   강릉     D  1963        2    무궁화호   1  \n644271   목포     D  1563        2    무궁화호   1  \n644272   목포     D  1563        2    무궁화호   2  \n\n[4273 rows x 16 columns]",
      "text/html": "<div>\n<style scoped>\n    .dataframe tbody tr th:only-of-type {\n        vertical-align: middle;\n    }\n\n    .dataframe tbody tr th {\n        vertical-align: top;\n    }\n\n    .dataframe thead th {\n        text-align: right;\n    }\n</style>\n<table border=\"1\" class=\"dataframe\">\n  <thead>\n    <tr style=\"text-align: right;\">\n      <th></th>\n      <th>운행일자</th>\n      <th>운행요일</th>\n      <th>구분</th>\n      <th>출발시간대</th>\n      <th>성별</th>\n      <th>연령대</th>\n      <th>고객등급_현재</th>\n      <th>출발역코드</th>\n      <th>출발역명</th>\n      <th>도착역코드</th>\n      <th>도착역명</th>\n      <th>상하행구분</th>\n      <th>노선</th>\n      <th>역무열차종코드</th>\n      <th>역무열차종</th>\n      <th>인원</th>\n    </tr>\n  </thead>\n  <tbody>\n    <tr>\n      <th>640000</th>\n      <td>20190530</td>\n      <td>목</td>\n      <td>회원</td>\n      <td>22.0</td>\n      <td>M</td>\n      <td>20~29세</td>\n      <td>F</td>\n      <td>3900271</td>\n      <td>순천</td>\n      <td>3900248</td>\n      <td>전주</td>\n      <td>U</td>\n      <td>1786</td>\n      <td>7</td>\n      <td>KTX-산천</td>\n      <td>1</td>\n    </tr>\n    <tr>\n      <th>640001</th>\n      <td>20190530</td>\n      <td>목</td>\n      <td>회원</td>\n      <td>22.0</td>\n      <td>M</td>\n      <td>20~29세</td>\n      <td>F</td>\n      <td>3900279</td>\n      <td>여수엑스포</td>\n      <td>3900248</td>\n      <td>전주</td>\n      <td>U</td>\n      <td>943</td>\n      <td>2</td>\n      <td>무궁화호</td>\n      <td>2</td>\n    </tr>\n    <tr>\n      <th>640002</th>\n      <td>20190530</td>\n      <td>목</td>\n      <td>회원</td>\n      <td>22.0</td>\n      <td>M</td>\n      <td>20~29세</td>\n      <td>F</td>\n      <td>3900388</td>\n      <td>청량리</td>\n      <td>3900587</td>\n      <td>강릉</td>\n      <td>D</td>\n      <td>2041</td>\n      <td>10</td>\n      <td>KTX-호남</td>\n      <td>1</td>\n    </tr>\n    <tr>\n      <th>640003</th>\n      <td>20190530</td>\n      <td>목</td>\n      <td>회원</td>\n      <td>22.0</td>\n      <td>M</td>\n      <td>30~39세</td>\n      <td>B</td>\n      <td>3900023</td>\n      <td>서울</td>\n      <td>3900587</td>\n      <td>강릉</td>\n      <td>D</td>\n      <td>2041</td>\n      <td>10</td>\n      <td>KTX-호남</td>\n      <td>1</td>\n    </tr>\n    <tr>\n      <th>640004</th>\n      <td>20190530</td>\n      <td>목</td>\n      <td>회원</td>\n      <td>22.0</td>\n      <td>M</td>\n      <td>30~39세</td>\n      <td>B</td>\n      <td>3900388</td>\n      <td>청량리</td>\n      <td>3900587</td>\n      <td>강릉</td>\n      <td>D</td>\n      <td>2041</td>\n      <td>10</td>\n      <td>KTX-호남</td>\n      <td>2</td>\n    </tr>\n    <tr>\n      <th>...</th>\n      <td>...</td>\n      <td>...</td>\n      <td>...</td>\n      <td>...</td>\n      <td>...</td>\n      <td>...</td>\n      <td>...</td>\n      <td>...</td>\n      <td>...</td>\n      <td>...</td>\n      <td>...</td>\n      <td>...</td>\n      <td>...</td>\n      <td>...</td>\n      <td>...</td>\n      <td>...</td>\n    </tr>\n    <tr>\n      <th>644268</th>\n      <td>20190531</td>\n      <td>금</td>\n      <td>회원</td>\n      <td>23.0</td>\n      <td>M</td>\n      <td>50~59세</td>\n      <td>F</td>\n      <td>3900884</td>\n      <td>천안아산</td>\n      <td>3900242</td>\n      <td>목포</td>\n      <td>D</td>\n      <td>1773</td>\n      <td>0</td>\n      <td>KTX</td>\n      <td>2</td>\n    </tr>\n    <tr>\n      <th>644269</th>\n      <td>20190531</td>\n      <td>금</td>\n      <td>회원</td>\n      <td>23.0</td>\n      <td>M</td>\n      <td>60~64세</td>\n      <td>F</td>\n      <td>3900025</td>\n      <td>용산</td>\n      <td>3900242</td>\n      <td>목포</td>\n      <td>D</td>\n      <td>1563</td>\n      <td>2</td>\n      <td>무궁화호</td>\n      <td>2</td>\n    </tr>\n    <tr>\n      <th>644270</th>\n      <td>20190531</td>\n      <td>금</td>\n      <td>회원</td>\n      <td>23.0</td>\n      <td>M</td>\n      <td>60~64세</td>\n      <td>F</td>\n      <td>3900130</td>\n      <td>양평</td>\n      <td>3900587</td>\n      <td>강릉</td>\n      <td>D</td>\n      <td>1963</td>\n      <td>2</td>\n      <td>무궁화호</td>\n      <td>1</td>\n    </tr>\n    <tr>\n      <th>644271</th>\n      <td>20190531</td>\n      <td>금</td>\n      <td>회원</td>\n      <td>23.0</td>\n      <td>M</td>\n      <td>65세이상</td>\n      <td>A</td>\n      <td>3900030</td>\n      <td>영등포</td>\n      <td>3900242</td>\n      <td>목포</td>\n      <td>D</td>\n      <td>1563</td>\n      <td>2</td>\n      <td>무궁화호</td>\n      <td>1</td>\n    </tr>\n    <tr>\n      <th>644272</th>\n      <td>20190531</td>\n      <td>금</td>\n      <td>회원</td>\n      <td>23.0</td>\n      <td>M</td>\n      <td>65세이상</td>\n      <td>F</td>\n      <td>3900030</td>\n      <td>영등포</td>\n      <td>3900242</td>\n      <td>목포</td>\n      <td>D</td>\n      <td>1563</td>\n      <td>2</td>\n      <td>무궁화호</td>\n      <td>2</td>\n    </tr>\n  </tbody>\n</table>\n<p>4273 rows × 16 columns</p>\n</div>"
     },
     "execution_count": 27,
     "metadata": {},
     "output_type": "execute_result"
    }
   ],
   "source": [
    "chunk"
   ],
   "metadata": {
    "collapsed": false,
    "pycharm": {
     "name": "#%%\n"
    }
   }
  },
  {
   "cell_type": "code",
   "execution_count": 24,
   "outputs": [
    {
     "data": {
      "text/plain": "            운행일자 운행요일   구분  출발시간대   성별     연령대 고객등급_현재    출발역코드  출발역명  \\\n0       20190301    금  비회원    0.0  NaN      기타     NaN  3900248    전주   \n1       20190301    금  비회원    0.0  NaN      기타     NaN  3900248    전주   \n2       20190301    금  비회원    0.0  NaN      기타     NaN  3900248    전주   \n3       20190301    금  비회원    2.0  NaN      기타     NaN  3900248    전주   \n4       20190301    금  비회원    2.0  NaN      기타     NaN  3900248    전주   \n...          ...  ...  ...    ...  ...     ...     ...      ...   ...   \n644268  20190531    금   회원   23.0    M  50~59세       F  3900884  천안아산   \n644269  20190531    금   회원   23.0    M  60~64세       F  3900025    용산   \n644270  20190531    금   회원   23.0    M  60~64세       F  3900130    양평   \n644271  20190531    금   회원   23.0    M   65세이상       A  3900030   영등포   \n644272  20190531    금   회원   23.0    M   65세이상       F  3900030   영등포   \n\n          도착역코드   도착역명 상하행구분    노선  역무열차종코드 역무열차종  인원  \n0       3900211     익산     U   943        2  무궁화호  12  \n1       3900259     남원     D  1040        2  무궁화호   4  \n2       3900279  여수엑스포     D  1040        2  무궁화호   1  \n3       3900276     여천     D  1040        2  무궁화호   3  \n4       3900259     남원     D  1040        2  무궁화호   4  \n...         ...    ...   ...   ...      ...   ...  ..  \n644268  3900242     목포     D  1773        0   KTX   2  \n644269  3900242     목포     D  1563        2  무궁화호   2  \n644270  3900587     강릉     D  1963        2  무궁화호   1  \n644271  3900242     목포     D  1563        2  무궁화호   1  \n644272  3900242     목포     D  1563        2  무궁화호   2  \n\n[644273 rows x 16 columns]",
      "text/html": "<div>\n<style scoped>\n    .dataframe tbody tr th:only-of-type {\n        vertical-align: middle;\n    }\n\n    .dataframe tbody tr th {\n        vertical-align: top;\n    }\n\n    .dataframe thead th {\n        text-align: right;\n    }\n</style>\n<table border=\"1\" class=\"dataframe\">\n  <thead>\n    <tr style=\"text-align: right;\">\n      <th></th>\n      <th>운행일자</th>\n      <th>운행요일</th>\n      <th>구분</th>\n      <th>출발시간대</th>\n      <th>성별</th>\n      <th>연령대</th>\n      <th>고객등급_현재</th>\n      <th>출발역코드</th>\n      <th>출발역명</th>\n      <th>도착역코드</th>\n      <th>도착역명</th>\n      <th>상하행구분</th>\n      <th>노선</th>\n      <th>역무열차종코드</th>\n      <th>역무열차종</th>\n      <th>인원</th>\n    </tr>\n  </thead>\n  <tbody>\n    <tr>\n      <th>0</th>\n      <td>20190301</td>\n      <td>금</td>\n      <td>비회원</td>\n      <td>0.0</td>\n      <td>NaN</td>\n      <td>기타</td>\n      <td>NaN</td>\n      <td>3900248</td>\n      <td>전주</td>\n      <td>3900211</td>\n      <td>익산</td>\n      <td>U</td>\n      <td>943</td>\n      <td>2</td>\n      <td>무궁화호</td>\n      <td>12</td>\n    </tr>\n    <tr>\n      <th>1</th>\n      <td>20190301</td>\n      <td>금</td>\n      <td>비회원</td>\n      <td>0.0</td>\n      <td>NaN</td>\n      <td>기타</td>\n      <td>NaN</td>\n      <td>3900248</td>\n      <td>전주</td>\n      <td>3900259</td>\n      <td>남원</td>\n      <td>D</td>\n      <td>1040</td>\n      <td>2</td>\n      <td>무궁화호</td>\n      <td>4</td>\n    </tr>\n    <tr>\n      <th>2</th>\n      <td>20190301</td>\n      <td>금</td>\n      <td>비회원</td>\n      <td>0.0</td>\n      <td>NaN</td>\n      <td>기타</td>\n      <td>NaN</td>\n      <td>3900248</td>\n      <td>전주</td>\n      <td>3900279</td>\n      <td>여수엑스포</td>\n      <td>D</td>\n      <td>1040</td>\n      <td>2</td>\n      <td>무궁화호</td>\n      <td>1</td>\n    </tr>\n    <tr>\n      <th>3</th>\n      <td>20190301</td>\n      <td>금</td>\n      <td>비회원</td>\n      <td>2.0</td>\n      <td>NaN</td>\n      <td>기타</td>\n      <td>NaN</td>\n      <td>3900248</td>\n      <td>전주</td>\n      <td>3900276</td>\n      <td>여천</td>\n      <td>D</td>\n      <td>1040</td>\n      <td>2</td>\n      <td>무궁화호</td>\n      <td>3</td>\n    </tr>\n    <tr>\n      <th>4</th>\n      <td>20190301</td>\n      <td>금</td>\n      <td>비회원</td>\n      <td>2.0</td>\n      <td>NaN</td>\n      <td>기타</td>\n      <td>NaN</td>\n      <td>3900248</td>\n      <td>전주</td>\n      <td>3900259</td>\n      <td>남원</td>\n      <td>D</td>\n      <td>1040</td>\n      <td>2</td>\n      <td>무궁화호</td>\n      <td>4</td>\n    </tr>\n    <tr>\n      <th>...</th>\n      <td>...</td>\n      <td>...</td>\n      <td>...</td>\n      <td>...</td>\n      <td>...</td>\n      <td>...</td>\n      <td>...</td>\n      <td>...</td>\n      <td>...</td>\n      <td>...</td>\n      <td>...</td>\n      <td>...</td>\n      <td>...</td>\n      <td>...</td>\n      <td>...</td>\n      <td>...</td>\n    </tr>\n    <tr>\n      <th>644268</th>\n      <td>20190531</td>\n      <td>금</td>\n      <td>회원</td>\n      <td>23.0</td>\n      <td>M</td>\n      <td>50~59세</td>\n      <td>F</td>\n      <td>3900884</td>\n      <td>천안아산</td>\n      <td>3900242</td>\n      <td>목포</td>\n      <td>D</td>\n      <td>1773</td>\n      <td>0</td>\n      <td>KTX</td>\n      <td>2</td>\n    </tr>\n    <tr>\n      <th>644269</th>\n      <td>20190531</td>\n      <td>금</td>\n      <td>회원</td>\n      <td>23.0</td>\n      <td>M</td>\n      <td>60~64세</td>\n      <td>F</td>\n      <td>3900025</td>\n      <td>용산</td>\n      <td>3900242</td>\n      <td>목포</td>\n      <td>D</td>\n      <td>1563</td>\n      <td>2</td>\n      <td>무궁화호</td>\n      <td>2</td>\n    </tr>\n    <tr>\n      <th>644270</th>\n      <td>20190531</td>\n      <td>금</td>\n      <td>회원</td>\n      <td>23.0</td>\n      <td>M</td>\n      <td>60~64세</td>\n      <td>F</td>\n      <td>3900130</td>\n      <td>양평</td>\n      <td>3900587</td>\n      <td>강릉</td>\n      <td>D</td>\n      <td>1963</td>\n      <td>2</td>\n      <td>무궁화호</td>\n      <td>1</td>\n    </tr>\n    <tr>\n      <th>644271</th>\n      <td>20190531</td>\n      <td>금</td>\n      <td>회원</td>\n      <td>23.0</td>\n      <td>M</td>\n      <td>65세이상</td>\n      <td>A</td>\n      <td>3900030</td>\n      <td>영등포</td>\n      <td>3900242</td>\n      <td>목포</td>\n      <td>D</td>\n      <td>1563</td>\n      <td>2</td>\n      <td>무궁화호</td>\n      <td>1</td>\n    </tr>\n    <tr>\n      <th>644272</th>\n      <td>20190531</td>\n      <td>금</td>\n      <td>회원</td>\n      <td>23.0</td>\n      <td>M</td>\n      <td>65세이상</td>\n      <td>F</td>\n      <td>3900030</td>\n      <td>영등포</td>\n      <td>3900242</td>\n      <td>목포</td>\n      <td>D</td>\n      <td>1563</td>\n      <td>2</td>\n      <td>무궁화호</td>\n      <td>2</td>\n    </tr>\n  </tbody>\n</table>\n<p>644273 rows × 16 columns</p>\n</div>"
     },
     "execution_count": 24,
     "metadata": {},
     "output_type": "execute_result"
    }
   ],
   "source": [
    "df"
   ],
   "metadata": {
    "collapsed": false,
    "pycharm": {
     "name": "#%%\n"
    }
   }
  },
  {
   "cell_type": "code",
   "execution_count": 25,
   "outputs": [
    {
     "data": {
      "text/plain": "(644273, 16)"
     },
     "execution_count": 25,
     "metadata": {},
     "output_type": "execute_result"
    }
   ],
   "source": [
    "df.shape\n"
   ],
   "metadata": {
    "collapsed": false,
    "pycharm": {
     "name": "#%%\n"
    }
   }
  },
  {
   "cell_type": "code",
   "execution_count": null,
   "outputs": [],
   "source": [],
   "metadata": {
    "collapsed": false,
    "pycharm": {
     "name": "#%%\n"
    }
   }
  }
 ],
 "metadata": {
  "kernelspec": {
   "display_name": "Python 3",
   "language": "python",
   "name": "python3"
  },
  "language_info": {
   "codemirror_mode": {
    "name": "ipython",
    "version": 2
   },
   "file_extension": ".py",
   "mimetype": "text/x-python",
   "name": "python",
   "nbconvert_exporter": "python",
   "pygments_lexer": "ipython2",
   "version": "2.7.6"
  }
 },
 "nbformat": 4,
 "nbformat_minor": 0
}
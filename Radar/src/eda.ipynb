{
 "cells": [
  {
   "cell_type": "code",
   "execution_count": 35,
   "metadata": {
    "collapsed": true
   },
   "outputs": [],
   "source": [
    "import seaborn as sns\n",
    "import pandas as pd"
   ]
  },
  {
   "cell_type": "code",
   "execution_count": 3,
   "outputs": [
    {
     "data": {
      "text/plain": "'C:\\\\Users\\\\DATA\\\\PycharmProjects\\\\Dacon\\\\Radar\\\\src'"
     },
     "execution_count": 3,
     "metadata": {},
     "output_type": "execute_result"
    }
   ],
   "source": [],
   "metadata": {
    "collapsed": false,
    "pycharm": {
     "name": "#%%\n"
    }
   }
  },
  {
   "cell_type": "code",
   "execution_count": 5,
   "outputs": [],
   "source": [
    "train =  pd.read_csv(\"../data/train.csv\")"
   ],
   "metadata": {
    "collapsed": false,
    "pycharm": {
     "name": "#%%\n"
    }
   }
  },
  {
   "cell_type": "code",
   "execution_count": 6,
   "outputs": [
    {
     "data": {
      "text/plain": "                ID    X_01     X_02   X_03  X_04     X_05    X_06   X_07  \\\n0      TRAIN_00001  70.544  103.320  67.47     1  101.892  74.983  29.45   \n1      TRAIN_00002  69.524  103.321  65.17     1  101.944  72.943  28.73   \n2      TRAIN_00003  72.583  103.320  64.07     1  103.153  72.943  28.81   \n3      TRAIN_00004  71.563  103.320  67.57     1  101.971  77.022  28.92   \n4      TRAIN_00005  69.524  103.320  63.57     1  101.981  70.904  29.68   \n...            ...     ...      ...    ...   ...      ...     ...    ...   \n39602  TRAIN_39603  66.465  103.320  62.27     1  103.150  66.825  30.20   \n39603  TRAIN_39604  66.465  103.321  62.77     1  102.021  66.825  29.21   \n39604  TRAIN_39605  68.504  103.320  64.67     1  103.144  68.864  29.96   \n39605  TRAIN_39606  66.465  103.320  63.67     1  102.025  67.845  30.30   \n39606  TRAIN_39607  66.465  103.320  65.67     1  102.004  69.884  30.16   \n\n         X_08    X_09  ...    Y_05    Y_06   Y_07    Y_08    Y_09    Y_10  \\\n0       62.38  245.71  ...  29.632  16.083  4.276 -25.381 -25.529 -22.769   \n1       61.23  233.61  ...  33.179  16.736  3.229 -26.619 -26.523 -22.574   \n2      105.77  272.20  ...  31.801  17.080  2.839 -26.238 -26.216 -22.169   \n3      115.21  255.36  ...  34.503  17.143  3.144 -25.426 -25.079 -21.765   \n4      103.38  241.46  ...  32.602  17.569  3.138 -25.376 -25.242 -21.072   \n...       ...     ...  ...     ...     ...    ...     ...     ...     ...   \n39602   77.83  298.05  ...  29.194  16.582  3.410 -26.486 -26.581 -22.772   \n39603  102.25  270.67  ...  29.859  15.659  3.406 -27.308 -27.203 -24.674   \n39604  102.61  198.07  ...  24.720  16.823  3.215 -26.502 -26.687 -22.577   \n39605  112.60  275.52  ...  26.412  15.757  4.216 -26.760 -26.634 -24.066   \n39606  112.90  276.06  ...  30.745  16.781  3.307 -26.054 -26.251 -23.257   \n\n         Y_11    Y_12    Y_13    Y_14  \n0      23.792 -25.470 -25.409 -25.304  \n1      24.691 -26.253 -26.497 -26.438  \n2      24.649 -26.285 -26.215 -26.370  \n3      24.913 -25.254 -25.021 -25.345  \n4      25.299 -25.072 -25.195 -24.974  \n...       ...     ...     ...     ...  \n39602  24.261 -26.491 -26.584 -26.580  \n39603  23.427 -27.250 -27.334 -27.325  \n39604  24.301 -26.388 -26.425 -26.601  \n39605  23.305 -26.536 -26.751 -26.635  \n39606  24.450 -26.224 -26.256 -26.093  \n\n[39607 rows x 71 columns]",
      "text/html": "<div>\n<style scoped>\n    .dataframe tbody tr th:only-of-type {\n        vertical-align: middle;\n    }\n\n    .dataframe tbody tr th {\n        vertical-align: top;\n    }\n\n    .dataframe thead th {\n        text-align: right;\n    }\n</style>\n<table border=\"1\" class=\"dataframe\">\n  <thead>\n    <tr style=\"text-align: right;\">\n      <th></th>\n      <th>ID</th>\n      <th>X_01</th>\n      <th>X_02</th>\n      <th>X_03</th>\n      <th>X_04</th>\n      <th>X_05</th>\n      <th>X_06</th>\n      <th>X_07</th>\n      <th>X_08</th>\n      <th>X_09</th>\n      <th>...</th>\n      <th>Y_05</th>\n      <th>Y_06</th>\n      <th>Y_07</th>\n      <th>Y_08</th>\n      <th>Y_09</th>\n      <th>Y_10</th>\n      <th>Y_11</th>\n      <th>Y_12</th>\n      <th>Y_13</th>\n      <th>Y_14</th>\n    </tr>\n  </thead>\n  <tbody>\n    <tr>\n      <th>0</th>\n      <td>TRAIN_00001</td>\n      <td>70.544</td>\n      <td>103.320</td>\n      <td>67.47</td>\n      <td>1</td>\n      <td>101.892</td>\n      <td>74.983</td>\n      <td>29.45</td>\n      <td>62.38</td>\n      <td>245.71</td>\n      <td>...</td>\n      <td>29.632</td>\n      <td>16.083</td>\n      <td>4.276</td>\n      <td>-25.381</td>\n      <td>-25.529</td>\n      <td>-22.769</td>\n      <td>23.792</td>\n      <td>-25.470</td>\n      <td>-25.409</td>\n      <td>-25.304</td>\n    </tr>\n    <tr>\n      <th>1</th>\n      <td>TRAIN_00002</td>\n      <td>69.524</td>\n      <td>103.321</td>\n      <td>65.17</td>\n      <td>1</td>\n      <td>101.944</td>\n      <td>72.943</td>\n      <td>28.73</td>\n      <td>61.23</td>\n      <td>233.61</td>\n      <td>...</td>\n      <td>33.179</td>\n      <td>16.736</td>\n      <td>3.229</td>\n      <td>-26.619</td>\n      <td>-26.523</td>\n      <td>-22.574</td>\n      <td>24.691</td>\n      <td>-26.253</td>\n      <td>-26.497</td>\n      <td>-26.438</td>\n    </tr>\n    <tr>\n      <th>2</th>\n      <td>TRAIN_00003</td>\n      <td>72.583</td>\n      <td>103.320</td>\n      <td>64.07</td>\n      <td>1</td>\n      <td>103.153</td>\n      <td>72.943</td>\n      <td>28.81</td>\n      <td>105.77</td>\n      <td>272.20</td>\n      <td>...</td>\n      <td>31.801</td>\n      <td>17.080</td>\n      <td>2.839</td>\n      <td>-26.238</td>\n      <td>-26.216</td>\n      <td>-22.169</td>\n      <td>24.649</td>\n      <td>-26.285</td>\n      <td>-26.215</td>\n      <td>-26.370</td>\n    </tr>\n    <tr>\n      <th>3</th>\n      <td>TRAIN_00004</td>\n      <td>71.563</td>\n      <td>103.320</td>\n      <td>67.57</td>\n      <td>1</td>\n      <td>101.971</td>\n      <td>77.022</td>\n      <td>28.92</td>\n      <td>115.21</td>\n      <td>255.36</td>\n      <td>...</td>\n      <td>34.503</td>\n      <td>17.143</td>\n      <td>3.144</td>\n      <td>-25.426</td>\n      <td>-25.079</td>\n      <td>-21.765</td>\n      <td>24.913</td>\n      <td>-25.254</td>\n      <td>-25.021</td>\n      <td>-25.345</td>\n    </tr>\n    <tr>\n      <th>4</th>\n      <td>TRAIN_00005</td>\n      <td>69.524</td>\n      <td>103.320</td>\n      <td>63.57</td>\n      <td>1</td>\n      <td>101.981</td>\n      <td>70.904</td>\n      <td>29.68</td>\n      <td>103.38</td>\n      <td>241.46</td>\n      <td>...</td>\n      <td>32.602</td>\n      <td>17.569</td>\n      <td>3.138</td>\n      <td>-25.376</td>\n      <td>-25.242</td>\n      <td>-21.072</td>\n      <td>25.299</td>\n      <td>-25.072</td>\n      <td>-25.195</td>\n      <td>-24.974</td>\n    </tr>\n    <tr>\n      <th>...</th>\n      <td>...</td>\n      <td>...</td>\n      <td>...</td>\n      <td>...</td>\n      <td>...</td>\n      <td>...</td>\n      <td>...</td>\n      <td>...</td>\n      <td>...</td>\n      <td>...</td>\n      <td>...</td>\n      <td>...</td>\n      <td>...</td>\n      <td>...</td>\n      <td>...</td>\n      <td>...</td>\n      <td>...</td>\n      <td>...</td>\n      <td>...</td>\n      <td>...</td>\n      <td>...</td>\n    </tr>\n    <tr>\n      <th>39602</th>\n      <td>TRAIN_39603</td>\n      <td>66.465</td>\n      <td>103.320</td>\n      <td>62.27</td>\n      <td>1</td>\n      <td>103.150</td>\n      <td>66.825</td>\n      <td>30.20</td>\n      <td>77.83</td>\n      <td>298.05</td>\n      <td>...</td>\n      <td>29.194</td>\n      <td>16.582</td>\n      <td>3.410</td>\n      <td>-26.486</td>\n      <td>-26.581</td>\n      <td>-22.772</td>\n      <td>24.261</td>\n      <td>-26.491</td>\n      <td>-26.584</td>\n      <td>-26.580</td>\n    </tr>\n    <tr>\n      <th>39603</th>\n      <td>TRAIN_39604</td>\n      <td>66.465</td>\n      <td>103.321</td>\n      <td>62.77</td>\n      <td>1</td>\n      <td>102.021</td>\n      <td>66.825</td>\n      <td>29.21</td>\n      <td>102.25</td>\n      <td>270.67</td>\n      <td>...</td>\n      <td>29.859</td>\n      <td>15.659</td>\n      <td>3.406</td>\n      <td>-27.308</td>\n      <td>-27.203</td>\n      <td>-24.674</td>\n      <td>23.427</td>\n      <td>-27.250</td>\n      <td>-27.334</td>\n      <td>-27.325</td>\n    </tr>\n    <tr>\n      <th>39604</th>\n      <td>TRAIN_39605</td>\n      <td>68.504</td>\n      <td>103.320</td>\n      <td>64.67</td>\n      <td>1</td>\n      <td>103.144</td>\n      <td>68.864</td>\n      <td>29.96</td>\n      <td>102.61</td>\n      <td>198.07</td>\n      <td>...</td>\n      <td>24.720</td>\n      <td>16.823</td>\n      <td>3.215</td>\n      <td>-26.502</td>\n      <td>-26.687</td>\n      <td>-22.577</td>\n      <td>24.301</td>\n      <td>-26.388</td>\n      <td>-26.425</td>\n      <td>-26.601</td>\n    </tr>\n    <tr>\n      <th>39605</th>\n      <td>TRAIN_39606</td>\n      <td>66.465</td>\n      <td>103.320</td>\n      <td>63.67</td>\n      <td>1</td>\n      <td>102.025</td>\n      <td>67.845</td>\n      <td>30.30</td>\n      <td>112.60</td>\n      <td>275.52</td>\n      <td>...</td>\n      <td>26.412</td>\n      <td>15.757</td>\n      <td>4.216</td>\n      <td>-26.760</td>\n      <td>-26.634</td>\n      <td>-24.066</td>\n      <td>23.305</td>\n      <td>-26.536</td>\n      <td>-26.751</td>\n      <td>-26.635</td>\n    </tr>\n    <tr>\n      <th>39606</th>\n      <td>TRAIN_39607</td>\n      <td>66.465</td>\n      <td>103.320</td>\n      <td>65.67</td>\n      <td>1</td>\n      <td>102.004</td>\n      <td>69.884</td>\n      <td>30.16</td>\n      <td>112.90</td>\n      <td>276.06</td>\n      <td>...</td>\n      <td>30.745</td>\n      <td>16.781</td>\n      <td>3.307</td>\n      <td>-26.054</td>\n      <td>-26.251</td>\n      <td>-23.257</td>\n      <td>24.450</td>\n      <td>-26.224</td>\n      <td>-26.256</td>\n      <td>-26.093</td>\n    </tr>\n  </tbody>\n</table>\n<p>39607 rows × 71 columns</p>\n</div>"
     },
     "execution_count": 6,
     "metadata": {},
     "output_type": "execute_result"
    }
   ],
   "source": [
    "train"
   ],
   "metadata": {
    "collapsed": false,
    "pycharm": {
     "name": "#%%\n"
    }
   }
  },
  {
   "cell_type": "code",
   "execution_count": 8,
   "outputs": [],
   "source": [
    "x_info = pd.read_csv(\"../data/meta/x_feature_info.csv\")"
   ],
   "metadata": {
    "collapsed": false,
    "pycharm": {
     "name": "#%%\n"
    }
   }
  },
  {
   "cell_type": "code",
   "execution_count": 77,
   "outputs": [],
   "source": [
    "y_info = pd.read_csv(\"../data/meta/y_feature_info.csv\")"
   ],
   "metadata": {
    "collapsed": false,
    "pycharm": {
     "name": "#%%\n"
    }
   }
  },
  {
   "cell_type": "code",
   "execution_count": 78,
   "outputs": [
    {
     "data": {
      "text/plain": "   Feature                   설명\n0     Y_01  안테나 Gain 평균 (각도1)  \n1     Y_02        안테나 1 Gain 편차\n2     Y_03        안테나 2 Gain 편차\n3     Y_04          평균 신호대 잡음비 \n4     Y_05    안테나 Gain 평균 (각도2)\n5     Y_06     신호대 잡음비  (각도1)  \n6     Y_07  안테나 Gain 평균 (각도3)  \n7     Y_08     신호대 잡음비  (각도2)  \n8     Y_09     신호대 잡음비  (각도3)  \n9     Y_10     신호대 잡음비  (각도4)  \n10    Y_11    안테나 Gain 평균 (각도4)\n11    Y_12     신호대 잡음비  (각도5)  \n12    Y_13     신호대 잡음비  (각도6)  \n13    Y_14     신호대 잡음비  (각도7)  ",
      "text/html": "<div>\n<style scoped>\n    .dataframe tbody tr th:only-of-type {\n        vertical-align: middle;\n    }\n\n    .dataframe tbody tr th {\n        vertical-align: top;\n    }\n\n    .dataframe thead th {\n        text-align: right;\n    }\n</style>\n<table border=\"1\" class=\"dataframe\">\n  <thead>\n    <tr style=\"text-align: right;\">\n      <th></th>\n      <th>Feature</th>\n      <th>설명</th>\n    </tr>\n  </thead>\n  <tbody>\n    <tr>\n      <th>0</th>\n      <td>Y_01</td>\n      <td>안테나 Gain 평균 (각도1)</td>\n    </tr>\n    <tr>\n      <th>1</th>\n      <td>Y_02</td>\n      <td>안테나 1 Gain 편차</td>\n    </tr>\n    <tr>\n      <th>2</th>\n      <td>Y_03</td>\n      <td>안테나 2 Gain 편차</td>\n    </tr>\n    <tr>\n      <th>3</th>\n      <td>Y_04</td>\n      <td>평균 신호대 잡음비</td>\n    </tr>\n    <tr>\n      <th>4</th>\n      <td>Y_05</td>\n      <td>안테나 Gain 평균 (각도2)</td>\n    </tr>\n    <tr>\n      <th>5</th>\n      <td>Y_06</td>\n      <td>신호대 잡음비  (각도1)</td>\n    </tr>\n    <tr>\n      <th>6</th>\n      <td>Y_07</td>\n      <td>안테나 Gain 평균 (각도3)</td>\n    </tr>\n    <tr>\n      <th>7</th>\n      <td>Y_08</td>\n      <td>신호대 잡음비  (각도2)</td>\n    </tr>\n    <tr>\n      <th>8</th>\n      <td>Y_09</td>\n      <td>신호대 잡음비  (각도3)</td>\n    </tr>\n    <tr>\n      <th>9</th>\n      <td>Y_10</td>\n      <td>신호대 잡음비  (각도4)</td>\n    </tr>\n    <tr>\n      <th>10</th>\n      <td>Y_11</td>\n      <td>안테나 Gain 평균 (각도4)</td>\n    </tr>\n    <tr>\n      <th>11</th>\n      <td>Y_12</td>\n      <td>신호대 잡음비  (각도5)</td>\n    </tr>\n    <tr>\n      <th>12</th>\n      <td>Y_13</td>\n      <td>신호대 잡음비  (각도6)</td>\n    </tr>\n    <tr>\n      <th>13</th>\n      <td>Y_14</td>\n      <td>신호대 잡음비  (각도7)</td>\n    </tr>\n  </tbody>\n</table>\n</div>"
     },
     "execution_count": 78,
     "metadata": {},
     "output_type": "execute_result"
    }
   ],
   "source": [
    "y_info"
   ],
   "metadata": {
    "collapsed": false,
    "pycharm": {
     "name": "#%%\n"
    }
   }
  },
  {
   "cell_type": "code",
   "execution_count": 79,
   "outputs": [
    {
     "data": {
      "text/plain": "                ID    X_01     X_02   X_03     X_05    X_06   X_07    X_08  \\\n0      TRAIN_00001  70.544  103.320  67.47  101.892  74.983  29.45   62.38   \n1      TRAIN_00002  69.524  103.321  65.17  101.944  72.943  28.73   61.23   \n2      TRAIN_00003  72.583  103.320  64.07  103.153  72.943  28.81  105.77   \n3      TRAIN_00004  71.563  103.320  67.57  101.971  77.022  28.92  115.21   \n4      TRAIN_00005  69.524  103.320  63.57  101.981  70.904  29.68  103.38   \n...            ...     ...      ...    ...      ...     ...    ...     ...   \n39602  TRAIN_39603  66.465  103.320  62.27  103.150  66.825  30.20   77.83   \n39603  TRAIN_39604  66.465  103.321  62.77  102.021  66.825  29.21  102.25   \n39604  TRAIN_39605  68.504  103.320  64.67  103.144  68.864  29.96  102.61   \n39605  TRAIN_39606  66.465  103.320  63.67  102.025  67.845  30.30  112.60   \n39606  TRAIN_39607  66.465  103.320  65.67  102.004  69.884  30.16  112.90   \n\n         X_09  X_10  ...    Y_05    Y_06   Y_07    Y_08    Y_09    Y_10  \\\n0      245.71   0.0  ...  29.632  16.083  4.276 -25.381 -25.529 -22.769   \n1      233.61   0.0  ...  33.179  16.736  3.229 -26.619 -26.523 -22.574   \n2      272.20   0.0  ...  31.801  17.080  2.839 -26.238 -26.216 -22.169   \n3      255.36   0.0  ...  34.503  17.143  3.144 -25.426 -25.079 -21.765   \n4      241.46   0.0  ...  32.602  17.569  3.138 -25.376 -25.242 -21.072   \n...       ...   ...  ...     ...     ...    ...     ...     ...     ...   \n39602  298.05   0.0  ...  29.194  16.582  3.410 -26.486 -26.581 -22.772   \n39603  270.67   0.0  ...  29.859  15.659  3.406 -27.308 -27.203 -24.674   \n39604  198.07   0.0  ...  24.720  16.823  3.215 -26.502 -26.687 -22.577   \n39605  275.52   0.0  ...  26.412  15.757  4.216 -26.760 -26.634 -24.066   \n39606  276.06   0.0  ...  30.745  16.781  3.307 -26.054 -26.251 -23.257   \n\n         Y_11    Y_12    Y_13    Y_14  \n0      23.792 -25.470 -25.409 -25.304  \n1      24.691 -26.253 -26.497 -26.438  \n2      24.649 -26.285 -26.215 -26.370  \n3      24.913 -25.254 -25.021 -25.345  \n4      25.299 -25.072 -25.195 -24.974  \n...       ...     ...     ...     ...  \n39602  24.261 -26.491 -26.584 -26.580  \n39603  23.427 -27.250 -27.334 -27.325  \n39604  24.301 -26.388 -26.425 -26.601  \n39605  23.305 -26.536 -26.751 -26.635  \n39606  24.450 -26.224 -26.256 -26.093  \n\n[39607 rows x 70 columns]",
      "text/html": "<div>\n<style scoped>\n    .dataframe tbody tr th:only-of-type {\n        vertical-align: middle;\n    }\n\n    .dataframe tbody tr th {\n        vertical-align: top;\n    }\n\n    .dataframe thead th {\n        text-align: right;\n    }\n</style>\n<table border=\"1\" class=\"dataframe\">\n  <thead>\n    <tr style=\"text-align: right;\">\n      <th></th>\n      <th>ID</th>\n      <th>X_01</th>\n      <th>X_02</th>\n      <th>X_03</th>\n      <th>X_05</th>\n      <th>X_06</th>\n      <th>X_07</th>\n      <th>X_08</th>\n      <th>X_09</th>\n      <th>X_10</th>\n      <th>...</th>\n      <th>Y_05</th>\n      <th>Y_06</th>\n      <th>Y_07</th>\n      <th>Y_08</th>\n      <th>Y_09</th>\n      <th>Y_10</th>\n      <th>Y_11</th>\n      <th>Y_12</th>\n      <th>Y_13</th>\n      <th>Y_14</th>\n    </tr>\n  </thead>\n  <tbody>\n    <tr>\n      <th>0</th>\n      <td>TRAIN_00001</td>\n      <td>70.544</td>\n      <td>103.320</td>\n      <td>67.47</td>\n      <td>101.892</td>\n      <td>74.983</td>\n      <td>29.45</td>\n      <td>62.38</td>\n      <td>245.71</td>\n      <td>0.0</td>\n      <td>...</td>\n      <td>29.632</td>\n      <td>16.083</td>\n      <td>4.276</td>\n      <td>-25.381</td>\n      <td>-25.529</td>\n      <td>-22.769</td>\n      <td>23.792</td>\n      <td>-25.470</td>\n      <td>-25.409</td>\n      <td>-25.304</td>\n    </tr>\n    <tr>\n      <th>1</th>\n      <td>TRAIN_00002</td>\n      <td>69.524</td>\n      <td>103.321</td>\n      <td>65.17</td>\n      <td>101.944</td>\n      <td>72.943</td>\n      <td>28.73</td>\n      <td>61.23</td>\n      <td>233.61</td>\n      <td>0.0</td>\n      <td>...</td>\n      <td>33.179</td>\n      <td>16.736</td>\n      <td>3.229</td>\n      <td>-26.619</td>\n      <td>-26.523</td>\n      <td>-22.574</td>\n      <td>24.691</td>\n      <td>-26.253</td>\n      <td>-26.497</td>\n      <td>-26.438</td>\n    </tr>\n    <tr>\n      <th>2</th>\n      <td>TRAIN_00003</td>\n      <td>72.583</td>\n      <td>103.320</td>\n      <td>64.07</td>\n      <td>103.153</td>\n      <td>72.943</td>\n      <td>28.81</td>\n      <td>105.77</td>\n      <td>272.20</td>\n      <td>0.0</td>\n      <td>...</td>\n      <td>31.801</td>\n      <td>17.080</td>\n      <td>2.839</td>\n      <td>-26.238</td>\n      <td>-26.216</td>\n      <td>-22.169</td>\n      <td>24.649</td>\n      <td>-26.285</td>\n      <td>-26.215</td>\n      <td>-26.370</td>\n    </tr>\n    <tr>\n      <th>3</th>\n      <td>TRAIN_00004</td>\n      <td>71.563</td>\n      <td>103.320</td>\n      <td>67.57</td>\n      <td>101.971</td>\n      <td>77.022</td>\n      <td>28.92</td>\n      <td>115.21</td>\n      <td>255.36</td>\n      <td>0.0</td>\n      <td>...</td>\n      <td>34.503</td>\n      <td>17.143</td>\n      <td>3.144</td>\n      <td>-25.426</td>\n      <td>-25.079</td>\n      <td>-21.765</td>\n      <td>24.913</td>\n      <td>-25.254</td>\n      <td>-25.021</td>\n      <td>-25.345</td>\n    </tr>\n    <tr>\n      <th>4</th>\n      <td>TRAIN_00005</td>\n      <td>69.524</td>\n      <td>103.320</td>\n      <td>63.57</td>\n      <td>101.981</td>\n      <td>70.904</td>\n      <td>29.68</td>\n      <td>103.38</td>\n      <td>241.46</td>\n      <td>0.0</td>\n      <td>...</td>\n      <td>32.602</td>\n      <td>17.569</td>\n      <td>3.138</td>\n      <td>-25.376</td>\n      <td>-25.242</td>\n      <td>-21.072</td>\n      <td>25.299</td>\n      <td>-25.072</td>\n      <td>-25.195</td>\n      <td>-24.974</td>\n    </tr>\n    <tr>\n      <th>...</th>\n      <td>...</td>\n      <td>...</td>\n      <td>...</td>\n      <td>...</td>\n      <td>...</td>\n      <td>...</td>\n      <td>...</td>\n      <td>...</td>\n      <td>...</td>\n      <td>...</td>\n      <td>...</td>\n      <td>...</td>\n      <td>...</td>\n      <td>...</td>\n      <td>...</td>\n      <td>...</td>\n      <td>...</td>\n      <td>...</td>\n      <td>...</td>\n      <td>...</td>\n      <td>...</td>\n    </tr>\n    <tr>\n      <th>39602</th>\n      <td>TRAIN_39603</td>\n      <td>66.465</td>\n      <td>103.320</td>\n      <td>62.27</td>\n      <td>103.150</td>\n      <td>66.825</td>\n      <td>30.20</td>\n      <td>77.83</td>\n      <td>298.05</td>\n      <td>0.0</td>\n      <td>...</td>\n      <td>29.194</td>\n      <td>16.582</td>\n      <td>3.410</td>\n      <td>-26.486</td>\n      <td>-26.581</td>\n      <td>-22.772</td>\n      <td>24.261</td>\n      <td>-26.491</td>\n      <td>-26.584</td>\n      <td>-26.580</td>\n    </tr>\n    <tr>\n      <th>39603</th>\n      <td>TRAIN_39604</td>\n      <td>66.465</td>\n      <td>103.321</td>\n      <td>62.77</td>\n      <td>102.021</td>\n      <td>66.825</td>\n      <td>29.21</td>\n      <td>102.25</td>\n      <td>270.67</td>\n      <td>0.0</td>\n      <td>...</td>\n      <td>29.859</td>\n      <td>15.659</td>\n      <td>3.406</td>\n      <td>-27.308</td>\n      <td>-27.203</td>\n      <td>-24.674</td>\n      <td>23.427</td>\n      <td>-27.250</td>\n      <td>-27.334</td>\n      <td>-27.325</td>\n    </tr>\n    <tr>\n      <th>39604</th>\n      <td>TRAIN_39605</td>\n      <td>68.504</td>\n      <td>103.320</td>\n      <td>64.67</td>\n      <td>103.144</td>\n      <td>68.864</td>\n      <td>29.96</td>\n      <td>102.61</td>\n      <td>198.07</td>\n      <td>0.0</td>\n      <td>...</td>\n      <td>24.720</td>\n      <td>16.823</td>\n      <td>3.215</td>\n      <td>-26.502</td>\n      <td>-26.687</td>\n      <td>-22.577</td>\n      <td>24.301</td>\n      <td>-26.388</td>\n      <td>-26.425</td>\n      <td>-26.601</td>\n    </tr>\n    <tr>\n      <th>39605</th>\n      <td>TRAIN_39606</td>\n      <td>66.465</td>\n      <td>103.320</td>\n      <td>63.67</td>\n      <td>102.025</td>\n      <td>67.845</td>\n      <td>30.30</td>\n      <td>112.60</td>\n      <td>275.52</td>\n      <td>0.0</td>\n      <td>...</td>\n      <td>26.412</td>\n      <td>15.757</td>\n      <td>4.216</td>\n      <td>-26.760</td>\n      <td>-26.634</td>\n      <td>-24.066</td>\n      <td>23.305</td>\n      <td>-26.536</td>\n      <td>-26.751</td>\n      <td>-26.635</td>\n    </tr>\n    <tr>\n      <th>39606</th>\n      <td>TRAIN_39607</td>\n      <td>66.465</td>\n      <td>103.320</td>\n      <td>65.67</td>\n      <td>102.004</td>\n      <td>69.884</td>\n      <td>30.16</td>\n      <td>112.90</td>\n      <td>276.06</td>\n      <td>0.0</td>\n      <td>...</td>\n      <td>30.745</td>\n      <td>16.781</td>\n      <td>3.307</td>\n      <td>-26.054</td>\n      <td>-26.251</td>\n      <td>-23.257</td>\n      <td>24.450</td>\n      <td>-26.224</td>\n      <td>-26.256</td>\n      <td>-26.093</td>\n    </tr>\n  </tbody>\n</table>\n<p>39607 rows × 70 columns</p>\n</div>"
     },
     "execution_count": 79,
     "metadata": {},
     "output_type": "execute_result"
    }
   ],
   "source": [
    "train"
   ],
   "metadata": {
    "collapsed": false,
    "pycharm": {
     "name": "#%%\n"
    }
   }
  },
  {
   "cell_type": "code",
   "execution_count": 42,
   "outputs": [
    {
     "data": {
      "text/plain": "1    39607\nName: X_04, dtype: int64"
     },
     "execution_count": 42,
     "metadata": {},
     "output_type": "execute_result"
    }
   ],
   "source": [
    "# 통과여부 , 필요없는컬럼\n",
    "train['X_04'].value_counts()"
   ],
   "metadata": {
    "collapsed": false,
    "pycharm": {
     "name": "#%%\n"
    }
   }
  },
  {
   "cell_type": "code",
   "execution_count": 45,
   "outputs": [],
   "source": [
    "train = train.drop(columns='X_04')"
   ],
   "metadata": {
    "collapsed": false,
    "pycharm": {
     "name": "#%%\n"
    }
   }
  },
  {
   "cell_type": "code",
   "execution_count": 44,
   "outputs": [
    {
     "data": {
      "text/plain": "                ID    X_01     X_02   X_03  X_04     X_05    X_06   X_07  \\\n0      TRAIN_00001  70.544  103.320  67.47     1  101.892  74.983  29.45   \n1      TRAIN_00002  69.524  103.321  65.17     1  101.944  72.943  28.73   \n2      TRAIN_00003  72.583  103.320  64.07     1  103.153  72.943  28.81   \n3      TRAIN_00004  71.563  103.320  67.57     1  101.971  77.022  28.92   \n4      TRAIN_00005  69.524  103.320  63.57     1  101.981  70.904  29.68   \n...            ...     ...      ...    ...   ...      ...     ...    ...   \n39602  TRAIN_39603  66.465  103.320  62.27     1  103.150  66.825  30.20   \n39603  TRAIN_39604  66.465  103.321  62.77     1  102.021  66.825  29.21   \n39604  TRAIN_39605  68.504  103.320  64.67     1  103.144  68.864  29.96   \n39605  TRAIN_39606  66.465  103.320  63.67     1  102.025  67.845  30.30   \n39606  TRAIN_39607  66.465  103.320  65.67     1  102.004  69.884  30.16   \n\n         X_08    X_09  ...    Y_05    Y_06   Y_07    Y_08    Y_09    Y_10  \\\n0       62.38  245.71  ...  29.632  16.083  4.276 -25.381 -25.529 -22.769   \n1       61.23  233.61  ...  33.179  16.736  3.229 -26.619 -26.523 -22.574   \n2      105.77  272.20  ...  31.801  17.080  2.839 -26.238 -26.216 -22.169   \n3      115.21  255.36  ...  34.503  17.143  3.144 -25.426 -25.079 -21.765   \n4      103.38  241.46  ...  32.602  17.569  3.138 -25.376 -25.242 -21.072   \n...       ...     ...  ...     ...     ...    ...     ...     ...     ...   \n39602   77.83  298.05  ...  29.194  16.582  3.410 -26.486 -26.581 -22.772   \n39603  102.25  270.67  ...  29.859  15.659  3.406 -27.308 -27.203 -24.674   \n39604  102.61  198.07  ...  24.720  16.823  3.215 -26.502 -26.687 -22.577   \n39605  112.60  275.52  ...  26.412  15.757  4.216 -26.760 -26.634 -24.066   \n39606  112.90  276.06  ...  30.745  16.781  3.307 -26.054 -26.251 -23.257   \n\n         Y_11    Y_12    Y_13    Y_14  \n0      23.792 -25.470 -25.409 -25.304  \n1      24.691 -26.253 -26.497 -26.438  \n2      24.649 -26.285 -26.215 -26.370  \n3      24.913 -25.254 -25.021 -25.345  \n4      25.299 -25.072 -25.195 -24.974  \n...       ...     ...     ...     ...  \n39602  24.261 -26.491 -26.584 -26.580  \n39603  23.427 -27.250 -27.334 -27.325  \n39604  24.301 -26.388 -26.425 -26.601  \n39605  23.305 -26.536 -26.751 -26.635  \n39606  24.450 -26.224 -26.256 -26.093  \n\n[39607 rows x 71 columns]",
      "text/html": "<div>\n<style scoped>\n    .dataframe tbody tr th:only-of-type {\n        vertical-align: middle;\n    }\n\n    .dataframe tbody tr th {\n        vertical-align: top;\n    }\n\n    .dataframe thead th {\n        text-align: right;\n    }\n</style>\n<table border=\"1\" class=\"dataframe\">\n  <thead>\n    <tr style=\"text-align: right;\">\n      <th></th>\n      <th>ID</th>\n      <th>X_01</th>\n      <th>X_02</th>\n      <th>X_03</th>\n      <th>X_04</th>\n      <th>X_05</th>\n      <th>X_06</th>\n      <th>X_07</th>\n      <th>X_08</th>\n      <th>X_09</th>\n      <th>...</th>\n      <th>Y_05</th>\n      <th>Y_06</th>\n      <th>Y_07</th>\n      <th>Y_08</th>\n      <th>Y_09</th>\n      <th>Y_10</th>\n      <th>Y_11</th>\n      <th>Y_12</th>\n      <th>Y_13</th>\n      <th>Y_14</th>\n    </tr>\n  </thead>\n  <tbody>\n    <tr>\n      <th>0</th>\n      <td>TRAIN_00001</td>\n      <td>70.544</td>\n      <td>103.320</td>\n      <td>67.47</td>\n      <td>1</td>\n      <td>101.892</td>\n      <td>74.983</td>\n      <td>29.45</td>\n      <td>62.38</td>\n      <td>245.71</td>\n      <td>...</td>\n      <td>29.632</td>\n      <td>16.083</td>\n      <td>4.276</td>\n      <td>-25.381</td>\n      <td>-25.529</td>\n      <td>-22.769</td>\n      <td>23.792</td>\n      <td>-25.470</td>\n      <td>-25.409</td>\n      <td>-25.304</td>\n    </tr>\n    <tr>\n      <th>1</th>\n      <td>TRAIN_00002</td>\n      <td>69.524</td>\n      <td>103.321</td>\n      <td>65.17</td>\n      <td>1</td>\n      <td>101.944</td>\n      <td>72.943</td>\n      <td>28.73</td>\n      <td>61.23</td>\n      <td>233.61</td>\n      <td>...</td>\n      <td>33.179</td>\n      <td>16.736</td>\n      <td>3.229</td>\n      <td>-26.619</td>\n      <td>-26.523</td>\n      <td>-22.574</td>\n      <td>24.691</td>\n      <td>-26.253</td>\n      <td>-26.497</td>\n      <td>-26.438</td>\n    </tr>\n    <tr>\n      <th>2</th>\n      <td>TRAIN_00003</td>\n      <td>72.583</td>\n      <td>103.320</td>\n      <td>64.07</td>\n      <td>1</td>\n      <td>103.153</td>\n      <td>72.943</td>\n      <td>28.81</td>\n      <td>105.77</td>\n      <td>272.20</td>\n      <td>...</td>\n      <td>31.801</td>\n      <td>17.080</td>\n      <td>2.839</td>\n      <td>-26.238</td>\n      <td>-26.216</td>\n      <td>-22.169</td>\n      <td>24.649</td>\n      <td>-26.285</td>\n      <td>-26.215</td>\n      <td>-26.370</td>\n    </tr>\n    <tr>\n      <th>3</th>\n      <td>TRAIN_00004</td>\n      <td>71.563</td>\n      <td>103.320</td>\n      <td>67.57</td>\n      <td>1</td>\n      <td>101.971</td>\n      <td>77.022</td>\n      <td>28.92</td>\n      <td>115.21</td>\n      <td>255.36</td>\n      <td>...</td>\n      <td>34.503</td>\n      <td>17.143</td>\n      <td>3.144</td>\n      <td>-25.426</td>\n      <td>-25.079</td>\n      <td>-21.765</td>\n      <td>24.913</td>\n      <td>-25.254</td>\n      <td>-25.021</td>\n      <td>-25.345</td>\n    </tr>\n    <tr>\n      <th>4</th>\n      <td>TRAIN_00005</td>\n      <td>69.524</td>\n      <td>103.320</td>\n      <td>63.57</td>\n      <td>1</td>\n      <td>101.981</td>\n      <td>70.904</td>\n      <td>29.68</td>\n      <td>103.38</td>\n      <td>241.46</td>\n      <td>...</td>\n      <td>32.602</td>\n      <td>17.569</td>\n      <td>3.138</td>\n      <td>-25.376</td>\n      <td>-25.242</td>\n      <td>-21.072</td>\n      <td>25.299</td>\n      <td>-25.072</td>\n      <td>-25.195</td>\n      <td>-24.974</td>\n    </tr>\n    <tr>\n      <th>...</th>\n      <td>...</td>\n      <td>...</td>\n      <td>...</td>\n      <td>...</td>\n      <td>...</td>\n      <td>...</td>\n      <td>...</td>\n      <td>...</td>\n      <td>...</td>\n      <td>...</td>\n      <td>...</td>\n      <td>...</td>\n      <td>...</td>\n      <td>...</td>\n      <td>...</td>\n      <td>...</td>\n      <td>...</td>\n      <td>...</td>\n      <td>...</td>\n      <td>...</td>\n      <td>...</td>\n    </tr>\n    <tr>\n      <th>39602</th>\n      <td>TRAIN_39603</td>\n      <td>66.465</td>\n      <td>103.320</td>\n      <td>62.27</td>\n      <td>1</td>\n      <td>103.150</td>\n      <td>66.825</td>\n      <td>30.20</td>\n      <td>77.83</td>\n      <td>298.05</td>\n      <td>...</td>\n      <td>29.194</td>\n      <td>16.582</td>\n      <td>3.410</td>\n      <td>-26.486</td>\n      <td>-26.581</td>\n      <td>-22.772</td>\n      <td>24.261</td>\n      <td>-26.491</td>\n      <td>-26.584</td>\n      <td>-26.580</td>\n    </tr>\n    <tr>\n      <th>39603</th>\n      <td>TRAIN_39604</td>\n      <td>66.465</td>\n      <td>103.321</td>\n      <td>62.77</td>\n      <td>1</td>\n      <td>102.021</td>\n      <td>66.825</td>\n      <td>29.21</td>\n      <td>102.25</td>\n      <td>270.67</td>\n      <td>...</td>\n      <td>29.859</td>\n      <td>15.659</td>\n      <td>3.406</td>\n      <td>-27.308</td>\n      <td>-27.203</td>\n      <td>-24.674</td>\n      <td>23.427</td>\n      <td>-27.250</td>\n      <td>-27.334</td>\n      <td>-27.325</td>\n    </tr>\n    <tr>\n      <th>39604</th>\n      <td>TRAIN_39605</td>\n      <td>68.504</td>\n      <td>103.320</td>\n      <td>64.67</td>\n      <td>1</td>\n      <td>103.144</td>\n      <td>68.864</td>\n      <td>29.96</td>\n      <td>102.61</td>\n      <td>198.07</td>\n      <td>...</td>\n      <td>24.720</td>\n      <td>16.823</td>\n      <td>3.215</td>\n      <td>-26.502</td>\n      <td>-26.687</td>\n      <td>-22.577</td>\n      <td>24.301</td>\n      <td>-26.388</td>\n      <td>-26.425</td>\n      <td>-26.601</td>\n    </tr>\n    <tr>\n      <th>39605</th>\n      <td>TRAIN_39606</td>\n      <td>66.465</td>\n      <td>103.320</td>\n      <td>63.67</td>\n      <td>1</td>\n      <td>102.025</td>\n      <td>67.845</td>\n      <td>30.30</td>\n      <td>112.60</td>\n      <td>275.52</td>\n      <td>...</td>\n      <td>26.412</td>\n      <td>15.757</td>\n      <td>4.216</td>\n      <td>-26.760</td>\n      <td>-26.634</td>\n      <td>-24.066</td>\n      <td>23.305</td>\n      <td>-26.536</td>\n      <td>-26.751</td>\n      <td>-26.635</td>\n    </tr>\n    <tr>\n      <th>39606</th>\n      <td>TRAIN_39607</td>\n      <td>66.465</td>\n      <td>103.320</td>\n      <td>65.67</td>\n      <td>1</td>\n      <td>102.004</td>\n      <td>69.884</td>\n      <td>30.16</td>\n      <td>112.90</td>\n      <td>276.06</td>\n      <td>...</td>\n      <td>30.745</td>\n      <td>16.781</td>\n      <td>3.307</td>\n      <td>-26.054</td>\n      <td>-26.251</td>\n      <td>-23.257</td>\n      <td>24.450</td>\n      <td>-26.224</td>\n      <td>-26.256</td>\n      <td>-26.093</td>\n    </tr>\n  </tbody>\n</table>\n<p>39607 rows × 71 columns</p>\n</div>"
     },
     "execution_count": 44,
     "metadata": {},
     "output_type": "execute_result"
    }
   ],
   "source": [],
   "metadata": {
    "collapsed": false,
    "pycharm": {
     "name": "#%%\n"
    }
   }
  },
  {
   "cell_type": "code",
   "execution_count": null,
   "outputs": [],
   "source": [
    "# 각 값별 분포도를 보자\n",
    "\n",
    "# 어느정도 대다수의 분포값이 있다\n",
    "train['X_01'].value_counts().plot.bar()"
   ],
   "metadata": {
    "collapsed": false,
    "pycharm": {
     "name": "#%%\n"
    }
   }
  },
  {
   "cell_type": "code",
   "execution_count": 22,
   "outputs": [
    {
     "data": {
      "text/plain": "<AxesSubplot:>"
     },
     "execution_count": 22,
     "metadata": {},
     "output_type": "execute_result"
    },
    {
     "data": {
      "text/plain": "<Figure size 432x288 with 1 Axes>",
      "image/png": "[encoded data removed]"
     },
     "metadata": {
      "needs_background": "light"
     },
     "output_type": "display_data"
    }
   ],
   "source": [
    "train['X_02'].value_counts().plot.bar()"
   ],
   "metadata": {
    "collapsed": false,
    "pycharm": {
     "name": "#%%\n"
    }
   }
  },
  {
   "cell_type": "code",
   "execution_count": 28,
   "outputs": [
    {
     "data": {
      "text/plain": "                ID    X_01     X_02   X_03  X_04     X_05    X_06   X_07  \\\n0      TRAIN_00001  70.544  103.320  67.47     1  101.892  74.983  29.45   \n1      TRAIN_00002  69.524  103.321  65.17     1  101.944  72.943  28.73   \n2      TRAIN_00003  72.583  103.320  64.07     1  103.153  72.943  28.81   \n3      TRAIN_00004  71.563  103.320  67.57     1  101.971  77.022  28.92   \n4      TRAIN_00005  69.524  103.320  63.57     1  101.981  70.904  29.68   \n...            ...     ...      ...    ...   ...      ...     ...    ...   \n39602  TRAIN_39603  66.465  103.320  62.27     1  103.150  66.825  30.20   \n39603  TRAIN_39604  66.465  103.321  62.77     1  102.021  66.825  29.21   \n39604  TRAIN_39605  68.504  103.320  64.67     1  103.144  68.864  29.96   \n39605  TRAIN_39606  66.465  103.320  63.67     1  102.025  67.845  30.30   \n39606  TRAIN_39607  66.465  103.320  65.67     1  102.004  69.884  30.16   \n\n         X_08    X_09  ...    Y_05    Y_06   Y_07    Y_08    Y_09    Y_10  \\\n0       62.38  245.71  ...  29.632  16.083  4.276 -25.381 -25.529 -22.769   \n1       61.23  233.61  ...  33.179  16.736  3.229 -26.619 -26.523 -22.574   \n2      105.77  272.20  ...  31.801  17.080  2.839 -26.238 -26.216 -22.169   \n3      115.21  255.36  ...  34.503  17.143  3.144 -25.426 -25.079 -21.765   \n4      103.38  241.46  ...  32.602  17.569  3.138 -25.376 -25.242 -21.072   \n...       ...     ...  ...     ...     ...    ...     ...     ...     ...   \n39602   77.83  298.05  ...  29.194  16.582  3.410 -26.486 -26.581 -22.772   \n39603  102.25  270.67  ...  29.859  15.659  3.406 -27.308 -27.203 -24.674   \n39604  102.61  198.07  ...  24.720  16.823  3.215 -26.502 -26.687 -22.577   \n39605  112.60  275.52  ...  26.412  15.757  4.216 -26.760 -26.634 -24.066   \n39606  112.90  276.06  ...  30.745  16.781  3.307 -26.054 -26.251 -23.257   \n\n         Y_11    Y_12    Y_13    Y_14  \n0      23.792 -25.470 -25.409 -25.304  \n1      24.691 -26.253 -26.497 -26.438  \n2      24.649 -26.285 -26.215 -26.370  \n3      24.913 -25.254 -25.021 -25.345  \n4      25.299 -25.072 -25.195 -24.974  \n...       ...     ...     ...     ...  \n39602  24.261 -26.491 -26.584 -26.580  \n39603  23.427 -27.250 -27.334 -27.325  \n39604  24.301 -26.388 -26.425 -26.601  \n39605  23.305 -26.536 -26.751 -26.635  \n39606  24.450 -26.224 -26.256 -26.093  \n\n[39607 rows x 71 columns]",
      "text/html": "<div>\n<style scoped>\n    .dataframe tbody tr th:only-of-type {\n        vertical-align: middle;\n    }\n\n    .dataframe tbody tr th {\n        vertical-align: top;\n    }\n\n    .dataframe thead th {\n        text-align: right;\n    }\n</style>\n<table border=\"1\" class=\"dataframe\">\n  <thead>\n    <tr style=\"text-align: right;\">\n      <th></th>\n      <th>ID</th>\n      <th>X_01</th>\n      <th>X_02</th>\n      <th>X_03</th>\n      <th>X_04</th>\n      <th>X_05</th>\n      <th>X_06</th>\n      <th>X_07</th>\n      <th>X_08</th>\n      <th>X_09</th>\n      <th>...</th>\n      <th>Y_05</th>\n      <th>Y_06</th>\n      <th>Y_07</th>\n      <th>Y_08</th>\n      <th>Y_09</th>\n      <th>Y_10</th>\n      <th>Y_11</th>\n      <th>Y_12</th>\n      <th>Y_13</th>\n      <th>Y_14</th>\n    </tr>\n  </thead>\n  <tbody>\n    <tr>\n      <th>0</th>\n      <td>TRAIN_00001</td>\n      <td>70.544</td>\n      <td>103.320</td>\n      <td>67.47</td>\n      <td>1</td>\n      <td>101.892</td>\n      <td>74.983</td>\n      <td>29.45</td>\n      <td>62.38</td>\n      <td>245.71</td>\n      <td>...</td>\n      <td>29.632</td>\n      <td>16.083</td>\n      <td>4.276</td>\n      <td>-25.381</td>\n      <td>-25.529</td>\n      <td>-22.769</td>\n      <td>23.792</td>\n      <td>-25.470</td>\n      <td>-25.409</td>\n      <td>-25.304</td>\n    </tr>\n    <tr>\n      <th>1</th>\n      <td>TRAIN_00002</td>\n      <td>69.524</td>\n      <td>103.321</td>\n      <td>65.17</td>\n      <td>1</td>\n      <td>101.944</td>\n      <td>72.943</td>\n      <td>28.73</td>\n      <td>61.23</td>\n      <td>233.61</td>\n      <td>...</td>\n      <td>33.179</td>\n      <td>16.736</td>\n      <td>3.229</td>\n      <td>-26.619</td>\n      <td>-26.523</td>\n      <td>-22.574</td>\n      <td>24.691</td>\n      <td>-26.253</td>\n      <td>-26.497</td>\n      <td>-26.438</td>\n    </tr>\n    <tr>\n      <th>2</th>\n      <td>TRAIN_00003</td>\n      <td>72.583</td>\n      <td>103.320</td>\n      <td>64.07</td>\n      <td>1</td>\n      <td>103.153</td>\n      <td>72.943</td>\n      <td>28.81</td>\n      <td>105.77</td>\n      <td>272.20</td>\n      <td>...</td>\n      <td>31.801</td>\n      <td>17.080</td>\n      <td>2.839</td>\n      <td>-26.238</td>\n      <td>-26.216</td>\n      <td>-22.169</td>\n      <td>24.649</td>\n      <td>-26.285</td>\n      <td>-26.215</td>\n      <td>-26.370</td>\n    </tr>\n    <tr>\n      <th>3</th>\n      <td>TRAIN_00004</td>\n      <td>71.563</td>\n      <td>103.320</td>\n      <td>67.57</td>\n      <td>1</td>\n      <td>101.971</td>\n      <td>77.022</td>\n      <td>28.92</td>\n      <td>115.21</td>\n      <td>255.36</td>\n      <td>...</td>\n      <td>34.503</td>\n      <td>17.143</td>\n      <td>3.144</td>\n      <td>-25.426</td>\n      <td>-25.079</td>\n      <td>-21.765</td>\n      <td>24.913</td>\n      <td>-25.254</td>\n      <td>-25.021</td>\n      <td>-25.345</td>\n    </tr>\n    <tr>\n      <th>4</th>\n      <td>TRAIN_00005</td>\n      <td>69.524</td>\n      <td>103.320</td>\n      <td>63.57</td>\n      <td>1</td>\n      <td>101.981</td>\n      <td>70.904</td>\n      <td>29.68</td>\n      <td>103.38</td>\n      <td>241.46</td>\n      <td>...</td>\n      <td>32.602</td>\n      <td>17.569</td>\n      <td>3.138</td>\n      <td>-25.376</td>\n      <td>-25.242</td>\n      <td>-21.072</td>\n      <td>25.299</td>\n      <td>-25.072</td>\n      <td>-25.195</td>\n      <td>-24.974</td>\n    </tr>\n    <tr>\n      <th>...</th>\n      <td>...</td>\n      <td>...</td>\n      <td>...</td>\n      <td>...</td>\n      <td>...</td>\n      <td>...</td>\n      <td>...</td>\n      <td>...</td>\n      <td>...</td>\n      <td>...</td>\n      <td>...</td>\n      <td>...</td>\n      <td>...</td>\n      <td>...</td>\n      <td>...</td>\n      <td>...</td>\n      <td>...</td>\n      <td>...</td>\n      <td>...</td>\n      <td>...</td>\n      <td>...</td>\n    </tr>\n    <tr>\n      <th>39602</th>\n      <td>TRAIN_39603</td>\n      <td>66.465</td>\n      <td>103.320</td>\n      <td>62.27</td>\n      <td>1</td>\n      <td>103.150</td>\n      <td>66.825</td>\n      <td>30.20</td>\n      <td>77.83</td>\n      <td>298.05</td>\n      <td>...</td>\n      <td>29.194</td>\n      <td>16.582</td>\n      <td>3.410</td>\n      <td>-26.486</td>\n      <td>-26.581</td>\n      <td>-22.772</td>\n      <td>24.261</td>\n      <td>-26.491</td>\n      <td>-26.584</td>\n      <td>-26.580</td>\n    </tr>\n    <tr>\n      <th>39603</th>\n      <td>TRAIN_39604</td>\n      <td>66.465</td>\n      <td>103.321</td>\n      <td>62.77</td>\n      <td>1</td>\n      <td>102.021</td>\n      <td>66.825</td>\n      <td>29.21</td>\n      <td>102.25</td>\n      <td>270.67</td>\n      <td>...</td>\n      <td>29.859</td>\n      <td>15.659</td>\n      <td>3.406</td>\n      <td>-27.308</td>\n      <td>-27.203</td>\n      <td>-24.674</td>\n      <td>23.427</td>\n      <td>-27.250</td>\n      <td>-27.334</td>\n      <td>-27.325</td>\n    </tr>\n    <tr>\n      <th>39604</th>\n      <td>TRAIN_39605</td>\n      <td>68.504</td>\n      <td>103.320</td>\n      <td>64.67</td>\n      <td>1</td>\n      <td>103.144</td>\n      <td>68.864</td>\n      <td>29.96</td>\n      <td>102.61</td>\n      <td>198.07</td>\n      <td>...</td>\n      <td>24.720</td>\n      <td>16.823</td>\n      <td>3.215</td>\n      <td>-26.502</td>\n      <td>-26.687</td>\n      <td>-22.577</td>\n      <td>24.301</td>\n      <td>-26.388</td>\n      <td>-26.425</td>\n      <td>-26.601</td>\n    </tr>\n    <tr>\n      <th>39605</th>\n      <td>TRAIN_39606</td>\n      <td>66.465</td>\n      <td>103.320</td>\n      <td>63.67</td>\n      <td>1</td>\n      <td>102.025</td>\n      <td>67.845</td>\n      <td>30.30</td>\n      <td>112.60</td>\n      <td>275.52</td>\n      <td>...</td>\n      <td>26.412</td>\n      <td>15.757</td>\n      <td>4.216</td>\n      <td>-26.760</td>\n      <td>-26.634</td>\n      <td>-24.066</td>\n      <td>23.305</td>\n      <td>-26.536</td>\n      <td>-26.751</td>\n      <td>-26.635</td>\n    </tr>\n    <tr>\n      <th>39606</th>\n      <td>TRAIN_39607</td>\n      <td>66.465</td>\n      <td>103.320</td>\n      <td>65.67</td>\n      <td>1</td>\n      <td>102.004</td>\n      <td>69.884</td>\n      <td>30.16</td>\n      <td>112.90</td>\n      <td>276.06</td>\n      <td>...</td>\n      <td>30.745</td>\n      <td>16.781</td>\n      <td>3.307</td>\n      <td>-26.054</td>\n      <td>-26.251</td>\n      <td>-23.257</td>\n      <td>24.450</td>\n      <td>-26.224</td>\n      <td>-26.256</td>\n      <td>-26.093</td>\n    </tr>\n  </tbody>\n</table>\n<p>39607 rows × 71 columns</p>\n</div>"
     },
     "execution_count": 28,
     "metadata": {},
     "output_type": "execute_result"
    }
   ],
   "source": [
    "train"
   ],
   "metadata": {
    "collapsed": false,
    "pycharm": {
     "name": "#%%\n"
    }
   }
  },
  {
   "cell_type": "code",
   "execution_count": null,
   "outputs": [],
   "source": [],
   "metadata": {
    "collapsed": false,
    "pycharm": {
     "name": "#%%\n"
    }
   }
  },
  {
   "cell_type": "code",
   "execution_count": null,
   "outputs": [],
   "source": [
    "info"
   ],
   "metadata": {
    "collapsed": false,
    "pycharm": {
     "name": "#%%\n"
    }
   }
  },
  {
   "cell_type": "code",
   "execution_count": 30,
   "outputs": [],
   "source": [
    "# 연관컬럼 엮기\n",
    "\n",
    "\n",
    "# PCB 체결 시 단계별 누름량(Step 1,2,3,4)\n",
    "pcb_step_push_amt = train[['X_01','X_02','X_05','X_06']]"
   ],
   "metadata": {
    "collapsed": false,
    "pycharm": {
     "name": "#%%\n"
    }
   }
  },
  {
   "cell_type": "code",
   "execution_count": 46,
   "outputs": [
    {
     "data": {
      "text/plain": "<AxesSubplot:>"
     },
     "execution_count": 46,
     "metadata": {},
     "output_type": "execute_result"
    },
    {
     "data": {
      "text/plain": "<Figure size 432x288 with 2 Axes>",
      "image/png": "[encoded data removed]"
     },
     "metadata": {
      "needs_background": "light"
     },
     "output_type": "display_data"
    }
   ],
   "source": [
    "# 단계별 유사도값\n",
    "pcb_step_push_amt_pearson = pcb_step_push_amt.corr()\n",
    "#X_01과 X_06은 어느정도 상관관계가 있다,왜일까?\n",
    "sns.heatmap(pcb_step_push_amt_pearson,cmap='YlGnBu')"
   ],
   "metadata": {
    "collapsed": false,
    "pycharm": {
     "name": "#%%\n"
    }
   }
  },
  {
   "cell_type": "code",
   "execution_count": 48,
   "outputs": [
    {
     "data": {
      "text/plain": "        X_07    X_08    X_09\n0      29.45   62.38  245.71\n1      28.73   61.23  233.61\n2      28.81  105.77  272.20\n3      28.92  115.21  255.36\n4      29.68  103.38  241.46\n...      ...     ...     ...\n39602  30.20   77.83  298.05\n39603  29.21  102.25  270.67\n39604  29.96  102.61  198.07\n39605  30.30  112.60  275.52\n39606  30.16  112.90  276.06\n\n[39607 rows x 3 columns]",
      "text/html": "<div>\n<style scoped>\n    .dataframe tbody tr th:only-of-type {\n        vertical-align: middle;\n    }\n\n    .dataframe tbody tr th {\n        vertical-align: top;\n    }\n\n    .dataframe thead th {\n        text-align: right;\n    }\n</style>\n<table border=\"1\" class=\"dataframe\">\n  <thead>\n    <tr style=\"text-align: right;\">\n      <th></th>\n      <th>X_07</th>\n      <th>X_08</th>\n      <th>X_09</th>\n    </tr>\n  </thead>\n  <tbody>\n    <tr>\n      <th>0</th>\n      <td>29.45</td>\n      <td>62.38</td>\n      <td>245.71</td>\n    </tr>\n    <tr>\n      <th>1</th>\n      <td>28.73</td>\n      <td>61.23</td>\n      <td>233.61</td>\n    </tr>\n    <tr>\n      <th>2</th>\n      <td>28.81</td>\n      <td>105.77</td>\n      <td>272.20</td>\n    </tr>\n    <tr>\n      <th>3</th>\n      <td>28.92</td>\n      <td>115.21</td>\n      <td>255.36</td>\n    </tr>\n    <tr>\n      <th>4</th>\n      <td>29.68</td>\n      <td>103.38</td>\n      <td>241.46</td>\n    </tr>\n    <tr>\n      <th>...</th>\n      <td>...</td>\n      <td>...</td>\n      <td>...</td>\n    </tr>\n    <tr>\n      <th>39602</th>\n      <td>30.20</td>\n      <td>77.83</td>\n      <td>298.05</td>\n    </tr>\n    <tr>\n      <th>39603</th>\n      <td>29.21</td>\n      <td>102.25</td>\n      <td>270.67</td>\n    </tr>\n    <tr>\n      <th>39604</th>\n      <td>29.96</td>\n      <td>102.61</td>\n      <td>198.07</td>\n    </tr>\n    <tr>\n      <th>39605</th>\n      <td>30.30</td>\n      <td>112.60</td>\n      <td>275.52</td>\n    </tr>\n    <tr>\n      <th>39606</th>\n      <td>30.16</td>\n      <td>112.90</td>\n      <td>276.06</td>\n    </tr>\n  </tbody>\n</table>\n<p>39607 rows × 3 columns</p>\n</div>"
     },
     "execution_count": 48,
     "metadata": {},
     "output_type": "execute_result"
    }
   ],
   "source": [
    "#방열재료면적1,2,3\n",
    "\n",
    "train[['X_07','X_08','X_09']]"
   ],
   "metadata": {
    "collapsed": false,
    "pycharm": {
     "name": "#%%\n"
    }
   }
  },
  {
   "cell_type": "code",
   "execution_count": 49,
   "outputs": [],
   "source": [
    "pt_heat_mat_area = train[['X_07','X_08','X_09']]"
   ],
   "metadata": {
    "collapsed": false,
    "pycharm": {
     "name": "#%%\n"
    }
   }
  },
  {
   "cell_type": "code",
   "execution_count": 53,
   "outputs": [],
   "source": [
    "# 면적끼리의 상관관게는 역시없다시피하다\n",
    "pt_heat_mat_area_corr = pt_heat_mat_area.corr()"
   ],
   "metadata": {
    "collapsed": false,
    "pycharm": {
     "name": "#%%\n"
    }
   }
  },
  {
   "cell_type": "code",
   "execution_count": 63,
   "outputs": [
    {
     "data": {
      "text/plain": "X_12\n4.38    9034\n4.37    6543\n4.36    5268\n4.39    4667\n4.35    4536\n4.40    3067\n4.34    2163\n4.41    1591\n4.33    1136\n4.42     727\n4.32     291\n4.43     269\n4.31     124\n4.44     117\n4.45      26\n4.46      22\n4.30      15\n4.47       6\n4.28       2\n4.48       1\n4.27       1\n4.49       1\ndtype: int64"
     },
     "execution_count": 63,
     "metadata": {},
     "output_type": "execute_result"
    },
    {
     "data": {
      "text/plain": "<Figure size 432x288 with 2 Axes>",
      "image/png": "[encoded data removed]"
     },
     "metadata": {
      "needs_background": "light"
     },
     "output_type": "display_data"
    }
   ],
   "source": [
    "sns.heatmap(pt_heat_mat_area_corr,cmap='RdYlGn_r')\n",
    "##%%\n",
    "# 커넥터 위치기준 좌표(커넥터로부터의 거리)\n",
    "train[['X_12']].value_counts()"
   ],
   "metadata": {
    "collapsed": false,
    "pycharm": {
     "name": "#%%\n"
    }
   }
  },
  {
   "cell_type": "code",
   "execution_count": null,
   "outputs": [],
   "source": [],
   "metadata": {
    "collapsed": false,
    "pycharm": {
     "name": "#%%\n"
    }
   }
  },
  {
   "cell_type": "code",
   "execution_count": 81,
   "outputs": [
    {
     "data": {
      "text/plain": "<AxesSubplot:>"
     },
     "execution_count": 81,
     "metadata": {},
     "output_type": "execute_result"
    },
    {
     "data": {
      "text/plain": "<Figure size 432x288 with 1 Axes>",
      "image/png": "[encoded data removed]"
     },
     "metadata": {
      "needs_background": "light"
     },
     "output_type": "display_data"
    }
   ],
   "source": [
    "# 이상치를 제거해볼까\n",
    "train[['X_12']].plot()"
   ],
   "metadata": {
    "collapsed": false,
    "pycharm": {
     "name": "#%%\n"
    }
   }
  },
  {
   "cell_type": "code",
   "execution_count": 75,
   "outputs": [],
   "source": [
    "spec_info = pd.read_csv(\"../data/meta/y_feature_spec_info.csv\")"
   ],
   "metadata": {
    "collapsed": false,
    "pycharm": {
     "name": "#%%\n"
    }
   }
  },
  {
   "cell_type": "code",
   "execution_count": 76,
   "outputs": [
    {
     "data": {
      "text/plain": "   Feature    최소    최대\n0     Y_01   0.2   2.0\n1     Y_02   0.2   2.1\n2     Y_03   0.2   2.1\n3     Y_04   7.0  19.0\n4     Y_05  22.0  36.5\n5     Y_06 -19.2  19.0\n6     Y_07   2.4   4.0\n7     Y_08 -29.2 -24.0\n8     Y_09 -29.2 -24.0\n9     Y_10 -30.6 -20.0\n10    Y_11  19.6  26.6\n11    Y_12 -29.2 -24.0\n12    Y_13 -29.2 -24.0\n13    Y_14 -29.2 -24.0",
      "text/html": "<div>\n<style scoped>\n    .dataframe tbody tr th:only-of-type {\n        vertical-align: middle;\n    }\n\n    .dataframe tbody tr th {\n        vertical-align: top;\n    }\n\n    .dataframe thead th {\n        text-align: right;\n    }\n</style>\n<table border=\"1\" class=\"dataframe\">\n  <thead>\n    <tr style=\"text-align: right;\">\n      <th></th>\n      <th>Feature</th>\n      <th>최소</th>\n      <th>최대</th>\n    </tr>\n  </thead>\n  <tbody>\n    <tr>\n      <th>0</th>\n      <td>Y_01</td>\n      <td>0.2</td>\n      <td>2.0</td>\n    </tr>\n    <tr>\n      <th>1</th>\n      <td>Y_02</td>\n      <td>0.2</td>\n      <td>2.1</td>\n    </tr>\n    <tr>\n      <th>2</th>\n      <td>Y_03</td>\n      <td>0.2</td>\n      <td>2.1</td>\n    </tr>\n    <tr>\n      <th>3</th>\n      <td>Y_04</td>\n      <td>7.0</td>\n      <td>19.0</td>\n    </tr>\n    <tr>\n      <th>4</th>\n      <td>Y_05</td>\n      <td>22.0</td>\n      <td>36.5</td>\n    </tr>\n    <tr>\n      <th>5</th>\n      <td>Y_06</td>\n      <td>-19.2</td>\n      <td>19.0</td>\n    </tr>\n    <tr>\n      <th>6</th>\n      <td>Y_07</td>\n      <td>2.4</td>\n      <td>4.0</td>\n    </tr>\n    <tr>\n      <th>7</th>\n      <td>Y_08</td>\n      <td>-29.2</td>\n      <td>-24.0</td>\n    </tr>\n    <tr>\n      <th>8</th>\n      <td>Y_09</td>\n      <td>-29.2</td>\n      <td>-24.0</td>\n    </tr>\n    <tr>\n      <th>9</th>\n      <td>Y_10</td>\n      <td>-30.6</td>\n      <td>-20.0</td>\n    </tr>\n    <tr>\n      <th>10</th>\n      <td>Y_11</td>\n      <td>19.6</td>\n      <td>26.6</td>\n    </tr>\n    <tr>\n      <th>11</th>\n      <td>Y_12</td>\n      <td>-29.2</td>\n      <td>-24.0</td>\n    </tr>\n    <tr>\n      <th>12</th>\n      <td>Y_13</td>\n      <td>-29.2</td>\n      <td>-24.0</td>\n    </tr>\n    <tr>\n      <th>13</th>\n      <td>Y_14</td>\n      <td>-29.2</td>\n      <td>-24.0</td>\n    </tr>\n  </tbody>\n</table>\n</div>"
     },
     "execution_count": 76,
     "metadata": {},
     "output_type": "execute_result"
    }
   ],
   "source": [
    "# y_feature들이 값안에 잘들어가도록\n",
    "spec_info"
   ],
   "metadata": {
    "collapsed": false,
    "pycharm": {
     "name": "#%%\n"
    }
   }
  },
  {
   "cell_type": "code",
   "execution_count": 90,
   "outputs": [],
   "source": [
    "x_col = [col for col in train.columns if 'X' in col]\n",
    "y_col = [col for col in train.columns if 'Y' in col]"
   ],
   "metadata": {
    "collapsed": false,
    "pycharm": {
     "name": "#%%\n"
    }
   }
  },
  {
   "cell_type": "code",
   "execution_count": 91,
   "outputs": [],
   "source": [
    "x_train = train[x_col]\n",
    "y_train = train[y_col]"
   ],
   "metadata": {
    "collapsed": false,
    "pycharm": {
     "name": "#%%\n"
    }
   }
  },
  {
   "cell_type": "code",
   "execution_count": null,
   "outputs": [],
   "source": [
    "# x값에 의한 y값을 잘 계산한다"
   ],
   "metadata": {
    "collapsed": false,
    "pycharm": {
     "name": "#%%\n"
    }
   }
  },
  {
   "cell_type": "code",
   "execution_count": 92,
   "outputs": [
    {
     "data": {
      "text/plain": "         X_01     X_02   X_03     X_05    X_06   X_07    X_08    X_09  X_10  \\\n0      70.544  103.320  67.47  101.892  74.983  29.45   62.38  245.71   0.0   \n1      69.524  103.321  65.17  101.944  72.943  28.73   61.23  233.61   0.0   \n2      72.583  103.320  64.07  103.153  72.943  28.81  105.77  272.20   0.0   \n3      71.563  103.320  67.57  101.971  77.022  28.92  115.21  255.36   0.0   \n4      69.524  103.320  63.57  101.981  70.904  29.68  103.38  241.46   0.0   \n...       ...      ...    ...      ...     ...    ...     ...     ...   ...   \n39602  66.465  103.320  62.27  103.150  66.825  30.20   77.83  298.05   0.0   \n39603  66.465  103.321  62.77  102.021  66.825  29.21  102.25  270.67   0.0   \n39604  68.504  103.320  64.67  103.144  68.864  29.96  102.61  198.07   0.0   \n39605  66.465  103.320  63.67  102.025  67.845  30.30  112.60  275.52   0.0   \n39606  66.465  103.320  65.67  102.004  69.884  30.16  112.90  276.06   0.0   \n\n       X_11  ...  X_47  X_48      X_49        X_50        X_51        X_52  \\\n0       0.0  ...     1     1   9706.03  137.043591  135.359219  147.837968   \n1       0.0  ...     1     1  10423.43  133.736691  135.979817  149.924692   \n2       0.0  ...     1     1  10948.53  132.805112  131.055355  146.814592   \n3       0.0  ...     1     1  15007.03  134.138760  133.239422  139.720132   \n4       0.0  ...     1     1  11051.03  142.728970  136.620022  134.853555   \n...     ...  ...   ...   ...       ...         ...         ...         ...   \n39602   0.0  ...     1     1  60630.73  129.965741  130.807148  133.481737   \n39603   0.0  ...     1     1  60763.43  127.633885  120.158764  142.667802   \n39604   0.0  ...     1     1   8813.33  132.501286  136.893025  134.419328   \n39605   0.0  ...     1     1  62222.33  128.189679  121.495930  141.288011   \n39606   0.0  ...     1     1  62172.23  135.096272  122.988476  142.019357   \n\n             X_53        X_54        X_55        X_56  \n0      134.313475  125.605427  136.721425  125.028256  \n1      123.630583  127.893337  143.322659  124.877308  \n2      128.939070  127.012195  140.395688  122.238232  \n3      132.260824  130.723186  147.624829  134.875225  \n4      134.760252  125.647793  139.331105  123.272762  \n...           ...         ...         ...         ...  \n39602  125.273130  121.780933  133.780110  129.029812  \n39603  122.465490  122.987209  143.090741  122.811413  \n39604  129.115431  130.920147  140.489232  119.166699  \n39605  130.141676  125.518825  136.603634  124.525929  \n39606  123.752157  130.648365  139.695370  136.714504  \n\n[39607 rows x 55 columns]",
      "text/html": "<div>\n<style scoped>\n    .dataframe tbody tr th:only-of-type {\n        vertical-align: middle;\n    }\n\n    .dataframe tbody tr th {\n        vertical-align: top;\n    }\n\n    .dataframe thead th {\n        text-align: right;\n    }\n</style>\n<table border=\"1\" class=\"dataframe\">\n  <thead>\n    <tr style=\"text-align: right;\">\n      <th></th>\n      <th>X_01</th>\n      <th>X_02</th>\n      <th>X_03</th>\n      <th>X_05</th>\n      <th>X_06</th>\n      <th>X_07</th>\n      <th>X_08</th>\n      <th>X_09</th>\n      <th>X_10</th>\n      <th>X_11</th>\n      <th>...</th>\n      <th>X_47</th>\n      <th>X_48</th>\n      <th>X_49</th>\n      <th>X_50</th>\n      <th>X_51</th>\n      <th>X_52</th>\n      <th>X_53</th>\n      <th>X_54</th>\n      <th>X_55</th>\n      <th>X_56</th>\n    </tr>\n  </thead>\n  <tbody>\n    <tr>\n      <th>0</th>\n      <td>70.544</td>\n      <td>103.320</td>\n      <td>67.47</td>\n      <td>101.892</td>\n      <td>74.983</td>\n      <td>29.45</td>\n      <td>62.38</td>\n      <td>245.71</td>\n      <td>0.0</td>\n      <td>0.0</td>\n      <td>...</td>\n      <td>1</td>\n      <td>1</td>\n      <td>9706.03</td>\n      <td>137.043591</td>\n      <td>135.359219</td>\n      <td>147.837968</td>\n      <td>134.313475</td>\n      <td>125.605427</td>\n      <td>136.721425</td>\n      <td>125.028256</td>\n    </tr>\n    <tr>\n      <th>1</th>\n      <td>69.524</td>\n      <td>103.321</td>\n      <td>65.17</td>\n      <td>101.944</td>\n      <td>72.943</td>\n      <td>28.73</td>\n      <td>61.23</td>\n      <td>233.61</td>\n      <td>0.0</td>\n      <td>0.0</td>\n      <td>...</td>\n      <td>1</td>\n      <td>1</td>\n      <td>10423.43</td>\n      <td>133.736691</td>\n      <td>135.979817</td>\n      <td>149.924692</td>\n      <td>123.630583</td>\n      <td>127.893337</td>\n      <td>143.322659</td>\n      <td>124.877308</td>\n    </tr>\n    <tr>\n      <th>2</th>\n      <td>72.583</td>\n      <td>103.320</td>\n      <td>64.07</td>\n      <td>103.153</td>\n      <td>72.943</td>\n      <td>28.81</td>\n      <td>105.77</td>\n      <td>272.20</td>\n      <td>0.0</td>\n      <td>0.0</td>\n      <td>...</td>\n      <td>1</td>\n      <td>1</td>\n      <td>10948.53</td>\n      <td>132.805112</td>\n      <td>131.055355</td>\n      <td>146.814592</td>\n      <td>128.939070</td>\n      <td>127.012195</td>\n      <td>140.395688</td>\n      <td>122.238232</td>\n    </tr>\n    <tr>\n      <th>3</th>\n      <td>71.563</td>\n      <td>103.320</td>\n      <td>67.57</td>\n      <td>101.971</td>\n      <td>77.022</td>\n      <td>28.92</td>\n      <td>115.21</td>\n      <td>255.36</td>\n      <td>0.0</td>\n      <td>0.0</td>\n      <td>...</td>\n      <td>1</td>\n      <td>1</td>\n      <td>15007.03</td>\n      <td>134.138760</td>\n      <td>133.239422</td>\n      <td>139.720132</td>\n      <td>132.260824</td>\n      <td>130.723186</td>\n      <td>147.624829</td>\n      <td>134.875225</td>\n    </tr>\n    <tr>\n      <th>4</th>\n      <td>69.524</td>\n      <td>103.320</td>\n      <td>63.57</td>\n      <td>101.981</td>\n      <td>70.904</td>\n      <td>29.68</td>\n      <td>103.38</td>\n      <td>241.46</td>\n      <td>0.0</td>\n      <td>0.0</td>\n      <td>...</td>\n      <td>1</td>\n      <td>1</td>\n      <td>11051.03</td>\n      <td>142.728970</td>\n      <td>136.620022</td>\n      <td>134.853555</td>\n      <td>134.760252</td>\n      <td>125.647793</td>\n      <td>139.331105</td>\n      <td>123.272762</td>\n    </tr>\n    <tr>\n      <th>...</th>\n      <td>...</td>\n      <td>...</td>\n      <td>...</td>\n      <td>...</td>\n      <td>...</td>\n      <td>...</td>\n      <td>...</td>\n      <td>...</td>\n      <td>...</td>\n      <td>...</td>\n      <td>...</td>\n      <td>...</td>\n      <td>...</td>\n      <td>...</td>\n      <td>...</td>\n      <td>...</td>\n      <td>...</td>\n      <td>...</td>\n      <td>...</td>\n      <td>...</td>\n      <td>...</td>\n    </tr>\n    <tr>\n      <th>39602</th>\n      <td>66.465</td>\n      <td>103.320</td>\n      <td>62.27</td>\n      <td>103.150</td>\n      <td>66.825</td>\n      <td>30.20</td>\n      <td>77.83</td>\n      <td>298.05</td>\n      <td>0.0</td>\n      <td>0.0</td>\n      <td>...</td>\n      <td>1</td>\n      <td>1</td>\n      <td>60630.73</td>\n      <td>129.965741</td>\n      <td>130.807148</td>\n      <td>133.481737</td>\n      <td>125.273130</td>\n      <td>121.780933</td>\n      <td>133.780110</td>\n      <td>129.029812</td>\n    </tr>\n    <tr>\n      <th>39603</th>\n      <td>66.465</td>\n      <td>103.321</td>\n      <td>62.77</td>\n      <td>102.021</td>\n      <td>66.825</td>\n      <td>29.21</td>\n      <td>102.25</td>\n      <td>270.67</td>\n      <td>0.0</td>\n      <td>0.0</td>\n      <td>...</td>\n      <td>1</td>\n      <td>1</td>\n      <td>60763.43</td>\n      <td>127.633885</td>\n      <td>120.158764</td>\n      <td>142.667802</td>\n      <td>122.465490</td>\n      <td>122.987209</td>\n      <td>143.090741</td>\n      <td>122.811413</td>\n    </tr>\n    <tr>\n      <th>39604</th>\n      <td>68.504</td>\n      <td>103.320</td>\n      <td>64.67</td>\n      <td>103.144</td>\n      <td>68.864</td>\n      <td>29.96</td>\n      <td>102.61</td>\n      <td>198.07</td>\n      <td>0.0</td>\n      <td>0.0</td>\n      <td>...</td>\n      <td>1</td>\n      <td>1</td>\n      <td>8813.33</td>\n      <td>132.501286</td>\n      <td>136.893025</td>\n      <td>134.419328</td>\n      <td>129.115431</td>\n      <td>130.920147</td>\n      <td>140.489232</td>\n      <td>119.166699</td>\n    </tr>\n    <tr>\n      <th>39605</th>\n      <td>66.465</td>\n      <td>103.320</td>\n      <td>63.67</td>\n      <td>102.025</td>\n      <td>67.845</td>\n      <td>30.30</td>\n      <td>112.60</td>\n      <td>275.52</td>\n      <td>0.0</td>\n      <td>0.0</td>\n      <td>...</td>\n      <td>1</td>\n      <td>1</td>\n      <td>62222.33</td>\n      <td>128.189679</td>\n      <td>121.495930</td>\n      <td>141.288011</td>\n      <td>130.141676</td>\n      <td>125.518825</td>\n      <td>136.603634</td>\n      <td>124.525929</td>\n    </tr>\n    <tr>\n      <th>39606</th>\n      <td>66.465</td>\n      <td>103.320</td>\n      <td>65.67</td>\n      <td>102.004</td>\n      <td>69.884</td>\n      <td>30.16</td>\n      <td>112.90</td>\n      <td>276.06</td>\n      <td>0.0</td>\n      <td>0.0</td>\n      <td>...</td>\n      <td>1</td>\n      <td>1</td>\n      <td>62172.23</td>\n      <td>135.096272</td>\n      <td>122.988476</td>\n      <td>142.019357</td>\n      <td>123.752157</td>\n      <td>130.648365</td>\n      <td>139.695370</td>\n      <td>136.714504</td>\n    </tr>\n  </tbody>\n</table>\n<p>39607 rows × 55 columns</p>\n</div>"
     },
     "execution_count": 92,
     "metadata": {},
     "output_type": "execute_result"
    }
   ],
   "source": [
    "x_train"
   ],
   "metadata": {
    "collapsed": false,
    "pycharm": {
     "name": "#%%\n"
    }
   }
  },
  {
   "cell_type": "code",
   "execution_count": 93,
   "outputs": [
    {
     "data": {
      "text/plain": "        Y_01   Y_02   Y_03    Y_04    Y_05    Y_06   Y_07    Y_08    Y_09  \\\n0      2.056  1.456  1.680  10.502  29.632  16.083  4.276 -25.381 -25.529   \n1      1.446  1.184  1.268  18.507  33.179  16.736  3.229 -26.619 -26.523   \n2      1.251  0.665  0.782  14.082  31.801  17.080  2.839 -26.238 -26.216   \n3      1.464  1.079  1.052  16.975  34.503  17.143  3.144 -25.426 -25.079   \n4      0.983  0.646  0.689  15.047  32.602  17.569  3.138 -25.376 -25.242   \n...      ...    ...    ...     ...     ...     ...    ...     ...     ...   \n39602  1.382  1.215  1.263  10.874  29.194  16.582  3.410 -26.486 -26.581   \n39603  1.482  0.606  1.083   8.759  29.859  15.659  3.406 -27.308 -27.203   \n39604  1.117  1.154  0.993  13.159  24.720  16.823  3.215 -26.502 -26.687   \n39605  0.895  0.187  0.477   9.123  26.412  15.757  4.216 -26.760 -26.634   \n39606  1.147  0.348  0.852  10.421  30.745  16.781  3.307 -26.054 -26.251   \n\n         Y_10    Y_11    Y_12    Y_13    Y_14  \n0     -22.769  23.792 -25.470 -25.409 -25.304  \n1     -22.574  24.691 -26.253 -26.497 -26.438  \n2     -22.169  24.649 -26.285 -26.215 -26.370  \n3     -21.765  24.913 -25.254 -25.021 -25.345  \n4     -21.072  25.299 -25.072 -25.195 -24.974  \n...       ...     ...     ...     ...     ...  \n39602 -22.772  24.261 -26.491 -26.584 -26.580  \n39603 -24.674  23.427 -27.250 -27.334 -27.325  \n39604 -22.577  24.301 -26.388 -26.425 -26.601  \n39605 -24.066  23.305 -26.536 -26.751 -26.635  \n39606 -23.257  24.450 -26.224 -26.256 -26.093  \n\n[39607 rows x 14 columns]",
      "text/html": "<div>\n<style scoped>\n    .dataframe tbody tr th:only-of-type {\n        vertical-align: middle;\n    }\n\n    .dataframe tbody tr th {\n        vertical-align: top;\n    }\n\n    .dataframe thead th {\n        text-align: right;\n    }\n</style>\n<table border=\"1\" class=\"dataframe\">\n  <thead>\n    <tr style=\"text-align: right;\">\n      <th></th>\n      <th>Y_01</th>\n      <th>Y_02</th>\n      <th>Y_03</th>\n      <th>Y_04</th>\n      <th>Y_05</th>\n      <th>Y_06</th>\n      <th>Y_07</th>\n      <th>Y_08</th>\n      <th>Y_09</th>\n      <th>Y_10</th>\n      <th>Y_11</th>\n      <th>Y_12</th>\n      <th>Y_13</th>\n      <th>Y_14</th>\n    </tr>\n  </thead>\n  <tbody>\n    <tr>\n      <th>0</th>\n      <td>2.056</td>\n      <td>1.456</td>\n      <td>1.680</td>\n      <td>10.502</td>\n      <td>29.632</td>\n      <td>16.083</td>\n      <td>4.276</td>\n      <td>-25.381</td>\n      <td>-25.529</td>\n      <td>-22.769</td>\n      <td>23.792</td>\n      <td>-25.470</td>\n      <td>-25.409</td>\n      <td>-25.304</td>\n    </tr>\n    <tr>\n      <th>1</th>\n      <td>1.446</td>\n      <td>1.184</td>\n      <td>1.268</td>\n      <td>18.507</td>\n      <td>33.179</td>\n      <td>16.736</td>\n      <td>3.229</td>\n      <td>-26.619</td>\n      <td>-26.523</td>\n      <td>-22.574</td>\n      <td>24.691</td>\n      <td>-26.253</td>\n      <td>-26.497</td>\n      <td>-26.438</td>\n    </tr>\n    <tr>\n      <th>2</th>\n      <td>1.251</td>\n      <td>0.665</td>\n      <td>0.782</td>\n      <td>14.082</td>\n      <td>31.801</td>\n      <td>17.080</td>\n      <td>2.839</td>\n      <td>-26.238</td>\n      <td>-26.216</td>\n      <td>-22.169</td>\n      <td>24.649</td>\n      <td>-26.285</td>\n      <td>-26.215</td>\n      <td>-26.370</td>\n    </tr>\n    <tr>\n      <th>3</th>\n      <td>1.464</td>\n      <td>1.079</td>\n      <td>1.052</td>\n      <td>16.975</td>\n      <td>34.503</td>\n      <td>17.143</td>\n      <td>3.144</td>\n      <td>-25.426</td>\n      <td>-25.079</td>\n      <td>-21.765</td>\n      <td>24.913</td>\n      <td>-25.254</td>\n      <td>-25.021</td>\n      <td>-25.345</td>\n    </tr>\n    <tr>\n      <th>4</th>\n      <td>0.983</td>\n      <td>0.646</td>\n      <td>0.689</td>\n      <td>15.047</td>\n      <td>32.602</td>\n      <td>17.569</td>\n      <td>3.138</td>\n      <td>-25.376</td>\n      <td>-25.242</td>\n      <td>-21.072</td>\n      <td>25.299</td>\n      <td>-25.072</td>\n      <td>-25.195</td>\n      <td>-24.974</td>\n    </tr>\n    <tr>\n      <th>...</th>\n      <td>...</td>\n      <td>...</td>\n      <td>...</td>\n      <td>...</td>\n      <td>...</td>\n      <td>...</td>\n      <td>...</td>\n      <td>...</td>\n      <td>...</td>\n      <td>...</td>\n      <td>...</td>\n      <td>...</td>\n      <td>...</td>\n      <td>...</td>\n    </tr>\n    <tr>\n      <th>39602</th>\n      <td>1.382</td>\n      <td>1.215</td>\n      <td>1.263</td>\n      <td>10.874</td>\n      <td>29.194</td>\n      <td>16.582</td>\n      <td>3.410</td>\n      <td>-26.486</td>\n      <td>-26.581</td>\n      <td>-22.772</td>\n      <td>24.261</td>\n      <td>-26.491</td>\n      <td>-26.584</td>\n      <td>-26.580</td>\n    </tr>\n    <tr>\n      <th>39603</th>\n      <td>1.482</td>\n      <td>0.606</td>\n      <td>1.083</td>\n      <td>8.759</td>\n      <td>29.859</td>\n      <td>15.659</td>\n      <td>3.406</td>\n      <td>-27.308</td>\n      <td>-27.203</td>\n      <td>-24.674</td>\n      <td>23.427</td>\n      <td>-27.250</td>\n      <td>-27.334</td>\n      <td>-27.325</td>\n    </tr>\n    <tr>\n      <th>39604</th>\n      <td>1.117</td>\n      <td>1.154</td>\n      <td>0.993</td>\n      <td>13.159</td>\n      <td>24.720</td>\n      <td>16.823</td>\n      <td>3.215</td>\n      <td>-26.502</td>\n      <td>-26.687</td>\n      <td>-22.577</td>\n      <td>24.301</td>\n      <td>-26.388</td>\n      <td>-26.425</td>\n      <td>-26.601</td>\n    </tr>\n    <tr>\n      <th>39605</th>\n      <td>0.895</td>\n      <td>0.187</td>\n      <td>0.477</td>\n      <td>9.123</td>\n      <td>26.412</td>\n      <td>15.757</td>\n      <td>4.216</td>\n      <td>-26.760</td>\n      <td>-26.634</td>\n      <td>-24.066</td>\n      <td>23.305</td>\n      <td>-26.536</td>\n      <td>-26.751</td>\n      <td>-26.635</td>\n    </tr>\n    <tr>\n      <th>39606</th>\n      <td>1.147</td>\n      <td>0.348</td>\n      <td>0.852</td>\n      <td>10.421</td>\n      <td>30.745</td>\n      <td>16.781</td>\n      <td>3.307</td>\n      <td>-26.054</td>\n      <td>-26.251</td>\n      <td>-23.257</td>\n      <td>24.450</td>\n      <td>-26.224</td>\n      <td>-26.256</td>\n      <td>-26.093</td>\n    </tr>\n  </tbody>\n</table>\n<p>39607 rows × 14 columns</p>\n</div>"
     },
     "execution_count": 93,
     "metadata": {},
     "output_type": "execute_result"
    }
   ],
   "source": [
    "y_train"
   ],
   "metadata": {
    "collapsed": false,
    "pycharm": {
     "name": "#%%\n"
    }
   }
  },
  {
   "cell_type": "code",
   "execution_count": 94,
   "outputs": [
    {
     "data": {
      "text/plain": "        Y_01   Y_02   Y_03    Y_04    Y_05    Y_06   Y_07    Y_08    Y_09  \\\n0      2.056  1.456  1.680  10.502  29.632  16.083  4.276 -25.381 -25.529   \n1      1.446  1.184  1.268  18.507  33.179  16.736  3.229 -26.619 -26.523   \n2      1.251  0.665  0.782  14.082  31.801  17.080  2.839 -26.238 -26.216   \n3      1.464  1.079  1.052  16.975  34.503  17.143  3.144 -25.426 -25.079   \n4      0.983  0.646  0.689  15.047  32.602  17.569  3.138 -25.376 -25.242   \n...      ...    ...    ...     ...     ...     ...    ...     ...     ...   \n39602  1.382  1.215  1.263  10.874  29.194  16.582  3.410 -26.486 -26.581   \n39603  1.482  0.606  1.083   8.759  29.859  15.659  3.406 -27.308 -27.203   \n39604  1.117  1.154  0.993  13.159  24.720  16.823  3.215 -26.502 -26.687   \n39605  0.895  0.187  0.477   9.123  26.412  15.757  4.216 -26.760 -26.634   \n39606  1.147  0.348  0.852  10.421  30.745  16.781  3.307 -26.054 -26.251   \n\n         Y_10    Y_11    Y_12    Y_13    Y_14  \n0     -22.769  23.792 -25.470 -25.409 -25.304  \n1     -22.574  24.691 -26.253 -26.497 -26.438  \n2     -22.169  24.649 -26.285 -26.215 -26.370  \n3     -21.765  24.913 -25.254 -25.021 -25.345  \n4     -21.072  25.299 -25.072 -25.195 -24.974  \n...       ...     ...     ...     ...     ...  \n39602 -22.772  24.261 -26.491 -26.584 -26.580  \n39603 -24.674  23.427 -27.250 -27.334 -27.325  \n39604 -22.577  24.301 -26.388 -26.425 -26.601  \n39605 -24.066  23.305 -26.536 -26.751 -26.635  \n39606 -23.257  24.450 -26.224 -26.256 -26.093  \n\n[39607 rows x 14 columns]",
      "text/html": "<div>\n<style scoped>\n    .dataframe tbody tr th:only-of-type {\n        vertical-align: middle;\n    }\n\n    .dataframe tbody tr th {\n        vertical-align: top;\n    }\n\n    .dataframe thead th {\n        text-align: right;\n    }\n</style>\n<table border=\"1\" class=\"dataframe\">\n  <thead>\n    <tr style=\"text-align: right;\">\n      <th></th>\n      <th>Y_01</th>\n      <th>Y_02</th>\n      <th>Y_03</th>\n      <th>Y_04</th>\n      <th>Y_05</th>\n      <th>Y_06</th>\n      <th>Y_07</th>\n      <th>Y_08</th>\n      <th>Y_09</th>\n      <th>Y_10</th>\n      <th>Y_11</th>\n      <th>Y_12</th>\n      <th>Y_13</th>\n      <th>Y_14</th>\n    </tr>\n  </thead>\n  <tbody>\n    <tr>\n      <th>0</th>\n      <td>2.056</td>\n      <td>1.456</td>\n      <td>1.680</td>\n      <td>10.502</td>\n      <td>29.632</td>\n      <td>16.083</td>\n      <td>4.276</td>\n      <td>-25.381</td>\n      <td>-25.529</td>\n      <td>-22.769</td>\n      <td>23.792</td>\n      <td>-25.470</td>\n      <td>-25.409</td>\n      <td>-25.304</td>\n    </tr>\n    <tr>\n      <th>1</th>\n      <td>1.446</td>\n      <td>1.184</td>\n      <td>1.268</td>\n      <td>18.507</td>\n      <td>33.179</td>\n      <td>16.736</td>\n      <td>3.229</td>\n      <td>-26.619</td>\n      <td>-26.523</td>\n      <td>-22.574</td>\n      <td>24.691</td>\n      <td>-26.253</td>\n      <td>-26.497</td>\n      <td>-26.438</td>\n    </tr>\n    <tr>\n      <th>2</th>\n      <td>1.251</td>\n      <td>0.665</td>\n      <td>0.782</td>\n      <td>14.082</td>\n      <td>31.801</td>\n      <td>17.080</td>\n      <td>2.839</td>\n      <td>-26.238</td>\n      <td>-26.216</td>\n      <td>-22.169</td>\n      <td>24.649</td>\n      <td>-26.285</td>\n      <td>-26.215</td>\n      <td>-26.370</td>\n    </tr>\n    <tr>\n      <th>3</th>\n      <td>1.464</td>\n      <td>1.079</td>\n      <td>1.052</td>\n      <td>16.975</td>\n      <td>34.503</td>\n      <td>17.143</td>\n      <td>3.144</td>\n      <td>-25.426</td>\n      <td>-25.079</td>\n      <td>-21.765</td>\n      <td>24.913</td>\n      <td>-25.254</td>\n      <td>-25.021</td>\n      <td>-25.345</td>\n    </tr>\n    <tr>\n      <th>4</th>\n      <td>0.983</td>\n      <td>0.646</td>\n      <td>0.689</td>\n      <td>15.047</td>\n      <td>32.602</td>\n      <td>17.569</td>\n      <td>3.138</td>\n      <td>-25.376</td>\n      <td>-25.242</td>\n      <td>-21.072</td>\n      <td>25.299</td>\n      <td>-25.072</td>\n      <td>-25.195</td>\n      <td>-24.974</td>\n    </tr>\n    <tr>\n      <th>...</th>\n      <td>...</td>\n      <td>...</td>\n      <td>...</td>\n      <td>...</td>\n      <td>...</td>\n      <td>...</td>\n      <td>...</td>\n      <td>...</td>\n      <td>...</td>\n      <td>...</td>\n      <td>...</td>\n      <td>...</td>\n      <td>...</td>\n      <td>...</td>\n    </tr>\n    <tr>\n      <th>39602</th>\n      <td>1.382</td>\n      <td>1.215</td>\n      <td>1.263</td>\n      <td>10.874</td>\n      <td>29.194</td>\n      <td>16.582</td>\n      <td>3.410</td>\n      <td>-26.486</td>\n      <td>-26.581</td>\n      <td>-22.772</td>\n      <td>24.261</td>\n      <td>-26.491</td>\n      <td>-26.584</td>\n      <td>-26.580</td>\n    </tr>\n    <tr>\n      <th>39603</th>\n      <td>1.482</td>\n      <td>0.606</td>\n      <td>1.083</td>\n      <td>8.759</td>\n      <td>29.859</td>\n      <td>15.659</td>\n      <td>3.406</td>\n      <td>-27.308</td>\n      <td>-27.203</td>\n      <td>-24.674</td>\n      <td>23.427</td>\n      <td>-27.250</td>\n      <td>-27.334</td>\n      <td>-27.325</td>\n    </tr>\n    <tr>\n      <th>39604</th>\n      <td>1.117</td>\n      <td>1.154</td>\n      <td>0.993</td>\n      <td>13.159</td>\n      <td>24.720</td>\n      <td>16.823</td>\n      <td>3.215</td>\n      <td>-26.502</td>\n      <td>-26.687</td>\n      <td>-22.577</td>\n      <td>24.301</td>\n      <td>-26.388</td>\n      <td>-26.425</td>\n      <td>-26.601</td>\n    </tr>\n    <tr>\n      <th>39605</th>\n      <td>0.895</td>\n      <td>0.187</td>\n      <td>0.477</td>\n      <td>9.123</td>\n      <td>26.412</td>\n      <td>15.757</td>\n      <td>4.216</td>\n      <td>-26.760</td>\n      <td>-26.634</td>\n      <td>-24.066</td>\n      <td>23.305</td>\n      <td>-26.536</td>\n      <td>-26.751</td>\n      <td>-26.635</td>\n    </tr>\n    <tr>\n      <th>39606</th>\n      <td>1.147</td>\n      <td>0.348</td>\n      <td>0.852</td>\n      <td>10.421</td>\n      <td>30.745</td>\n      <td>16.781</td>\n      <td>3.307</td>\n      <td>-26.054</td>\n      <td>-26.251</td>\n      <td>-23.257</td>\n      <td>24.450</td>\n      <td>-26.224</td>\n      <td>-26.256</td>\n      <td>-26.093</td>\n    </tr>\n  </tbody>\n</table>\n<p>39607 rows × 14 columns</p>\n</div>"
     },
     "execution_count": 94,
     "metadata": {},
     "output_type": "execute_result"
    }
   ],
   "source": [
    "#정상값들의 분포를 보고 패턴을 찾자"
   ],
   "metadata": {
    "collapsed": false,
    "pycharm": {
     "name": "#%%\n"
    }
   }
  },
  {
   "cell_type": "code",
   "execution_count": 97,
   "outputs": [
    {
     "data": {
      "text/plain": "   Feature    최소    최대\n0     Y_01   0.2   2.0\n1     Y_02   0.2   2.1\n2     Y_03   0.2   2.1\n3     Y_04   7.0  19.0\n4     Y_05  22.0  36.5\n5     Y_06 -19.2  19.0\n6     Y_07   2.4   4.0\n7     Y_08 -29.2 -24.0\n8     Y_09 -29.2 -24.0\n9     Y_10 -30.6 -20.0\n10    Y_11  19.6  26.6\n11    Y_12 -29.2 -24.0\n12    Y_13 -29.2 -24.0\n13    Y_14 -29.2 -24.0",
      "text/html": "<div>\n<style scoped>\n    .dataframe tbody tr th:only-of-type {\n        vertical-align: middle;\n    }\n\n    .dataframe tbody tr th {\n        vertical-align: top;\n    }\n\n    .dataframe thead th {\n        text-align: right;\n    }\n</style>\n<table border=\"1\" class=\"dataframe\">\n  <thead>\n    <tr style=\"text-align: right;\">\n      <th></th>\n      <th>Feature</th>\n      <th>최소</th>\n      <th>최대</th>\n    </tr>\n  </thead>\n  <tbody>\n    <tr>\n      <th>0</th>\n      <td>Y_01</td>\n      <td>0.2</td>\n      <td>2.0</td>\n    </tr>\n    <tr>\n      <th>1</th>\n      <td>Y_02</td>\n      <td>0.2</td>\n      <td>2.1</td>\n    </tr>\n    <tr>\n      <th>2</th>\n      <td>Y_03</td>\n      <td>0.2</td>\n      <td>2.1</td>\n    </tr>\n    <tr>\n      <th>3</th>\n      <td>Y_04</td>\n      <td>7.0</td>\n      <td>19.0</td>\n    </tr>\n    <tr>\n      <th>4</th>\n      <td>Y_05</td>\n      <td>22.0</td>\n      <td>36.5</td>\n    </tr>\n    <tr>\n      <th>5</th>\n      <td>Y_06</td>\n      <td>-19.2</td>\n      <td>19.0</td>\n    </tr>\n    <tr>\n      <th>6</th>\n      <td>Y_07</td>\n      <td>2.4</td>\n      <td>4.0</td>\n    </tr>\n    <tr>\n      <th>7</th>\n      <td>Y_08</td>\n      <td>-29.2</td>\n      <td>-24.0</td>\n    </tr>\n    <tr>\n      <th>8</th>\n      <td>Y_09</td>\n      <td>-29.2</td>\n      <td>-24.0</td>\n    </tr>\n    <tr>\n      <th>9</th>\n      <td>Y_10</td>\n      <td>-30.6</td>\n      <td>-20.0</td>\n    </tr>\n    <tr>\n      <th>10</th>\n      <td>Y_11</td>\n      <td>19.6</td>\n      <td>26.6</td>\n    </tr>\n    <tr>\n      <th>11</th>\n      <td>Y_12</td>\n      <td>-29.2</td>\n      <td>-24.0</td>\n    </tr>\n    <tr>\n      <th>12</th>\n      <td>Y_13</td>\n      <td>-29.2</td>\n      <td>-24.0</td>\n    </tr>\n    <tr>\n      <th>13</th>\n      <td>Y_14</td>\n      <td>-29.2</td>\n      <td>-24.0</td>\n    </tr>\n  </tbody>\n</table>\n</div>"
     },
     "execution_count": 97,
     "metadata": {},
     "output_type": "execute_result"
    }
   ],
   "source": [
    "spec_info"
   ],
   "metadata": {
    "collapsed": false,
    "pycharm": {
     "name": "#%%\n"
    }
   }
  },
  {
   "cell_type": "code",
   "execution_count": 105,
   "outputs": [],
   "source": [
    "y_min = spec_info[spec_info.Feature =='Y_01']['최소'][0]"
   ],
   "metadata": {
    "collapsed": false,
    "pycharm": {
     "name": "#%%\n"
    }
   }
  },
  {
   "cell_type": "code",
   "execution_count": 106,
   "outputs": [],
   "source": [
    "y_max = spec_info[spec_info.Feature =='Y_01']['최대'][0]"
   ],
   "metadata": {
    "collapsed": false,
    "pycharm": {
     "name": "#%%\n"
    }
   }
  },
  {
   "cell_type": "code",
   "execution_count": 126,
   "outputs": [
    {
     "data": {
      "text/plain": "0.2"
     },
     "execution_count": 126,
     "metadata": {},
     "output_type": "execute_result"
    }
   ],
   "source": [],
   "metadata": {
    "collapsed": false,
    "pycharm": {
     "name": "#%%\n"
    }
   }
  },
  {
   "cell_type": "code",
   "execution_count": 127,
   "outputs": [
    {
     "data": {
      "text/plain": "Y_01    0.999895\ndtype: float64"
     },
     "execution_count": 127,
     "metadata": {},
     "output_type": "execute_result"
    }
   ],
   "source": [
    "(train[train.Y_01 <=y_max][['Y_01']]<y_max).mean()"
   ],
   "metadata": {
    "collapsed": false,
    "pycharm": {
     "name": "#%%\n"
    }
   }
  },
  {
   "cell_type": "code",
   "execution_count": 124,
   "outputs": [
    {
     "data": {
      "text/plain": "Y_01    0.997515\ndtype: float64"
     },
     "execution_count": 124,
     "metadata": {},
     "output_type": "execute_result"
    }
   ],
   "source": [],
   "metadata": {
    "collapsed": false,
    "pycharm": {
     "name": "#%%\n"
    }
   }
  },
  {
   "cell_type": "code",
   "execution_count": 129,
   "outputs": [
    {
     "ename": "KeyboardInterrupt",
     "evalue": "",
     "output_type": "error",
     "traceback": [
      "\u001B[1;31m---------------------------------------------------------------------------\u001B[0m",
      "\u001B[1;31mKeyboardInterrupt\u001B[0m                         Traceback (most recent call last)",
      "\u001B[1;32m<ipython-input-129-24ebfc147c94>\u001B[0m in \u001B[0;36m<module>\u001B[1;34m\u001B[0m\n\u001B[0;32m      3\u001B[0m \u001B[1;33m\u001B[0m\u001B[0m\n\u001B[0;32m      4\u001B[0m \u001B[1;32mfor\u001B[0m \u001B[0mycol\u001B[0m \u001B[1;32min\u001B[0m \u001B[0my_col\u001B[0m\u001B[1;33m:\u001B[0m\u001B[1;33m\u001B[0m\u001B[1;33m\u001B[0m\u001B[0m\n\u001B[1;32m----> 5\u001B[1;33m     \u001B[0mprint\u001B[0m\u001B[1;33m(\u001B[0m\u001B[0mtrain\u001B[0m\u001B[1;33m[\u001B[0m\u001B[1;33m(\u001B[0m\u001B[0my_min\u001B[0m\u001B[1;33m<=\u001B[0m\u001B[0mtrain\u001B[0m\u001B[1;33m[\u001B[0m\u001B[0mycol\u001B[0m\u001B[1;33m]\u001B[0m\u001B[1;33m)\u001B[0m \u001B[1;33m&\u001B[0m\u001B[1;33m(\u001B[0m\u001B[0mtrain\u001B[0m\u001B[1;33m[\u001B[0m\u001B[0my_col\u001B[0m\u001B[1;33m]\u001B[0m \u001B[1;33m<=\u001B[0m\u001B[0my_max\u001B[0m\u001B[1;33m)\u001B[0m\u001B[1;33m]\u001B[0m\u001B[1;33m)\u001B[0m\u001B[1;33m\u001B[0m\u001B[1;33m\u001B[0m\u001B[0m\n\u001B[0m\u001B[0;32m      6\u001B[0m     \u001B[1;32mbreak\u001B[0m\u001B[1;33m\u001B[0m\u001B[1;33m\u001B[0m\u001B[0m\n",
      "\u001B[1;32mc:\\users\\data\\appdata\\local\\programs\\python\\python38\\lib\\site-packages\\pandas\\core\\ops\\common.py\u001B[0m in \u001B[0;36mnew_method\u001B[1;34m(self, other)\u001B[0m\n\u001B[0;32m     63\u001B[0m         \u001B[0mother\u001B[0m \u001B[1;33m=\u001B[0m \u001B[0mitem_from_zerodim\u001B[0m\u001B[1;33m(\u001B[0m\u001B[0mother\u001B[0m\u001B[1;33m)\u001B[0m\u001B[1;33m\u001B[0m\u001B[1;33m\u001B[0m\u001B[0m\n\u001B[0;32m     64\u001B[0m \u001B[1;33m\u001B[0m\u001B[0m\n\u001B[1;32m---> 65\u001B[1;33m         \u001B[1;32mreturn\u001B[0m \u001B[0mmethod\u001B[0m\u001B[1;33m(\u001B[0m\u001B[0mself\u001B[0m\u001B[1;33m,\u001B[0m \u001B[0mother\u001B[0m\u001B[1;33m)\u001B[0m\u001B[1;33m\u001B[0m\u001B[1;33m\u001B[0m\u001B[0m\n\u001B[0m\u001B[0;32m     66\u001B[0m \u001B[1;33m\u001B[0m\u001B[0m\n\u001B[0;32m     67\u001B[0m     \u001B[1;32mreturn\u001B[0m \u001B[0mnew_method\u001B[0m\u001B[1;33m\u001B[0m\u001B[1;33m\u001B[0m\u001B[0m\n",
      "\u001B[1;32mc:\\users\\data\\appdata\\local\\programs\\python\\python38\\lib\\site-packages\\pandas\\core\\arraylike.py\u001B[0m in \u001B[0;36m__rand__\u001B[1;34m(self, other)\u001B[0m\n\u001B[0;32m     61\u001B[0m     \u001B[1;33m@\u001B[0m\u001B[0munpack_zerodim_and_defer\u001B[0m\u001B[1;33m(\u001B[0m\u001B[1;34m\"__rand__\"\u001B[0m\u001B[1;33m)\u001B[0m\u001B[1;33m\u001B[0m\u001B[1;33m\u001B[0m\u001B[0m\n\u001B[0;32m     62\u001B[0m     \u001B[1;32mdef\u001B[0m \u001B[0m__rand__\u001B[0m\u001B[1;33m(\u001B[0m\u001B[0mself\u001B[0m\u001B[1;33m,\u001B[0m \u001B[0mother\u001B[0m\u001B[1;33m)\u001B[0m\u001B[1;33m:\u001B[0m\u001B[1;33m\u001B[0m\u001B[1;33m\u001B[0m\u001B[0m\n\u001B[1;32m---> 63\u001B[1;33m         \u001B[1;32mreturn\u001B[0m \u001B[0mself\u001B[0m\u001B[1;33m.\u001B[0m\u001B[0m_logical_method\u001B[0m\u001B[1;33m(\u001B[0m\u001B[0mother\u001B[0m\u001B[1;33m,\u001B[0m \u001B[0mroperator\u001B[0m\u001B[1;33m.\u001B[0m\u001B[0mrand_\u001B[0m\u001B[1;33m)\u001B[0m\u001B[1;33m\u001B[0m\u001B[1;33m\u001B[0m\u001B[0m\n\u001B[0m\u001B[0;32m     64\u001B[0m \u001B[1;33m\u001B[0m\u001B[0m\n\u001B[0;32m     65\u001B[0m     \u001B[1;33m@\u001B[0m\u001B[0munpack_zerodim_and_defer\u001B[0m\u001B[1;33m(\u001B[0m\u001B[1;34m\"__or__\"\u001B[0m\u001B[1;33m)\u001B[0m\u001B[1;33m\u001B[0m\u001B[1;33m\u001B[0m\u001B[0m\n",
      "\u001B[1;32mc:\\users\\data\\appdata\\local\\programs\\python\\python38\\lib\\site-packages\\pandas\\core\\frame.py\u001B[0m in \u001B[0;36m_arith_method\u001B[1;34m(self, other, op)\u001B[0m\n\u001B[0;32m   5978\u001B[0m         \u001B[0maxis\u001B[0m \u001B[1;33m=\u001B[0m \u001B[1;36m1\u001B[0m  \u001B[1;31m# only relevant for Series other case\u001B[0m\u001B[1;33m\u001B[0m\u001B[1;33m\u001B[0m\u001B[0m\n\u001B[0;32m   5979\u001B[0m \u001B[1;33m\u001B[0m\u001B[0m\n\u001B[1;32m-> 5980\u001B[1;33m         \u001B[0mself\u001B[0m\u001B[1;33m,\u001B[0m \u001B[0mother\u001B[0m \u001B[1;33m=\u001B[0m \u001B[0mops\u001B[0m\u001B[1;33m.\u001B[0m\u001B[0malign_method_FRAME\u001B[0m\u001B[1;33m(\u001B[0m\u001B[0mself\u001B[0m\u001B[1;33m,\u001B[0m \u001B[0mother\u001B[0m\u001B[1;33m,\u001B[0m \u001B[0maxis\u001B[0m\u001B[1;33m,\u001B[0m \u001B[0mflex\u001B[0m\u001B[1;33m=\u001B[0m\u001B[1;32mTrue\u001B[0m\u001B[1;33m,\u001B[0m \u001B[0mlevel\u001B[0m\u001B[1;33m=\u001B[0m\u001B[1;32mNone\u001B[0m\u001B[1;33m)\u001B[0m\u001B[1;33m\u001B[0m\u001B[1;33m\u001B[0m\u001B[0m\n\u001B[0m\u001B[0;32m   5981\u001B[0m \u001B[1;33m\u001B[0m\u001B[0m\n\u001B[0;32m   5982\u001B[0m         \u001B[0mnew_data\u001B[0m \u001B[1;33m=\u001B[0m \u001B[0mself\u001B[0m\u001B[1;33m.\u001B[0m\u001B[0m_dispatch_frame_op\u001B[0m\u001B[1;33m(\u001B[0m\u001B[0mother\u001B[0m\u001B[1;33m,\u001B[0m \u001B[0mop\u001B[0m\u001B[1;33m,\u001B[0m \u001B[0maxis\u001B[0m\u001B[1;33m=\u001B[0m\u001B[0maxis\u001B[0m\u001B[1;33m)\u001B[0m\u001B[1;33m\u001B[0m\u001B[1;33m\u001B[0m\u001B[0m\n",
      "\u001B[1;32mc:\\users\\data\\appdata\\local\\programs\\python\\python38\\lib\\site-packages\\pandas\\core\\ops\\__init__.py\u001B[0m in \u001B[0;36malign_method_FRAME\u001B[1;34m(left, right, axis, flex, level)\u001B[0m\n\u001B[0;32m    288\u001B[0m             \u001B[0mright\u001B[0m\u001B[1;33m,\u001B[0m \u001B[0mjoin\u001B[0m\u001B[1;33m=\u001B[0m\u001B[1;34m\"outer\"\u001B[0m\u001B[1;33m,\u001B[0m \u001B[0maxis\u001B[0m\u001B[1;33m=\u001B[0m\u001B[0maxis\u001B[0m\u001B[1;33m,\u001B[0m \u001B[0mlevel\u001B[0m\u001B[1;33m=\u001B[0m\u001B[0mlevel\u001B[0m\u001B[1;33m,\u001B[0m \u001B[0mcopy\u001B[0m\u001B[1;33m=\u001B[0m\u001B[1;32mFalse\u001B[0m\u001B[1;33m\u001B[0m\u001B[1;33m\u001B[0m\u001B[0m\n\u001B[0;32m    289\u001B[0m         )\n\u001B[1;32m--> 290\u001B[1;33m         \u001B[0mright\u001B[0m \u001B[1;33m=\u001B[0m \u001B[0m_maybe_align_series_as_frame\u001B[0m\u001B[1;33m(\u001B[0m\u001B[0mleft\u001B[0m\u001B[1;33m,\u001B[0m \u001B[0mright\u001B[0m\u001B[1;33m,\u001B[0m \u001B[0maxis\u001B[0m\u001B[1;33m)\u001B[0m\u001B[1;33m\u001B[0m\u001B[1;33m\u001B[0m\u001B[0m\n\u001B[0m\u001B[0;32m    291\u001B[0m \u001B[1;33m\u001B[0m\u001B[0m\n\u001B[0;32m    292\u001B[0m     \u001B[1;32mreturn\u001B[0m \u001B[0mleft\u001B[0m\u001B[1;33m,\u001B[0m \u001B[0mright\u001B[0m\u001B[1;33m\u001B[0m\u001B[1;33m\u001B[0m\u001B[0m\n",
      "\u001B[1;32mc:\\users\\data\\appdata\\local\\programs\\python\\python38\\lib\\site-packages\\pandas\\core\\ops\\__init__.py\u001B[0m in \u001B[0;36m_maybe_align_series_as_frame\u001B[1;34m(frame, series, axis)\u001B[0m\n\u001B[0;32m    388\u001B[0m \u001B[1;33m\u001B[0m\u001B[0m\n\u001B[0;32m    389\u001B[0m     \u001B[0mrvalues\u001B[0m \u001B[1;33m=\u001B[0m \u001B[0mnp\u001B[0m\u001B[1;33m.\u001B[0m\u001B[0mbroadcast_to\u001B[0m\u001B[1;33m(\u001B[0m\u001B[0mrvalues\u001B[0m\u001B[1;33m,\u001B[0m \u001B[0mframe\u001B[0m\u001B[1;33m.\u001B[0m\u001B[0mshape\u001B[0m\u001B[1;33m)\u001B[0m\u001B[1;33m\u001B[0m\u001B[1;33m\u001B[0m\u001B[0m\n\u001B[1;32m--> 390\u001B[1;33m     \u001B[1;32mreturn\u001B[0m \u001B[0mtype\u001B[0m\u001B[1;33m(\u001B[0m\u001B[0mframe\u001B[0m\u001B[1;33m)\u001B[0m\u001B[1;33m(\u001B[0m\u001B[0mrvalues\u001B[0m\u001B[1;33m,\u001B[0m \u001B[0mindex\u001B[0m\u001B[1;33m=\u001B[0m\u001B[0mframe\u001B[0m\u001B[1;33m.\u001B[0m\u001B[0mindex\u001B[0m\u001B[1;33m,\u001B[0m \u001B[0mcolumns\u001B[0m\u001B[1;33m=\u001B[0m\u001B[0mframe\u001B[0m\u001B[1;33m.\u001B[0m\u001B[0mcolumns\u001B[0m\u001B[1;33m)\u001B[0m\u001B[1;33m\u001B[0m\u001B[1;33m\u001B[0m\u001B[0m\n\u001B[0m\u001B[0;32m    391\u001B[0m \u001B[1;33m\u001B[0m\u001B[0m\n\u001B[0;32m    392\u001B[0m \u001B[1;33m\u001B[0m\u001B[0m\n",
      "\u001B[1;32mc:\\users\\data\\appdata\\local\\programs\\python\\python38\\lib\\site-packages\\pandas\\core\\frame.py\u001B[0m in \u001B[0;36m__init__\u001B[1;34m(self, data, index, columns, dtype, copy)\u001B[0m\n\u001B[0;32m    556\u001B[0m                 \u001B[0mmgr\u001B[0m \u001B[1;33m=\u001B[0m \u001B[0minit_dict\u001B[0m\u001B[1;33m(\u001B[0m\u001B[1;33m{\u001B[0m\u001B[0mdata\u001B[0m\u001B[1;33m.\u001B[0m\u001B[0mname\u001B[0m\u001B[1;33m:\u001B[0m \u001B[0mdata\u001B[0m\u001B[1;33m}\u001B[0m\u001B[1;33m,\u001B[0m \u001B[0mindex\u001B[0m\u001B[1;33m,\u001B[0m \u001B[0mcolumns\u001B[0m\u001B[1;33m,\u001B[0m \u001B[0mdtype\u001B[0m\u001B[1;33m=\u001B[0m\u001B[0mdtype\u001B[0m\u001B[1;33m)\u001B[0m\u001B[1;33m\u001B[0m\u001B[1;33m\u001B[0m\u001B[0m\n\u001B[0;32m    557\u001B[0m             \u001B[1;32melse\u001B[0m\u001B[1;33m:\u001B[0m\u001B[1;33m\u001B[0m\u001B[1;33m\u001B[0m\u001B[0m\n\u001B[1;32m--> 558\u001B[1;33m                 \u001B[0mmgr\u001B[0m \u001B[1;33m=\u001B[0m \u001B[0minit_ndarray\u001B[0m\u001B[1;33m(\u001B[0m\u001B[0mdata\u001B[0m\u001B[1;33m,\u001B[0m \u001B[0mindex\u001B[0m\u001B[1;33m,\u001B[0m \u001B[0mcolumns\u001B[0m\u001B[1;33m,\u001B[0m \u001B[0mdtype\u001B[0m\u001B[1;33m=\u001B[0m\u001B[0mdtype\u001B[0m\u001B[1;33m,\u001B[0m \u001B[0mcopy\u001B[0m\u001B[1;33m=\u001B[0m\u001B[0mcopy\u001B[0m\u001B[1;33m)\u001B[0m\u001B[1;33m\u001B[0m\u001B[1;33m\u001B[0m\u001B[0m\n\u001B[0m\u001B[0;32m    559\u001B[0m \u001B[1;33m\u001B[0m\u001B[0m\n\u001B[0;32m    560\u001B[0m         \u001B[1;31m# For data is list-like, or Iterable (will consume into list)\u001B[0m\u001B[1;33m\u001B[0m\u001B[1;33m\u001B[0m\u001B[1;33m\u001B[0m\u001B[0m\n",
      "\u001B[1;32mc:\\users\\data\\appdata\\local\\programs\\python\\python38\\lib\\site-packages\\pandas\\core\\internals\\construction.py\u001B[0m in \u001B[0;36minit_ndarray\u001B[1;34m(values, index, columns, dtype, copy)\u001B[0m\n\u001B[0;32m    236\u001B[0m         \u001B[0mblock_values\u001B[0m \u001B[1;33m=\u001B[0m \u001B[1;33m[\u001B[0m\u001B[0mvalues\u001B[0m\u001B[1;33m]\u001B[0m\u001B[1;33m\u001B[0m\u001B[1;33m\u001B[0m\u001B[0m\n\u001B[0;32m    237\u001B[0m \u001B[1;33m\u001B[0m\u001B[0m\n\u001B[1;32m--> 238\u001B[1;33m     \u001B[1;32mreturn\u001B[0m \u001B[0mcreate_block_manager_from_blocks\u001B[0m\u001B[1;33m(\u001B[0m\u001B[0mblock_values\u001B[0m\u001B[1;33m,\u001B[0m \u001B[1;33m[\u001B[0m\u001B[0mcolumns\u001B[0m\u001B[1;33m,\u001B[0m \u001B[0mindex\u001B[0m\u001B[1;33m]\u001B[0m\u001B[1;33m)\u001B[0m\u001B[1;33m\u001B[0m\u001B[1;33m\u001B[0m\u001B[0m\n\u001B[0m\u001B[0;32m    239\u001B[0m \u001B[1;33m\u001B[0m\u001B[0m\n\u001B[0;32m    240\u001B[0m \u001B[1;33m\u001B[0m\u001B[0m\n",
      "\u001B[1;32mc:\\users\\data\\appdata\\local\\programs\\python\\python38\\lib\\site-packages\\pandas\\core\\internals\\managers.py\u001B[0m in \u001B[0;36mcreate_block_manager_from_blocks\u001B[1;34m(blocks, axes)\u001B[0m\n\u001B[0;32m   1679\u001B[0m \u001B[1;33m\u001B[0m\u001B[0m\n\u001B[0;32m   1680\u001B[0m         \u001B[0mmgr\u001B[0m \u001B[1;33m=\u001B[0m \u001B[0mBlockManager\u001B[0m\u001B[1;33m(\u001B[0m\u001B[0mblocks\u001B[0m\u001B[1;33m,\u001B[0m \u001B[0maxes\u001B[0m\u001B[1;33m)\u001B[0m\u001B[1;33m\u001B[0m\u001B[1;33m\u001B[0m\u001B[0m\n\u001B[1;32m-> 1681\u001B[1;33m         \u001B[0mmgr\u001B[0m\u001B[1;33m.\u001B[0m\u001B[0m_consolidate_inplace\u001B[0m\u001B[1;33m(\u001B[0m\u001B[1;33m)\u001B[0m\u001B[1;33m\u001B[0m\u001B[1;33m\u001B[0m\u001B[0m\n\u001B[0m\u001B[0;32m   1682\u001B[0m         \u001B[1;32mreturn\u001B[0m \u001B[0mmgr\u001B[0m\u001B[1;33m\u001B[0m\u001B[1;33m\u001B[0m\u001B[0m\n\u001B[0;32m   1683\u001B[0m \u001B[1;33m\u001B[0m\u001B[0m\n",
      "\u001B[1;32mc:\\users\\data\\appdata\\local\\programs\\python\\python38\\lib\\site-packages\\pandas\\core\\internals\\managers.py\u001B[0m in \u001B[0;36m_consolidate_inplace\u001B[1;34m(self)\u001B[0m\n\u001B[0;32m    991\u001B[0m     \u001B[1;32mdef\u001B[0m \u001B[0m_consolidate_inplace\u001B[0m\u001B[1;33m(\u001B[0m\u001B[0mself\u001B[0m\u001B[1;33m)\u001B[0m \u001B[1;33m->\u001B[0m \u001B[1;32mNone\u001B[0m\u001B[1;33m:\u001B[0m\u001B[1;33m\u001B[0m\u001B[1;33m\u001B[0m\u001B[0m\n\u001B[0;32m    992\u001B[0m         \u001B[1;32mif\u001B[0m \u001B[1;32mnot\u001B[0m \u001B[0mself\u001B[0m\u001B[1;33m.\u001B[0m\u001B[0mis_consolidated\u001B[0m\u001B[1;33m(\u001B[0m\u001B[1;33m)\u001B[0m\u001B[1;33m:\u001B[0m\u001B[1;33m\u001B[0m\u001B[1;33m\u001B[0m\u001B[0m\n\u001B[1;32m--> 993\u001B[1;33m             \u001B[0mself\u001B[0m\u001B[1;33m.\u001B[0m\u001B[0mblocks\u001B[0m \u001B[1;33m=\u001B[0m \u001B[0mtuple\u001B[0m\u001B[1;33m(\u001B[0m\u001B[0m_consolidate\u001B[0m\u001B[1;33m(\u001B[0m\u001B[0mself\u001B[0m\u001B[1;33m.\u001B[0m\u001B[0mblocks\u001B[0m\u001B[1;33m)\u001B[0m\u001B[1;33m)\u001B[0m\u001B[1;33m\u001B[0m\u001B[1;33m\u001B[0m\u001B[0m\n\u001B[0m\u001B[0;32m    994\u001B[0m             \u001B[0mself\u001B[0m\u001B[1;33m.\u001B[0m\u001B[0m_is_consolidated\u001B[0m \u001B[1;33m=\u001B[0m \u001B[1;32mTrue\u001B[0m\u001B[1;33m\u001B[0m\u001B[1;33m\u001B[0m\u001B[0m\n\u001B[0;32m    995\u001B[0m             \u001B[0mself\u001B[0m\u001B[1;33m.\u001B[0m\u001B[0m_known_consolidated\u001B[0m \u001B[1;33m=\u001B[0m \u001B[1;32mTrue\u001B[0m\u001B[1;33m\u001B[0m\u001B[1;33m\u001B[0m\u001B[0m\n",
      "\u001B[1;32mc:\\users\\data\\appdata\\local\\programs\\python\\python38\\lib\\site-packages\\pandas\\core\\internals\\managers.py\u001B[0m in \u001B[0;36m_consolidate\u001B[1;34m(blocks)\u001B[0m\n\u001B[0;32m   1914\u001B[0m     \u001B[0mnew_blocks\u001B[0m\u001B[1;33m:\u001B[0m \u001B[0mList\u001B[0m\u001B[1;33m[\u001B[0m\u001B[0mBlock\u001B[0m\u001B[1;33m]\u001B[0m \u001B[1;33m=\u001B[0m \u001B[1;33m[\u001B[0m\u001B[1;33m]\u001B[0m\u001B[1;33m\u001B[0m\u001B[1;33m\u001B[0m\u001B[0m\n\u001B[0;32m   1915\u001B[0m     \u001B[1;32mfor\u001B[0m \u001B[1;33m(\u001B[0m\u001B[0m_can_consolidate\u001B[0m\u001B[1;33m,\u001B[0m \u001B[0mdtype\u001B[0m\u001B[1;33m)\u001B[0m\u001B[1;33m,\u001B[0m \u001B[0mgroup_blocks\u001B[0m \u001B[1;32min\u001B[0m \u001B[0mgrouper\u001B[0m\u001B[1;33m:\u001B[0m\u001B[1;33m\u001B[0m\u001B[1;33m\u001B[0m\u001B[0m\n\u001B[1;32m-> 1916\u001B[1;33m         merged_blocks = _merge_blocks(\n\u001B[0m\u001B[0;32m   1917\u001B[0m             \u001B[0mlist\u001B[0m\u001B[1;33m(\u001B[0m\u001B[0mgroup_blocks\u001B[0m\u001B[1;33m)\u001B[0m\u001B[1;33m,\u001B[0m \u001B[0mdtype\u001B[0m\u001B[1;33m=\u001B[0m\u001B[0mdtype\u001B[0m\u001B[1;33m,\u001B[0m \u001B[0mcan_consolidate\u001B[0m\u001B[1;33m=\u001B[0m\u001B[0m_can_consolidate\u001B[0m\u001B[1;33m\u001B[0m\u001B[1;33m\u001B[0m\u001B[0m\n\u001B[0;32m   1918\u001B[0m         )\n",
      "\u001B[1;32mc:\\users\\data\\appdata\\local\\programs\\python\\python38\\lib\\site-packages\\pandas\\core\\internals\\managers.py\u001B[0m in \u001B[0;36m_merge_blocks\u001B[1;34m(blocks, dtype, can_consolidate)\u001B[0m\n\u001B[0;32m   1941\u001B[0m         \u001B[0margsort\u001B[0m \u001B[1;33m=\u001B[0m \u001B[0mnp\u001B[0m\u001B[1;33m.\u001B[0m\u001B[0margsort\u001B[0m\u001B[1;33m(\u001B[0m\u001B[0mnew_mgr_locs\u001B[0m\u001B[1;33m)\u001B[0m\u001B[1;33m\u001B[0m\u001B[1;33m\u001B[0m\u001B[0m\n\u001B[0;32m   1942\u001B[0m         \u001B[0mnew_values\u001B[0m \u001B[1;33m=\u001B[0m \u001B[0mnew_values\u001B[0m\u001B[1;33m[\u001B[0m\u001B[0margsort\u001B[0m\u001B[1;33m]\u001B[0m\u001B[1;33m\u001B[0m\u001B[1;33m\u001B[0m\u001B[0m\n\u001B[1;32m-> 1943\u001B[1;33m         \u001B[0mnew_mgr_locs\u001B[0m \u001B[1;33m=\u001B[0m \u001B[0mnew_mgr_locs\u001B[0m\u001B[1;33m[\u001B[0m\u001B[0margsort\u001B[0m\u001B[1;33m]\u001B[0m\u001B[1;33m\u001B[0m\u001B[1;33m\u001B[0m\u001B[0m\n\u001B[0m\u001B[0;32m   1944\u001B[0m \u001B[1;33m\u001B[0m\u001B[0m\n\u001B[0;32m   1945\u001B[0m         \u001B[1;32mreturn\u001B[0m \u001B[1;33m[\u001B[0m\u001B[0mmake_block\u001B[0m\u001B[1;33m(\u001B[0m\u001B[0mnew_values\u001B[0m\u001B[1;33m,\u001B[0m \u001B[0mplacement\u001B[0m\u001B[1;33m=\u001B[0m\u001B[0mnew_mgr_locs\u001B[0m\u001B[1;33m,\u001B[0m \u001B[0mndim\u001B[0m\u001B[1;33m=\u001B[0m\u001B[1;36m2\u001B[0m\u001B[1;33m)\u001B[0m\u001B[1;33m]\u001B[0m\u001B[1;33m\u001B[0m\u001B[1;33m\u001B[0m\u001B[0m\n",
      "\u001B[1;31mKeyboardInterrupt\u001B[0m: "
     ]
    }
   ],
   "source": [
    "# 대부분의 값이 통과된다\n",
    "# 모든 값이 정상값인 값의 row 수는?\n",
    "\n",
    "for ycol in y_col:\n",
    "    print(train[(y_min<=train[ycol]) &(train[y_col] <=y_max)])\n",
    "    break"
   ],
   "metadata": {
    "collapsed": false,
    "pycharm": {
     "name": "#%%\n"
    }
   }
  },
  {
   "cell_type": "code",
   "execution_count": 136,
   "outputs": [
    {
     "data": {
      "text/plain": "['Y_01',\n 'Y_02',\n 'Y_03',\n 'Y_04',\n 'Y_05',\n 'Y_06',\n 'Y_07',\n 'Y_08',\n 'Y_09',\n 'Y_10',\n 'Y_11',\n 'Y_12',\n 'Y_13',\n 'Y_14']"
     },
     "execution_count": 136,
     "metadata": {},
     "output_type": "execute_result"
    }
   ],
   "source": [
    "y_col"
   ],
   "metadata": {
    "collapsed": false,
    "pycharm": {
     "name": "#%%\n"
    }
   }
  },
  {
   "cell_type": "code",
   "execution_count": 133,
   "outputs": [
    {
     "data": {
      "text/plain": "                ID    X_01     X_02   X_03     X_05    X_06   X_07    X_08  \\\n1      TRAIN_00002  69.524  103.321  65.17  101.944  72.943  28.73   61.23   \n2      TRAIN_00003  72.583  103.320  64.07  103.153  72.943  28.81  105.77   \n3      TRAIN_00004  71.563  103.320  67.57  101.971  77.022  28.92  115.21   \n4      TRAIN_00005  69.524  103.320  63.57  101.981  70.904  29.68  103.38   \n5      TRAIN_00006  69.524  103.320  62.77  101.899  69.884  27.90   64.97   \n...            ...     ...      ...    ...      ...     ...    ...     ...   \n39602  TRAIN_39603  66.465  103.320  62.27  103.150  66.825  30.20   77.83   \n39603  TRAIN_39604  66.465  103.321  62.77  102.021  66.825  29.21  102.25   \n39604  TRAIN_39605  68.504  103.320  64.67  103.144  68.864  29.96  102.61   \n39605  TRAIN_39606  66.465  103.320  63.67  102.025  67.845  30.30  112.60   \n39606  TRAIN_39607  66.465  103.320  65.67  102.004  69.884  30.16  112.90   \n\n         X_09  X_10  ...    Y_05    Y_06   Y_07    Y_08    Y_09    Y_10  \\\n1      233.61   0.0  ...  33.179  16.736  3.229 -26.619 -26.523 -22.574   \n2      272.20   0.0  ...  31.801  17.080  2.839 -26.238 -26.216 -22.169   \n3      255.36   0.0  ...  34.503  17.143  3.144 -25.426 -25.079 -21.765   \n4      241.46   0.0  ...  32.602  17.569  3.138 -25.376 -25.242 -21.072   \n5      241.85   0.0  ...  29.662  16.201  3.343 -26.466 -26.527 -22.621   \n...       ...   ...  ...     ...     ...    ...     ...     ...     ...   \n39602  298.05   0.0  ...  29.194  16.582  3.410 -26.486 -26.581 -22.772   \n39603  270.67   0.0  ...  29.859  15.659  3.406 -27.308 -27.203 -24.674   \n39604  198.07   0.0  ...  24.720  16.823  3.215 -26.502 -26.687 -22.577   \n39605  275.52   0.0  ...  26.412  15.757  4.216 -26.760 -26.634 -24.066   \n39606  276.06   0.0  ...  30.745  16.781  3.307 -26.054 -26.251 -23.257   \n\n         Y_11    Y_12    Y_13    Y_14  \n1      24.691 -26.253 -26.497 -26.438  \n2      24.649 -26.285 -26.215 -26.370  \n3      24.913 -25.254 -25.021 -25.345  \n4      25.299 -25.072 -25.195 -24.974  \n5      24.064 -26.489 -26.536 -26.426  \n...       ...     ...     ...     ...  \n39602  24.261 -26.491 -26.584 -26.580  \n39603  23.427 -27.250 -27.334 -27.325  \n39604  24.301 -26.388 -26.425 -26.601  \n39605  23.305 -26.536 -26.751 -26.635  \n39606  24.450 -26.224 -26.256 -26.093  \n\n[38131 rows x 70 columns]",
      "text/html": "<div>\n<style scoped>\n    .dataframe tbody tr th:only-of-type {\n        vertical-align: middle;\n    }\n\n    .dataframe tbody tr th {\n        vertical-align: top;\n    }\n\n    .dataframe thead th {\n        text-align: right;\n    }\n</style>\n<table border=\"1\" class=\"dataframe\">\n  <thead>\n    <tr style=\"text-align: right;\">\n      <th></th>\n      <th>ID</th>\n      <th>X_01</th>\n      <th>X_02</th>\n      <th>X_03</th>\n      <th>X_05</th>\n      <th>X_06</th>\n      <th>X_07</th>\n      <th>X_08</th>\n      <th>X_09</th>\n      <th>X_10</th>\n      <th>...</th>\n      <th>Y_05</th>\n      <th>Y_06</th>\n      <th>Y_07</th>\n      <th>Y_08</th>\n      <th>Y_09</th>\n      <th>Y_10</th>\n      <th>Y_11</th>\n      <th>Y_12</th>\n      <th>Y_13</th>\n      <th>Y_14</th>\n    </tr>\n  </thead>\n  <tbody>\n    <tr>\n      <th>1</th>\n      <td>TRAIN_00002</td>\n      <td>69.524</td>\n      <td>103.321</td>\n      <td>65.17</td>\n      <td>101.944</td>\n      <td>72.943</td>\n      <td>28.73</td>\n      <td>61.23</td>\n      <td>233.61</td>\n      <td>0.0</td>\n      <td>...</td>\n      <td>33.179</td>\n      <td>16.736</td>\n      <td>3.229</td>\n      <td>-26.619</td>\n      <td>-26.523</td>\n      <td>-22.574</td>\n      <td>24.691</td>\n      <td>-26.253</td>\n      <td>-26.497</td>\n      <td>-26.438</td>\n    </tr>\n    <tr>\n      <th>2</th>\n      <td>TRAIN_00003</td>\n      <td>72.583</td>\n      <td>103.320</td>\n      <td>64.07</td>\n      <td>103.153</td>\n      <td>72.943</td>\n      <td>28.81</td>\n      <td>105.77</td>\n      <td>272.20</td>\n      <td>0.0</td>\n      <td>...</td>\n      <td>31.801</td>\n      <td>17.080</td>\n      <td>2.839</td>\n      <td>-26.238</td>\n      <td>-26.216</td>\n      <td>-22.169</td>\n      <td>24.649</td>\n      <td>-26.285</td>\n      <td>-26.215</td>\n      <td>-26.370</td>\n    </tr>\n    <tr>\n      <th>3</th>\n      <td>TRAIN_00004</td>\n      <td>71.563</td>\n      <td>103.320</td>\n      <td>67.57</td>\n      <td>101.971</td>\n      <td>77.022</td>\n      <td>28.92</td>\n      <td>115.21</td>\n      <td>255.36</td>\n      <td>0.0</td>\n      <td>...</td>\n      <td>34.503</td>\n      <td>17.143</td>\n      <td>3.144</td>\n      <td>-25.426</td>\n      <td>-25.079</td>\n      <td>-21.765</td>\n      <td>24.913</td>\n      <td>-25.254</td>\n      <td>-25.021</td>\n      <td>-25.345</td>\n    </tr>\n    <tr>\n      <th>4</th>\n      <td>TRAIN_00005</td>\n      <td>69.524</td>\n      <td>103.320</td>\n      <td>63.57</td>\n      <td>101.981</td>\n      <td>70.904</td>\n      <td>29.68</td>\n      <td>103.38</td>\n      <td>241.46</td>\n      <td>0.0</td>\n      <td>...</td>\n      <td>32.602</td>\n      <td>17.569</td>\n      <td>3.138</td>\n      <td>-25.376</td>\n      <td>-25.242</td>\n      <td>-21.072</td>\n      <td>25.299</td>\n      <td>-25.072</td>\n      <td>-25.195</td>\n      <td>-24.974</td>\n    </tr>\n    <tr>\n      <th>5</th>\n      <td>TRAIN_00006</td>\n      <td>69.524</td>\n      <td>103.320</td>\n      <td>62.77</td>\n      <td>101.899</td>\n      <td>69.884</td>\n      <td>27.90</td>\n      <td>64.97</td>\n      <td>241.85</td>\n      <td>0.0</td>\n      <td>...</td>\n      <td>29.662</td>\n      <td>16.201</td>\n      <td>3.343</td>\n      <td>-26.466</td>\n      <td>-26.527</td>\n      <td>-22.621</td>\n      <td>24.064</td>\n      <td>-26.489</td>\n      <td>-26.536</td>\n      <td>-26.426</td>\n    </tr>\n    <tr>\n      <th>...</th>\n      <td>...</td>\n      <td>...</td>\n      <td>...</td>\n      <td>...</td>\n      <td>...</td>\n      <td>...</td>\n      <td>...</td>\n      <td>...</td>\n      <td>...</td>\n      <td>...</td>\n      <td>...</td>\n      <td>...</td>\n      <td>...</td>\n      <td>...</td>\n      <td>...</td>\n      <td>...</td>\n      <td>...</td>\n      <td>...</td>\n      <td>...</td>\n      <td>...</td>\n      <td>...</td>\n    </tr>\n    <tr>\n      <th>39602</th>\n      <td>TRAIN_39603</td>\n      <td>66.465</td>\n      <td>103.320</td>\n      <td>62.27</td>\n      <td>103.150</td>\n      <td>66.825</td>\n      <td>30.20</td>\n      <td>77.83</td>\n      <td>298.05</td>\n      <td>0.0</td>\n      <td>...</td>\n      <td>29.194</td>\n      <td>16.582</td>\n      <td>3.410</td>\n      <td>-26.486</td>\n      <td>-26.581</td>\n      <td>-22.772</td>\n      <td>24.261</td>\n      <td>-26.491</td>\n      <td>-26.584</td>\n      <td>-26.580</td>\n    </tr>\n    <tr>\n      <th>39603</th>\n      <td>TRAIN_39604</td>\n      <td>66.465</td>\n      <td>103.321</td>\n      <td>62.77</td>\n      <td>102.021</td>\n      <td>66.825</td>\n      <td>29.21</td>\n      <td>102.25</td>\n      <td>270.67</td>\n      <td>0.0</td>\n      <td>...</td>\n      <td>29.859</td>\n      <td>15.659</td>\n      <td>3.406</td>\n      <td>-27.308</td>\n      <td>-27.203</td>\n      <td>-24.674</td>\n      <td>23.427</td>\n      <td>-27.250</td>\n      <td>-27.334</td>\n      <td>-27.325</td>\n    </tr>\n    <tr>\n      <th>39604</th>\n      <td>TRAIN_39605</td>\n      <td>68.504</td>\n      <td>103.320</td>\n      <td>64.67</td>\n      <td>103.144</td>\n      <td>68.864</td>\n      <td>29.96</td>\n      <td>102.61</td>\n      <td>198.07</td>\n      <td>0.0</td>\n      <td>...</td>\n      <td>24.720</td>\n      <td>16.823</td>\n      <td>3.215</td>\n      <td>-26.502</td>\n      <td>-26.687</td>\n      <td>-22.577</td>\n      <td>24.301</td>\n      <td>-26.388</td>\n      <td>-26.425</td>\n      <td>-26.601</td>\n    </tr>\n    <tr>\n      <th>39605</th>\n      <td>TRAIN_39606</td>\n      <td>66.465</td>\n      <td>103.320</td>\n      <td>63.67</td>\n      <td>102.025</td>\n      <td>67.845</td>\n      <td>30.30</td>\n      <td>112.60</td>\n      <td>275.52</td>\n      <td>0.0</td>\n      <td>...</td>\n      <td>26.412</td>\n      <td>15.757</td>\n      <td>4.216</td>\n      <td>-26.760</td>\n      <td>-26.634</td>\n      <td>-24.066</td>\n      <td>23.305</td>\n      <td>-26.536</td>\n      <td>-26.751</td>\n      <td>-26.635</td>\n    </tr>\n    <tr>\n      <th>39606</th>\n      <td>TRAIN_39607</td>\n      <td>66.465</td>\n      <td>103.320</td>\n      <td>65.67</td>\n      <td>102.004</td>\n      <td>69.884</td>\n      <td>30.16</td>\n      <td>112.90</td>\n      <td>276.06</td>\n      <td>0.0</td>\n      <td>...</td>\n      <td>30.745</td>\n      <td>16.781</td>\n      <td>3.307</td>\n      <td>-26.054</td>\n      <td>-26.251</td>\n      <td>-23.257</td>\n      <td>24.450</td>\n      <td>-26.224</td>\n      <td>-26.256</td>\n      <td>-26.093</td>\n    </tr>\n  </tbody>\n</table>\n<p>38131 rows × 70 columns</p>\n</div>"
     },
     "execution_count": 133,
     "metadata": {},
     "output_type": "execute_result"
    }
   ],
   "source": [],
   "metadata": {
    "collapsed": false,
    "pycharm": {
     "name": "#%%\n"
    }
   }
  },
  {
   "cell_type": "code",
   "execution_count": 176,
   "outputs": [],
   "source": [
    "y1_min = spec_info[spec_info.Feature =='Y_01']['최소'][0]\n",
    "y1_max = spec_info[spec_info.Feature =='Y_01']['최대'][0]"
   ],
   "metadata": {
    "collapsed": false,
    "pycharm": {
     "name": "#%%\n"
    }
   }
  },
  {
   "cell_type": "code",
   "execution_count": 176,
   "outputs": [],
   "source": [],
   "metadata": {
    "collapsed": false,
    "pycharm": {
     "name": "#%%\n"
    }
   }
  },
  {
   "cell_type": "code",
   "execution_count": 177,
   "outputs": [],
   "source": [
    "y2_min = spec_info[spec_info.Feature =='Y_02']['최소'].values[0]\n",
    "y2_max = spec_info[spec_info.Feature =='Y_02']['최대'].values[0]"
   ],
   "metadata": {
    "collapsed": false,
    "pycharm": {
     "name": "#%%\n"
    }
   }
  },
  {
   "cell_type": "code",
   "execution_count": 178,
   "outputs": [],
   "source": [
    "y3_min = spec_info[spec_info.Feature =='Y_03']['최소'].values[0]\n",
    "y3_max = spec_info[spec_info.Feature =='Y_03']['최대'].values[0]"
   ],
   "metadata": {
    "collapsed": false,
    "pycharm": {
     "name": "#%%\n"
    }
   }
  },
  {
   "cell_type": "code",
   "execution_count": 179,
   "outputs": [],
   "source": [
    "y4_min = spec_info[spec_info.Feature =='Y_04']['최소'].values[0]\n",
    "y4_max = spec_info[spec_info.Feature =='Y_04']['최대'].values[0]"
   ],
   "metadata": {
    "collapsed": false,
    "pycharm": {
     "name": "#%%\n"
    }
   }
  },
  {
   "cell_type": "code",
   "execution_count": 180,
   "outputs": [],
   "source": [
    "y5_min = spec_info[spec_info.Feature =='Y_05']['최소'].values[0]\n",
    "y5_max = spec_info[spec_info.Feature =='Y_05']['최대'].values[0]"
   ],
   "metadata": {
    "collapsed": false,
    "pycharm": {
     "name": "#%%\n"
    }
   }
  },
  {
   "cell_type": "code",
   "execution_count": 181,
   "outputs": [],
   "source": [
    "y6_min = spec_info[spec_info.Feature =='Y_06']['최소'].values[0]\n",
    "y6_max = spec_info[spec_info.Feature =='Y_06']['최대'].values[0]"
   ],
   "metadata": {
    "collapsed": false,
    "pycharm": {
     "name": "#%%\n"
    }
   }
  },
  {
   "cell_type": "code",
   "execution_count": 182,
   "outputs": [],
   "source": [
    "y7_min = spec_info[spec_info.Feature =='Y_07']['최소'].values[0]\n",
    "y7_max = spec_info[spec_info.Feature =='Y_07']['최대'].values[0]"
   ],
   "metadata": {
    "collapsed": false,
    "pycharm": {
     "name": "#%%\n"
    }
   }
  },
  {
   "cell_type": "code",
   "execution_count": 183,
   "outputs": [],
   "source": [
    "y8_min = spec_info[spec_info.Feature =='Y_08']['최소'].values[0]\n",
    "y8_max = spec_info[spec_info.Feature =='Y_08']['최대'].values[0]\n",
    "\n",
    "y9_min = spec_info[spec_info.Feature =='Y_09']['최소'].values[0]\n",
    "y9_max = spec_info[spec_info.Feature =='Y_09']['최대'].values[0]\n",
    "\n",
    "y10_min = spec_info[spec_info.Feature =='Y_10']['최소'].values[0]\n",
    "y10_max = spec_info[spec_info.Feature =='Y_10']['최대'].values[0]\n",
    "\n",
    "y11_min = spec_info[spec_info.Feature =='Y_11']['최소'].values[0]\n",
    "y11_max = spec_info[spec_info.Feature =='Y_11']['최대'].values[0]\n",
    "\n",
    "y12_min = spec_info[spec_info.Feature =='Y_12']['최소'].values[0]\n",
    "y12_max = spec_info[spec_info.Feature =='Y_12']['최대'].values[0]\n",
    "\n",
    "y13_min = spec_info[spec_info.Feature =='Y_13']['최소'].values[0]\n",
    "y13_max = spec_info[spec_info.Feature =='Y_13']['최대'].values[0]\n",
    "\n",
    "\n",
    "y14_min = spec_info[spec_info.Feature =='Y_14']['최소'].values[0]\n",
    "y14_max = spec_info[spec_info.Feature =='Y_14']['최대'].values[0]"
   ],
   "metadata": {
    "collapsed": false,
    "pycharm": {
     "name": "#%%\n"
    }
   }
  },
  {
   "cell_type": "code",
   "execution_count": 184,
   "outputs": [],
   "source": [
    "standard_train = train[(y_min<=train.Y_01) &(train.Y_01 <=y_max)]\n",
    "standard_train = standard_train[(y2_min<=standard_train.Y_02) &(standard_train.Y_02 <=y2_max)]"
   ],
   "metadata": {
    "collapsed": false,
    "pycharm": {
     "name": "#%%\n"
    }
   }
  },
  {
   "cell_type": "code",
   "execution_count": 186,
   "outputs": [],
   "source": [
    "standard_train = standard_train[(y3_min<=standard_train.Y_03) &(standard_train.Y_03 <=y3_max)]"
   ],
   "metadata": {
    "collapsed": false,
    "pycharm": {
     "name": "#%%\n"
    }
   }
  },
  {
   "cell_type": "code",
   "execution_count": 187,
   "outputs": [],
   "source": [
    "standard_train = standard_train[(y4_min<=standard_train.Y_04) &(standard_train.Y_04 <=y4_max)]"
   ],
   "metadata": {
    "collapsed": false,
    "pycharm": {
     "name": "#%%\n"
    }
   }
  },
  {
   "cell_type": "code",
   "execution_count": 162,
   "outputs": [
    {
     "data": {
      "text/plain": "                ID    X_01     X_02   X_03     X_05    X_06   X_07    X_08  \\\n1      TRAIN_00002  69.524  103.321  65.17  101.944  72.943  28.73   61.23   \n2      TRAIN_00003  72.583  103.320  64.07  103.153  72.943  28.81  105.77   \n3      TRAIN_00004  71.563  103.320  67.57  101.971  77.022  28.92  115.21   \n4      TRAIN_00005  69.524  103.320  63.57  101.981  70.904  29.68  103.38   \n5      TRAIN_00006  69.524  103.320  62.77  101.899  69.884  27.90   64.97   \n...            ...     ...      ...    ...      ...     ...    ...     ...   \n39601  TRAIN_39602  64.425  103.320  63.87  102.037  68.864  30.40   99.99   \n39602  TRAIN_39603  66.465  103.320  62.27  103.150  66.825  30.20   77.83   \n39603  TRAIN_39604  66.465  103.321  62.77  102.021  66.825  29.21  102.25   \n39604  TRAIN_39605  68.504  103.320  64.67  103.144  68.864  29.96  102.61   \n39606  TRAIN_39607  66.465  103.320  65.67  102.004  69.884  30.16  112.90   \n\n         X_09  X_10  ...    Y_05    Y_06   Y_07    Y_08    Y_09    Y_10  \\\n1      233.61   0.0  ...  33.179  16.736  3.229 -26.619 -26.523 -22.574   \n2      272.20   0.0  ...  31.801  17.080  2.839 -26.238 -26.216 -22.169   \n3      255.36   0.0  ...  34.503  17.143  3.144 -25.426 -25.079 -21.765   \n4      241.46   0.0  ...  32.602  17.569  3.138 -25.376 -25.242 -21.072   \n5      241.85   0.0  ...  29.662  16.201  3.343 -26.466 -26.527 -22.621   \n...       ...   ...  ...     ...     ...    ...     ...     ...     ...   \n39601  199.55   0.0  ...  32.671  16.949  2.996 -26.106 -26.281 -22.359   \n39602  298.05   0.0  ...  29.194  16.582  3.410 -26.486 -26.581 -22.772   \n39603  270.67   0.0  ...  29.859  15.659  3.406 -27.308 -27.203 -24.674   \n39604  198.07   0.0  ...  24.720  16.823  3.215 -26.502 -26.687 -22.577   \n39606  276.06   0.0  ...  30.745  16.781  3.307 -26.054 -26.251 -23.257   \n\n         Y_11    Y_12    Y_13    Y_14  \n1      24.691 -26.253 -26.497 -26.438  \n2      24.649 -26.285 -26.215 -26.370  \n3      24.913 -25.254 -25.021 -25.345  \n4      25.299 -25.072 -25.195 -24.974  \n5      24.064 -26.489 -26.536 -26.426  \n...       ...     ...     ...     ...  \n39601  24.661 -26.134 -26.300 -26.306  \n39602  24.261 -26.491 -26.584 -26.580  \n39603  23.427 -27.250 -27.334 -27.325  \n39604  24.301 -26.388 -26.425 -26.601  \n39606  24.450 -26.224 -26.256 -26.093  \n\n[37319 rows x 70 columns]",
      "text/html": "<div>\n<style scoped>\n    .dataframe tbody tr th:only-of-type {\n        vertical-align: middle;\n    }\n\n    .dataframe tbody tr th {\n        vertical-align: top;\n    }\n\n    .dataframe thead th {\n        text-align: right;\n    }\n</style>\n<table border=\"1\" class=\"dataframe\">\n  <thead>\n    <tr style=\"text-align: right;\">\n      <th></th>\n      <th>ID</th>\n      <th>X_01</th>\n      <th>X_02</th>\n      <th>X_03</th>\n      <th>X_05</th>\n      <th>X_06</th>\n      <th>X_07</th>\n      <th>X_08</th>\n      <th>X_09</th>\n      <th>X_10</th>\n      <th>...</th>\n      <th>Y_05</th>\n      <th>Y_06</th>\n      <th>Y_07</th>\n      <th>Y_08</th>\n      <th>Y_09</th>\n      <th>Y_10</th>\n      <th>Y_11</th>\n      <th>Y_12</th>\n      <th>Y_13</th>\n      <th>Y_14</th>\n    </tr>\n  </thead>\n  <tbody>\n    <tr>\n      <th>1</th>\n      <td>TRAIN_00002</td>\n      <td>69.524</td>\n      <td>103.321</td>\n      <td>65.17</td>\n      <td>101.944</td>\n      <td>72.943</td>\n      <td>28.73</td>\n      <td>61.23</td>\n      <td>233.61</td>\n      <td>0.0</td>\n      <td>...</td>\n      <td>33.179</td>\n      <td>16.736</td>\n      <td>3.229</td>\n      <td>-26.619</td>\n      <td>-26.523</td>\n      <td>-22.574</td>\n      <td>24.691</td>\n      <td>-26.253</td>\n      <td>-26.497</td>\n      <td>-26.438</td>\n    </tr>\n    <tr>\n      <th>2</th>\n      <td>TRAIN_00003</td>\n      <td>72.583</td>\n      <td>103.320</td>\n      <td>64.07</td>\n      <td>103.153</td>\n      <td>72.943</td>\n      <td>28.81</td>\n      <td>105.77</td>\n      <td>272.20</td>\n      <td>0.0</td>\n      <td>...</td>\n      <td>31.801</td>\n      <td>17.080</td>\n      <td>2.839</td>\n      <td>-26.238</td>\n      <td>-26.216</td>\n      <td>-22.169</td>\n      <td>24.649</td>\n      <td>-26.285</td>\n      <td>-26.215</td>\n      <td>-26.370</td>\n    </tr>\n    <tr>\n      <th>3</th>\n      <td>TRAIN_00004</td>\n      <td>71.563</td>\n      <td>103.320</td>\n      <td>67.57</td>\n      <td>101.971</td>\n      <td>77.022</td>\n      <td>28.92</td>\n      <td>115.21</td>\n      <td>255.36</td>\n      <td>0.0</td>\n      <td>...</td>\n      <td>34.503</td>\n      <td>17.143</td>\n      <td>3.144</td>\n      <td>-25.426</td>\n      <td>-25.079</td>\n      <td>-21.765</td>\n      <td>24.913</td>\n      <td>-25.254</td>\n      <td>-25.021</td>\n      <td>-25.345</td>\n    </tr>\n    <tr>\n      <th>4</th>\n      <td>TRAIN_00005</td>\n      <td>69.524</td>\n      <td>103.320</td>\n      <td>63.57</td>\n      <td>101.981</td>\n      <td>70.904</td>\n      <td>29.68</td>\n      <td>103.38</td>\n      <td>241.46</td>\n      <td>0.0</td>\n      <td>...</td>\n      <td>32.602</td>\n      <td>17.569</td>\n      <td>3.138</td>\n      <td>-25.376</td>\n      <td>-25.242</td>\n      <td>-21.072</td>\n      <td>25.299</td>\n      <td>-25.072</td>\n      <td>-25.195</td>\n      <td>-24.974</td>\n    </tr>\n    <tr>\n      <th>5</th>\n      <td>TRAIN_00006</td>\n      <td>69.524</td>\n      <td>103.320</td>\n      <td>62.77</td>\n      <td>101.899</td>\n      <td>69.884</td>\n      <td>27.90</td>\n      <td>64.97</td>\n      <td>241.85</td>\n      <td>0.0</td>\n      <td>...</td>\n      <td>29.662</td>\n      <td>16.201</td>\n      <td>3.343</td>\n      <td>-26.466</td>\n      <td>-26.527</td>\n      <td>-22.621</td>\n      <td>24.064</td>\n      <td>-26.489</td>\n      <td>-26.536</td>\n      <td>-26.426</td>\n    </tr>\n    <tr>\n      <th>...</th>\n      <td>...</td>\n      <td>...</td>\n      <td>...</td>\n      <td>...</td>\n      <td>...</td>\n      <td>...</td>\n      <td>...</td>\n      <td>...</td>\n      <td>...</td>\n      <td>...</td>\n      <td>...</td>\n      <td>...</td>\n      <td>...</td>\n      <td>...</td>\n      <td>...</td>\n      <td>...</td>\n      <td>...</td>\n      <td>...</td>\n      <td>...</td>\n      <td>...</td>\n      <td>...</td>\n    </tr>\n    <tr>\n      <th>39601</th>\n      <td>TRAIN_39602</td>\n      <td>64.425</td>\n      <td>103.320</td>\n      <td>63.87</td>\n      <td>102.037</td>\n      <td>68.864</td>\n      <td>30.40</td>\n      <td>99.99</td>\n      <td>199.55</td>\n      <td>0.0</td>\n      <td>...</td>\n      <td>32.671</td>\n      <td>16.949</td>\n      <td>2.996</td>\n      <td>-26.106</td>\n      <td>-26.281</td>\n      <td>-22.359</td>\n      <td>24.661</td>\n      <td>-26.134</td>\n      <td>-26.300</td>\n      <td>-26.306</td>\n    </tr>\n    <tr>\n      <th>39602</th>\n      <td>TRAIN_39603</td>\n      <td>66.465</td>\n      <td>103.320</td>\n      <td>62.27</td>\n      <td>103.150</td>\n      <td>66.825</td>\n      <td>30.20</td>\n      <td>77.83</td>\n      <td>298.05</td>\n      <td>0.0</td>\n      <td>...</td>\n      <td>29.194</td>\n      <td>16.582</td>\n      <td>3.410</td>\n      <td>-26.486</td>\n      <td>-26.581</td>\n      <td>-22.772</td>\n      <td>24.261</td>\n      <td>-26.491</td>\n      <td>-26.584</td>\n      <td>-26.580</td>\n    </tr>\n    <tr>\n      <th>39603</th>\n      <td>TRAIN_39604</td>\n      <td>66.465</td>\n      <td>103.321</td>\n      <td>62.77</td>\n      <td>102.021</td>\n      <td>66.825</td>\n      <td>29.21</td>\n      <td>102.25</td>\n      <td>270.67</td>\n      <td>0.0</td>\n      <td>...</td>\n      <td>29.859</td>\n      <td>15.659</td>\n      <td>3.406</td>\n      <td>-27.308</td>\n      <td>-27.203</td>\n      <td>-24.674</td>\n      <td>23.427</td>\n      <td>-27.250</td>\n      <td>-27.334</td>\n      <td>-27.325</td>\n    </tr>\n    <tr>\n      <th>39604</th>\n      <td>TRAIN_39605</td>\n      <td>68.504</td>\n      <td>103.320</td>\n      <td>64.67</td>\n      <td>103.144</td>\n      <td>68.864</td>\n      <td>29.96</td>\n      <td>102.61</td>\n      <td>198.07</td>\n      <td>0.0</td>\n      <td>...</td>\n      <td>24.720</td>\n      <td>16.823</td>\n      <td>3.215</td>\n      <td>-26.502</td>\n      <td>-26.687</td>\n      <td>-22.577</td>\n      <td>24.301</td>\n      <td>-26.388</td>\n      <td>-26.425</td>\n      <td>-26.601</td>\n    </tr>\n    <tr>\n      <th>39606</th>\n      <td>TRAIN_39607</td>\n      <td>66.465</td>\n      <td>103.320</td>\n      <td>65.67</td>\n      <td>102.004</td>\n      <td>69.884</td>\n      <td>30.16</td>\n      <td>112.90</td>\n      <td>276.06</td>\n      <td>0.0</td>\n      <td>...</td>\n      <td>30.745</td>\n      <td>16.781</td>\n      <td>3.307</td>\n      <td>-26.054</td>\n      <td>-26.251</td>\n      <td>-23.257</td>\n      <td>24.450</td>\n      <td>-26.224</td>\n      <td>-26.256</td>\n      <td>-26.093</td>\n    </tr>\n  </tbody>\n</table>\n<p>37319 rows × 70 columns</p>\n</div>"
     },
     "execution_count": 162,
     "metadata": {},
     "output_type": "execute_result"
    }
   ],
   "source": [],
   "metadata": {
    "collapsed": false,
    "pycharm": {
     "name": "#%%\n"
    }
   }
  },
  {
   "cell_type": "code",
   "execution_count": 188,
   "outputs": [],
   "source": [
    "standard_train = standard_train[(y5_min<=standard_train.Y_05) &(standard_train.Y_05 <=y5_max)]"
   ],
   "metadata": {
    "collapsed": false,
    "pycharm": {
     "name": "#%%\n"
    }
   }
  },
  {
   "cell_type": "code",
   "execution_count": 189,
   "outputs": [],
   "source": [
    "standard_train = standard_train[(y6_min<=standard_train.Y_06) &(standard_train.Y_06 <=y6_max)]"
   ],
   "metadata": {
    "collapsed": false,
    "pycharm": {
     "name": "#%%\n"
    }
   }
  },
  {
   "cell_type": "code",
   "execution_count": 190,
   "outputs": [
    {
     "data": {
      "text/plain": "                ID    X_01     X_02   X_03     X_05    X_06   X_07    X_08  \\\n1      TRAIN_00002  69.524  103.321  65.17  101.944  72.943  28.73   61.23   \n2      TRAIN_00003  72.583  103.320  64.07  103.153  72.943  28.81  105.77   \n3      TRAIN_00004  71.563  103.320  67.57  101.971  77.022  28.92  115.21   \n4      TRAIN_00005  69.524  103.320  63.57  101.981  70.904  29.68  103.38   \n5      TRAIN_00006  69.524  103.320  62.77  101.899  69.884  27.90   64.97   \n...            ...     ...      ...    ...      ...     ...    ...     ...   \n39601  TRAIN_39602  64.425  103.320  63.87  102.037  68.864  30.40   99.99   \n39602  TRAIN_39603  66.465  103.320  62.27  103.150  66.825  30.20   77.83   \n39603  TRAIN_39604  66.465  103.321  62.77  102.021  66.825  29.21  102.25   \n39604  TRAIN_39605  68.504  103.320  64.67  103.144  68.864  29.96  102.61   \n39606  TRAIN_39607  66.465  103.320  65.67  102.004  69.884  30.16  112.90   \n\n         X_09  X_10  ...    Y_05    Y_06   Y_07    Y_08    Y_09    Y_10  \\\n1      233.61   0.0  ...  33.179  16.736  3.229 -26.619 -26.523 -22.574   \n2      272.20   0.0  ...  31.801  17.080  2.839 -26.238 -26.216 -22.169   \n3      255.36   0.0  ...  34.503  17.143  3.144 -25.426 -25.079 -21.765   \n4      241.46   0.0  ...  32.602  17.569  3.138 -25.376 -25.242 -21.072   \n5      241.85   0.0  ...  29.662  16.201  3.343 -26.466 -26.527 -22.621   \n...       ...   ...  ...     ...     ...    ...     ...     ...     ...   \n39601  199.55   0.0  ...  32.671  16.949  2.996 -26.106 -26.281 -22.359   \n39602  298.05   0.0  ...  29.194  16.582  3.410 -26.486 -26.581 -22.772   \n39603  270.67   0.0  ...  29.859  15.659  3.406 -27.308 -27.203 -24.674   \n39604  198.07   0.0  ...  24.720  16.823  3.215 -26.502 -26.687 -22.577   \n39606  276.06   0.0  ...  30.745  16.781  3.307 -26.054 -26.251 -23.257   \n\n         Y_11    Y_12    Y_13    Y_14  \n1      24.691 -26.253 -26.497 -26.438  \n2      24.649 -26.285 -26.215 -26.370  \n3      24.913 -25.254 -25.021 -25.345  \n4      25.299 -25.072 -25.195 -24.974  \n5      24.064 -26.489 -26.536 -26.426  \n...       ...     ...     ...     ...  \n39601  24.661 -26.134 -26.300 -26.306  \n39602  24.261 -26.491 -26.584 -26.580  \n39603  23.427 -27.250 -27.334 -27.325  \n39604  24.301 -26.388 -26.425 -26.601  \n39606  24.450 -26.224 -26.256 -26.093  \n\n[37257 rows x 70 columns]",
      "text/html": "<div>\n<style scoped>\n    .dataframe tbody tr th:only-of-type {\n        vertical-align: middle;\n    }\n\n    .dataframe tbody tr th {\n        vertical-align: top;\n    }\n\n    .dataframe thead th {\n        text-align: right;\n    }\n</style>\n<table border=\"1\" class=\"dataframe\">\n  <thead>\n    <tr style=\"text-align: right;\">\n      <th></th>\n      <th>ID</th>\n      <th>X_01</th>\n      <th>X_02</th>\n      <th>X_03</th>\n      <th>X_05</th>\n      <th>X_06</th>\n      <th>X_07</th>\n      <th>X_08</th>\n      <th>X_09</th>\n      <th>X_10</th>\n      <th>...</th>\n      <th>Y_05</th>\n      <th>Y_06</th>\n      <th>Y_07</th>\n      <th>Y_08</th>\n      <th>Y_09</th>\n      <th>Y_10</th>\n      <th>Y_11</th>\n      <th>Y_12</th>\n      <th>Y_13</th>\n      <th>Y_14</th>\n    </tr>\n  </thead>\n  <tbody>\n    <tr>\n      <th>1</th>\n      <td>TRAIN_00002</td>\n      <td>69.524</td>\n      <td>103.321</td>\n      <td>65.17</td>\n      <td>101.944</td>\n      <td>72.943</td>\n      <td>28.73</td>\n      <td>61.23</td>\n      <td>233.61</td>\n      <td>0.0</td>\n      <td>...</td>\n      <td>33.179</td>\n      <td>16.736</td>\n      <td>3.229</td>\n      <td>-26.619</td>\n      <td>-26.523</td>\n      <td>-22.574</td>\n      <td>24.691</td>\n      <td>-26.253</td>\n      <td>-26.497</td>\n      <td>-26.438</td>\n    </tr>\n    <tr>\n      <th>2</th>\n      <td>TRAIN_00003</td>\n      <td>72.583</td>\n      <td>103.320</td>\n      <td>64.07</td>\n      <td>103.153</td>\n      <td>72.943</td>\n      <td>28.81</td>\n      <td>105.77</td>\n      <td>272.20</td>\n      <td>0.0</td>\n      <td>...</td>\n      <td>31.801</td>\n      <td>17.080</td>\n      <td>2.839</td>\n      <td>-26.238</td>\n      <td>-26.216</td>\n      <td>-22.169</td>\n      <td>24.649</td>\n      <td>-26.285</td>\n      <td>-26.215</td>\n      <td>-26.370</td>\n    </tr>\n    <tr>\n      <th>3</th>\n      <td>TRAIN_00004</td>\n      <td>71.563</td>\n      <td>103.320</td>\n      <td>67.57</td>\n      <td>101.971</td>\n      <td>77.022</td>\n      <td>28.92</td>\n      <td>115.21</td>\n      <td>255.36</td>\n      <td>0.0</td>\n      <td>...</td>\n      <td>34.503</td>\n      <td>17.143</td>\n      <td>3.144</td>\n      <td>-25.426</td>\n      <td>-25.079</td>\n      <td>-21.765</td>\n      <td>24.913</td>\n      <td>-25.254</td>\n      <td>-25.021</td>\n      <td>-25.345</td>\n    </tr>\n    <tr>\n      <th>4</th>\n      <td>TRAIN_00005</td>\n      <td>69.524</td>\n      <td>103.320</td>\n      <td>63.57</td>\n      <td>101.981</td>\n      <td>70.904</td>\n      <td>29.68</td>\n      <td>103.38</td>\n      <td>241.46</td>\n      <td>0.0</td>\n      <td>...</td>\n      <td>32.602</td>\n      <td>17.569</td>\n      <td>3.138</td>\n      <td>-25.376</td>\n      <td>-25.242</td>\n      <td>-21.072</td>\n      <td>25.299</td>\n      <td>-25.072</td>\n      <td>-25.195</td>\n      <td>-24.974</td>\n    </tr>\n    <tr>\n      <th>5</th>\n      <td>TRAIN_00006</td>\n      <td>69.524</td>\n      <td>103.320</td>\n      <td>62.77</td>\n      <td>101.899</td>\n      <td>69.884</td>\n      <td>27.90</td>\n      <td>64.97</td>\n      <td>241.85</td>\n      <td>0.0</td>\n      <td>...</td>\n      <td>29.662</td>\n      <td>16.201</td>\n      <td>3.343</td>\n      <td>-26.466</td>\n      <td>-26.527</td>\n      <td>-22.621</td>\n      <td>24.064</td>\n      <td>-26.489</td>\n      <td>-26.536</td>\n      <td>-26.426</td>\n    </tr>\n    <tr>\n      <th>...</th>\n      <td>...</td>\n      <td>...</td>\n      <td>...</td>\n      <td>...</td>\n      <td>...</td>\n      <td>...</td>\n      <td>...</td>\n      <td>...</td>\n      <td>...</td>\n      <td>...</td>\n      <td>...</td>\n      <td>...</td>\n      <td>...</td>\n      <td>...</td>\n      <td>...</td>\n      <td>...</td>\n      <td>...</td>\n      <td>...</td>\n      <td>...</td>\n      <td>...</td>\n      <td>...</td>\n    </tr>\n    <tr>\n      <th>39601</th>\n      <td>TRAIN_39602</td>\n      <td>64.425</td>\n      <td>103.320</td>\n      <td>63.87</td>\n      <td>102.037</td>\n      <td>68.864</td>\n      <td>30.40</td>\n      <td>99.99</td>\n      <td>199.55</td>\n      <td>0.0</td>\n      <td>...</td>\n      <td>32.671</td>\n      <td>16.949</td>\n      <td>2.996</td>\n      <td>-26.106</td>\n      <td>-26.281</td>\n      <td>-22.359</td>\n      <td>24.661</td>\n      <td>-26.134</td>\n      <td>-26.300</td>\n      <td>-26.306</td>\n    </tr>\n    <tr>\n      <th>39602</th>\n      <td>TRAIN_39603</td>\n      <td>66.465</td>\n      <td>103.320</td>\n      <td>62.27</td>\n      <td>103.150</td>\n      <td>66.825</td>\n      <td>30.20</td>\n      <td>77.83</td>\n      <td>298.05</td>\n      <td>0.0</td>\n      <td>...</td>\n      <td>29.194</td>\n      <td>16.582</td>\n      <td>3.410</td>\n      <td>-26.486</td>\n      <td>-26.581</td>\n      <td>-22.772</td>\n      <td>24.261</td>\n      <td>-26.491</td>\n      <td>-26.584</td>\n      <td>-26.580</td>\n    </tr>\n    <tr>\n      <th>39603</th>\n      <td>TRAIN_39604</td>\n      <td>66.465</td>\n      <td>103.321</td>\n      <td>62.77</td>\n      <td>102.021</td>\n      <td>66.825</td>\n      <td>29.21</td>\n      <td>102.25</td>\n      <td>270.67</td>\n      <td>0.0</td>\n      <td>...</td>\n      <td>29.859</td>\n      <td>15.659</td>\n      <td>3.406</td>\n      <td>-27.308</td>\n      <td>-27.203</td>\n      <td>-24.674</td>\n      <td>23.427</td>\n      <td>-27.250</td>\n      <td>-27.334</td>\n      <td>-27.325</td>\n    </tr>\n    <tr>\n      <th>39604</th>\n      <td>TRAIN_39605</td>\n      <td>68.504</td>\n      <td>103.320</td>\n      <td>64.67</td>\n      <td>103.144</td>\n      <td>68.864</td>\n      <td>29.96</td>\n      <td>102.61</td>\n      <td>198.07</td>\n      <td>0.0</td>\n      <td>...</td>\n      <td>24.720</td>\n      <td>16.823</td>\n      <td>3.215</td>\n      <td>-26.502</td>\n      <td>-26.687</td>\n      <td>-22.577</td>\n      <td>24.301</td>\n      <td>-26.388</td>\n      <td>-26.425</td>\n      <td>-26.601</td>\n    </tr>\n    <tr>\n      <th>39606</th>\n      <td>TRAIN_39607</td>\n      <td>66.465</td>\n      <td>103.320</td>\n      <td>65.67</td>\n      <td>102.004</td>\n      <td>69.884</td>\n      <td>30.16</td>\n      <td>112.90</td>\n      <td>276.06</td>\n      <td>0.0</td>\n      <td>...</td>\n      <td>30.745</td>\n      <td>16.781</td>\n      <td>3.307</td>\n      <td>-26.054</td>\n      <td>-26.251</td>\n      <td>-23.257</td>\n      <td>24.450</td>\n      <td>-26.224</td>\n      <td>-26.256</td>\n      <td>-26.093</td>\n    </tr>\n  </tbody>\n</table>\n<p>37257 rows × 70 columns</p>\n</div>"
     },
     "execution_count": 190,
     "metadata": {},
     "output_type": "execute_result"
    }
   ],
   "source": [
    "standard_train"
   ],
   "metadata": {
    "collapsed": false,
    "pycharm": {
     "name": "#%%\n"
    }
   }
  },
  {
   "cell_type": "code",
   "execution_count": 191,
   "outputs": [],
   "source": [
    "standard_train = standard_train[(y7_min<=standard_train.Y_07) &(standard_train.Y_07 <=y7_max)]\n",
    "standard_train = standard_train[(y8_min<=standard_train.Y_08) &(standard_train.Y_08 <=y8_max)]\n",
    "standard_train = standard_train[(y9_min<=standard_train.Y_09) &(standard_train.Y_09 <=y9_max)]\n",
    "standard_train = standard_train[(y10_min<=standard_train.Y_10) &(standard_train.Y_10 <=y10_max)]\n",
    "standard_train = standard_train[(y11_min<=standard_train.Y_11) &(standard_train.Y_11 <=y11_max)]\n",
    "standard_train = standard_train[(y12_min<=standard_train.Y_12) &(standard_train.Y_12 <=y12_max)]\n",
    "standard_train = standard_train[(y13_min<=standard_train.Y_13) &(standard_train.Y_13 <=y13_max)]\n",
    "standard_train = standard_train[(y14_min<=standard_train.Y_14) &(standard_train.Y_14 <=y14_max)]"
   ],
   "metadata": {
    "collapsed": false,
    "pycharm": {
     "name": "#%%\n"
    }
   }
  },
  {
   "cell_type": "code",
   "execution_count": 196,
   "outputs": [],
   "source": [
    "standard_idx = standard_train.index.tolist()"
   ],
   "metadata": {
    "collapsed": false,
    "pycharm": {
     "name": "#%%\n"
    }
   }
  },
  {
   "cell_type": "code",
   "execution_count": 198,
   "outputs": [
    {
     "data": {
      "text/plain": "                ID    X_01     X_02   X_03     X_05    X_06   X_07    X_08  \\\n0      TRAIN_00001  70.544  103.320  67.47  101.892  74.983  29.45   62.38   \n6      TRAIN_00007  71.563  103.320  66.07  101.921  73.963  29.30   69.22   \n9      TRAIN_00010  71.563  103.320  68.97  101.990  77.022  28.97   66.88   \n12     TRAIN_00013  71.563  103.320  71.27  101.910  76.002  26.29   98.60   \n14     TRAIN_00015  68.504  103.320  66.07  101.902  72.943  28.14   69.78   \n...            ...     ...      ...    ...      ...     ...    ...     ...   \n39569  TRAIN_39570  69.524  103.320  62.87  103.136  69.884  30.66  113.99   \n39571  TRAIN_39572  62.386  103.320  61.47  101.969  64.785  29.70  115.75   \n39583  TRAIN_39584  67.485  103.320  65.87  102.036  69.884  29.99  118.21   \n39596  TRAIN_39597  68.504  103.321  63.27  103.153  68.864  30.73  112.71   \n39605  TRAIN_39606  66.465  103.320  63.67  102.025  67.845  30.30  112.60   \n\n         X_09  X_10  ...    Y_05    Y_06   Y_07    Y_08    Y_09    Y_10  \\\n0      245.71   0.0  ...  29.632  16.083  4.276 -25.381 -25.529 -22.769   \n6      237.51   0.0  ...  32.739  15.573  2.418 -27.581 -28.038 -23.355   \n9      228.22   0.0  ...  34.209  18.120  2.646 -25.520 -25.408 -21.159   \n12     162.44   0.0  ...  33.439  18.007  2.282 -25.400 -25.405 -21.546   \n14     239.63   0.0  ...  28.965  14.934  5.118 -26.739 -26.341 -23.570   \n...       ...   ...  ...     ...     ...    ...     ...     ...     ...   \n39569  282.98   0.0  ...  27.553  16.570  3.187 -26.749 -26.635 -23.030   \n39571  282.20   0.0  ...  27.230  14.763  4.173 -27.593 -27.864 -23.956   \n39583  299.56   0.0  ...  34.246  17.190  3.090 -26.416 -26.470 -23.374   \n39596  219.37   0.0  ...  23.134  14.791  3.605 -27.552 -27.302 -24.559   \n39605  275.52   0.0  ...  26.412  15.757  4.216 -26.760 -26.634 -24.066   \n\n         Y_11    Y_12    Y_13    Y_14  \n0      23.792 -25.470 -25.409 -25.304  \n6      23.051 -27.650 -27.709 -27.599  \n9      25.961 -25.353 -25.567 -25.470  \n12     25.749 -25.521 -25.499 -25.363  \n14     22.604 -26.445 -26.690 -26.788  \n...       ...     ...     ...     ...  \n39569  24.062 -26.717 -26.729 -26.646  \n39571  22.391 -27.841 -27.841 -27.677  \n39583  25.072 -26.357 -26.365 -26.261  \n39596  22.232 -27.439 -27.268 -27.428  \n39605  23.305 -26.536 -26.751 -26.635  \n\n[3917 rows x 70 columns]",
      "text/html": "<div>\n<style scoped>\n    .dataframe tbody tr th:only-of-type {\n        vertical-align: middle;\n    }\n\n    .dataframe tbody tr th {\n        vertical-align: top;\n    }\n\n    .dataframe thead th {\n        text-align: right;\n    }\n</style>\n<table border=\"1\" class=\"dataframe\">\n  <thead>\n    <tr style=\"text-align: right;\">\n      <th></th>\n      <th>ID</th>\n      <th>X_01</th>\n      <th>X_02</th>\n      <th>X_03</th>\n      <th>X_05</th>\n      <th>X_06</th>\n      <th>X_07</th>\n      <th>X_08</th>\n      <th>X_09</th>\n      <th>X_10</th>\n      <th>...</th>\n      <th>Y_05</th>\n      <th>Y_06</th>\n      <th>Y_07</th>\n      <th>Y_08</th>\n      <th>Y_09</th>\n      <th>Y_10</th>\n      <th>Y_11</th>\n      <th>Y_12</th>\n      <th>Y_13</th>\n      <th>Y_14</th>\n    </tr>\n  </thead>\n  <tbody>\n    <tr>\n      <th>0</th>\n      <td>TRAIN_00001</td>\n      <td>70.544</td>\n      <td>103.320</td>\n      <td>67.47</td>\n      <td>101.892</td>\n      <td>74.983</td>\n      <td>29.45</td>\n      <td>62.38</td>\n      <td>245.71</td>\n      <td>0.0</td>\n      <td>...</td>\n      <td>29.632</td>\n      <td>16.083</td>\n      <td>4.276</td>\n      <td>-25.381</td>\n      <td>-25.529</td>\n      <td>-22.769</td>\n      <td>23.792</td>\n      <td>-25.470</td>\n      <td>-25.409</td>\n      <td>-25.304</td>\n    </tr>\n    <tr>\n      <th>6</th>\n      <td>TRAIN_00007</td>\n      <td>71.563</td>\n      <td>103.320</td>\n      <td>66.07</td>\n      <td>101.921</td>\n      <td>73.963</td>\n      <td>29.30</td>\n      <td>69.22</td>\n      <td>237.51</td>\n      <td>0.0</td>\n      <td>...</td>\n      <td>32.739</td>\n      <td>15.573</td>\n      <td>2.418</td>\n      <td>-27.581</td>\n      <td>-28.038</td>\n      <td>-23.355</td>\n      <td>23.051</td>\n      <td>-27.650</td>\n      <td>-27.709</td>\n      <td>-27.599</td>\n    </tr>\n    <tr>\n      <th>9</th>\n      <td>TRAIN_00010</td>\n      <td>71.563</td>\n      <td>103.320</td>\n      <td>68.97</td>\n      <td>101.990</td>\n      <td>77.022</td>\n      <td>28.97</td>\n      <td>66.88</td>\n      <td>228.22</td>\n      <td>0.0</td>\n      <td>...</td>\n      <td>34.209</td>\n      <td>18.120</td>\n      <td>2.646</td>\n      <td>-25.520</td>\n      <td>-25.408</td>\n      <td>-21.159</td>\n      <td>25.961</td>\n      <td>-25.353</td>\n      <td>-25.567</td>\n      <td>-25.470</td>\n    </tr>\n    <tr>\n      <th>12</th>\n      <td>TRAIN_00013</td>\n      <td>71.563</td>\n      <td>103.320</td>\n      <td>71.27</td>\n      <td>101.910</td>\n      <td>76.002</td>\n      <td>26.29</td>\n      <td>98.60</td>\n      <td>162.44</td>\n      <td>0.0</td>\n      <td>...</td>\n      <td>33.439</td>\n      <td>18.007</td>\n      <td>2.282</td>\n      <td>-25.400</td>\n      <td>-25.405</td>\n      <td>-21.546</td>\n      <td>25.749</td>\n      <td>-25.521</td>\n      <td>-25.499</td>\n      <td>-25.363</td>\n    </tr>\n    <tr>\n      <th>14</th>\n      <td>TRAIN_00015</td>\n      <td>68.504</td>\n      <td>103.320</td>\n      <td>66.07</td>\n      <td>101.902</td>\n      <td>72.943</td>\n      <td>28.14</td>\n      <td>69.78</td>\n      <td>239.63</td>\n      <td>0.0</td>\n      <td>...</td>\n      <td>28.965</td>\n      <td>14.934</td>\n      <td>5.118</td>\n      <td>-26.739</td>\n      <td>-26.341</td>\n      <td>-23.570</td>\n      <td>22.604</td>\n      <td>-26.445</td>\n      <td>-26.690</td>\n      <td>-26.788</td>\n    </tr>\n    <tr>\n      <th>...</th>\n      <td>...</td>\n      <td>...</td>\n      <td>...</td>\n      <td>...</td>\n      <td>...</td>\n      <td>...</td>\n      <td>...</td>\n      <td>...</td>\n      <td>...</td>\n      <td>...</td>\n      <td>...</td>\n      <td>...</td>\n      <td>...</td>\n      <td>...</td>\n      <td>...</td>\n      <td>...</td>\n      <td>...</td>\n      <td>...</td>\n      <td>...</td>\n      <td>...</td>\n      <td>...</td>\n    </tr>\n    <tr>\n      <th>39569</th>\n      <td>TRAIN_39570</td>\n      <td>69.524</td>\n      <td>103.320</td>\n      <td>62.87</td>\n      <td>103.136</td>\n      <td>69.884</td>\n      <td>30.66</td>\n      <td>113.99</td>\n      <td>282.98</td>\n      <td>0.0</td>\n      <td>...</td>\n      <td>27.553</td>\n      <td>16.570</td>\n      <td>3.187</td>\n      <td>-26.749</td>\n      <td>-26.635</td>\n      <td>-23.030</td>\n      <td>24.062</td>\n      <td>-26.717</td>\n      <td>-26.729</td>\n      <td>-26.646</td>\n    </tr>\n    <tr>\n      <th>39571</th>\n      <td>TRAIN_39572</td>\n      <td>62.386</td>\n      <td>103.320</td>\n      <td>61.47</td>\n      <td>101.969</td>\n      <td>64.785</td>\n      <td>29.70</td>\n      <td>115.75</td>\n      <td>282.20</td>\n      <td>0.0</td>\n      <td>...</td>\n      <td>27.230</td>\n      <td>14.763</td>\n      <td>4.173</td>\n      <td>-27.593</td>\n      <td>-27.864</td>\n      <td>-23.956</td>\n      <td>22.391</td>\n      <td>-27.841</td>\n      <td>-27.841</td>\n      <td>-27.677</td>\n    </tr>\n    <tr>\n      <th>39583</th>\n      <td>TRAIN_39584</td>\n      <td>67.485</td>\n      <td>103.320</td>\n      <td>65.87</td>\n      <td>102.036</td>\n      <td>69.884</td>\n      <td>29.99</td>\n      <td>118.21</td>\n      <td>299.56</td>\n      <td>0.0</td>\n      <td>...</td>\n      <td>34.246</td>\n      <td>17.190</td>\n      <td>3.090</td>\n      <td>-26.416</td>\n      <td>-26.470</td>\n      <td>-23.374</td>\n      <td>25.072</td>\n      <td>-26.357</td>\n      <td>-26.365</td>\n      <td>-26.261</td>\n    </tr>\n    <tr>\n      <th>39596</th>\n      <td>TRAIN_39597</td>\n      <td>68.504</td>\n      <td>103.321</td>\n      <td>63.27</td>\n      <td>103.153</td>\n      <td>68.864</td>\n      <td>30.73</td>\n      <td>112.71</td>\n      <td>219.37</td>\n      <td>0.0</td>\n      <td>...</td>\n      <td>23.134</td>\n      <td>14.791</td>\n      <td>3.605</td>\n      <td>-27.552</td>\n      <td>-27.302</td>\n      <td>-24.559</td>\n      <td>22.232</td>\n      <td>-27.439</td>\n      <td>-27.268</td>\n      <td>-27.428</td>\n    </tr>\n    <tr>\n      <th>39605</th>\n      <td>TRAIN_39606</td>\n      <td>66.465</td>\n      <td>103.320</td>\n      <td>63.67</td>\n      <td>102.025</td>\n      <td>67.845</td>\n      <td>30.30</td>\n      <td>112.60</td>\n      <td>275.52</td>\n      <td>0.0</td>\n      <td>...</td>\n      <td>26.412</td>\n      <td>15.757</td>\n      <td>4.216</td>\n      <td>-26.760</td>\n      <td>-26.634</td>\n      <td>-24.066</td>\n      <td>23.305</td>\n      <td>-26.536</td>\n      <td>-26.751</td>\n      <td>-26.635</td>\n    </tr>\n  </tbody>\n</table>\n<p>3917 rows × 70 columns</p>\n</div>"
     },
     "execution_count": 198,
     "metadata": {},
     "output_type": "execute_result"
    }
   ],
   "source": [],
   "metadata": {
    "collapsed": false,
    "pycharm": {
     "name": "#%%\n"
    }
   }
  },
  {
   "cell_type": "code",
   "execution_count": null,
   "outputs": [],
   "source": [],
   "metadata": {
    "collapsed": false,
    "pycharm": {
     "name": "#%%\n"
    }
   }
  },
  {
   "cell_type": "code",
   "execution_count": 199,
   "outputs": [],
   "source": [
    "outlier_train = train[~train.index.isin(standard_idx)]"
   ],
   "metadata": {
    "collapsed": false,
    "pycharm": {
     "name": "#%%\n"
    }
   }
  },
  {
   "cell_type": "code",
   "execution_count": 200,
   "outputs": [
    {
     "data": {
      "text/plain": "                ID    X_01     X_02   X_03     X_05    X_06   X_07    X_08  \\\n0      TRAIN_00001  70.544  103.320  67.47  101.892  74.983  29.45   62.38   \n6      TRAIN_00007  71.563  103.320  66.07  101.921  73.963  29.30   69.22   \n9      TRAIN_00010  71.563  103.320  68.97  101.990  77.022  28.97   66.88   \n12     TRAIN_00013  71.563  103.320  71.27  101.910  76.002  26.29   98.60   \n14     TRAIN_00015  68.504  103.320  66.07  101.902  72.943  28.14   69.78   \n...            ...     ...      ...    ...      ...     ...    ...     ...   \n39569  TRAIN_39570  69.524  103.320  62.87  103.136  69.884  30.66  113.99   \n39571  TRAIN_39572  62.386  103.320  61.47  101.969  64.785  29.70  115.75   \n39583  TRAIN_39584  67.485  103.320  65.87  102.036  69.884  29.99  118.21   \n39596  TRAIN_39597  68.504  103.321  63.27  103.153  68.864  30.73  112.71   \n39605  TRAIN_39606  66.465  103.320  63.67  102.025  67.845  30.30  112.60   \n\n         X_09  X_10  ...    Y_05    Y_06   Y_07    Y_08    Y_09    Y_10  \\\n0      245.71   0.0  ...  29.632  16.083  4.276 -25.381 -25.529 -22.769   \n6      237.51   0.0  ...  32.739  15.573  2.418 -27.581 -28.038 -23.355   \n9      228.22   0.0  ...  34.209  18.120  2.646 -25.520 -25.408 -21.159   \n12     162.44   0.0  ...  33.439  18.007  2.282 -25.400 -25.405 -21.546   \n14     239.63   0.0  ...  28.965  14.934  5.118 -26.739 -26.341 -23.570   \n...       ...   ...  ...     ...     ...    ...     ...     ...     ...   \n39569  282.98   0.0  ...  27.553  16.570  3.187 -26.749 -26.635 -23.030   \n39571  282.20   0.0  ...  27.230  14.763  4.173 -27.593 -27.864 -23.956   \n39583  299.56   0.0  ...  34.246  17.190  3.090 -26.416 -26.470 -23.374   \n39596  219.37   0.0  ...  23.134  14.791  3.605 -27.552 -27.302 -24.559   \n39605  275.52   0.0  ...  26.412  15.757  4.216 -26.760 -26.634 -24.066   \n\n         Y_11    Y_12    Y_13    Y_14  \n0      23.792 -25.470 -25.409 -25.304  \n6      23.051 -27.650 -27.709 -27.599  \n9      25.961 -25.353 -25.567 -25.470  \n12     25.749 -25.521 -25.499 -25.363  \n14     22.604 -26.445 -26.690 -26.788  \n...       ...     ...     ...     ...  \n39569  24.062 -26.717 -26.729 -26.646  \n39571  22.391 -27.841 -27.841 -27.677  \n39583  25.072 -26.357 -26.365 -26.261  \n39596  22.232 -27.439 -27.268 -27.428  \n39605  23.305 -26.536 -26.751 -26.635  \n\n[3917 rows x 70 columns]",
      "text/html": "<div>\n<style scoped>\n    .dataframe tbody tr th:only-of-type {\n        vertical-align: middle;\n    }\n\n    .dataframe tbody tr th {\n        vertical-align: top;\n    }\n\n    .dataframe thead th {\n        text-align: right;\n    }\n</style>\n<table border=\"1\" class=\"dataframe\">\n  <thead>\n    <tr style=\"text-align: right;\">\n      <th></th>\n      <th>ID</th>\n      <th>X_01</th>\n      <th>X_02</th>\n      <th>X_03</th>\n      <th>X_05</th>\n      <th>X_06</th>\n      <th>X_07</th>\n      <th>X_08</th>\n      <th>X_09</th>\n      <th>X_10</th>\n      <th>...</th>\n      <th>Y_05</th>\n      <th>Y_06</th>\n      <th>Y_07</th>\n      <th>Y_08</th>\n      <th>Y_09</th>\n      <th>Y_10</th>\n      <th>Y_11</th>\n      <th>Y_12</th>\n      <th>Y_13</th>\n      <th>Y_14</th>\n    </tr>\n  </thead>\n  <tbody>\n    <tr>\n      <th>0</th>\n      <td>TRAIN_00001</td>\n      <td>70.544</td>\n      <td>103.320</td>\n      <td>67.47</td>\n      <td>101.892</td>\n      <td>74.983</td>\n      <td>29.45</td>\n      <td>62.38</td>\n      <td>245.71</td>\n      <td>0.0</td>\n      <td>...</td>\n      <td>29.632</td>\n      <td>16.083</td>\n      <td>4.276</td>\n      <td>-25.381</td>\n      <td>-25.529</td>\n      <td>-22.769</td>\n      <td>23.792</td>\n      <td>-25.470</td>\n      <td>-25.409</td>\n      <td>-25.304</td>\n    </tr>\n    <tr>\n      <th>6</th>\n      <td>TRAIN_00007</td>\n      <td>71.563</td>\n      <td>103.320</td>\n      <td>66.07</td>\n      <td>101.921</td>\n      <td>73.963</td>\n      <td>29.30</td>\n      <td>69.22</td>\n      <td>237.51</td>\n      <td>0.0</td>\n      <td>...</td>\n      <td>32.739</td>\n      <td>15.573</td>\n      <td>2.418</td>\n      <td>-27.581</td>\n      <td>-28.038</td>\n      <td>-23.355</td>\n      <td>23.051</td>\n      <td>-27.650</td>\n      <td>-27.709</td>\n      <td>-27.599</td>\n    </tr>\n    <tr>\n      <th>9</th>\n      <td>TRAIN_00010</td>\n      <td>71.563</td>\n      <td>103.320</td>\n      <td>68.97</td>\n      <td>101.990</td>\n      <td>77.022</td>\n      <td>28.97</td>\n      <td>66.88</td>\n      <td>228.22</td>\n      <td>0.0</td>\n      <td>...</td>\n      <td>34.209</td>\n      <td>18.120</td>\n      <td>2.646</td>\n      <td>-25.520</td>\n      <td>-25.408</td>\n      <td>-21.159</td>\n      <td>25.961</td>\n      <td>-25.353</td>\n      <td>-25.567</td>\n      <td>-25.470</td>\n    </tr>\n    <tr>\n      <th>12</th>\n      <td>TRAIN_00013</td>\n      <td>71.563</td>\n      <td>103.320</td>\n      <td>71.27</td>\n      <td>101.910</td>\n      <td>76.002</td>\n      <td>26.29</td>\n      <td>98.60</td>\n      <td>162.44</td>\n      <td>0.0</td>\n      <td>...</td>\n      <td>33.439</td>\n      <td>18.007</td>\n      <td>2.282</td>\n      <td>-25.400</td>\n      <td>-25.405</td>\n      <td>-21.546</td>\n      <td>25.749</td>\n      <td>-25.521</td>\n      <td>-25.499</td>\n      <td>-25.363</td>\n    </tr>\n    <tr>\n      <th>14</th>\n      <td>TRAIN_00015</td>\n      <td>68.504</td>\n      <td>103.320</td>\n      <td>66.07</td>\n      <td>101.902</td>\n      <td>72.943</td>\n      <td>28.14</td>\n      <td>69.78</td>\n      <td>239.63</td>\n      <td>0.0</td>\n      <td>...</td>\n      <td>28.965</td>\n      <td>14.934</td>\n      <td>5.118</td>\n      <td>-26.739</td>\n      <td>-26.341</td>\n      <td>-23.570</td>\n      <td>22.604</td>\n      <td>-26.445</td>\n      <td>-26.690</td>\n      <td>-26.788</td>\n    </tr>\n    <tr>\n      <th>...</th>\n      <td>...</td>\n      <td>...</td>\n      <td>...</td>\n      <td>...</td>\n      <td>...</td>\n      <td>...</td>\n      <td>...</td>\n      <td>...</td>\n      <td>...</td>\n      <td>...</td>\n      <td>...</td>\n      <td>...</td>\n      <td>...</td>\n      <td>...</td>\n      <td>...</td>\n      <td>...</td>\n      <td>...</td>\n      <td>...</td>\n      <td>...</td>\n      <td>...</td>\n      <td>...</td>\n    </tr>\n    <tr>\n      <th>39569</th>\n      <td>TRAIN_39570</td>\n      <td>69.524</td>\n      <td>103.320</td>\n      <td>62.87</td>\n      <td>103.136</td>\n      <td>69.884</td>\n      <td>30.66</td>\n      <td>113.99</td>\n      <td>282.98</td>\n      <td>0.0</td>\n      <td>...</td>\n      <td>27.553</td>\n      <td>16.570</td>\n      <td>3.187</td>\n      <td>-26.749</td>\n      <td>-26.635</td>\n      <td>-23.030</td>\n      <td>24.062</td>\n      <td>-26.717</td>\n      <td>-26.729</td>\n      <td>-26.646</td>\n    </tr>\n    <tr>\n      <th>39571</th>\n      <td>TRAIN_39572</td>\n      <td>62.386</td>\n      <td>103.320</td>\n      <td>61.47</td>\n      <td>101.969</td>\n      <td>64.785</td>\n      <td>29.70</td>\n      <td>115.75</td>\n      <td>282.20</td>\n      <td>0.0</td>\n      <td>...</td>\n      <td>27.230</td>\n      <td>14.763</td>\n      <td>4.173</td>\n      <td>-27.593</td>\n      <td>-27.864</td>\n      <td>-23.956</td>\n      <td>22.391</td>\n      <td>-27.841</td>\n      <td>-27.841</td>\n      <td>-27.677</td>\n    </tr>\n    <tr>\n      <th>39583</th>\n      <td>TRAIN_39584</td>\n      <td>67.485</td>\n      <td>103.320</td>\n      <td>65.87</td>\n      <td>102.036</td>\n      <td>69.884</td>\n      <td>29.99</td>\n      <td>118.21</td>\n      <td>299.56</td>\n      <td>0.0</td>\n      <td>...</td>\n      <td>34.246</td>\n      <td>17.190</td>\n      <td>3.090</td>\n      <td>-26.416</td>\n      <td>-26.470</td>\n      <td>-23.374</td>\n      <td>25.072</td>\n      <td>-26.357</td>\n      <td>-26.365</td>\n      <td>-26.261</td>\n    </tr>\n    <tr>\n      <th>39596</th>\n      <td>TRAIN_39597</td>\n      <td>68.504</td>\n      <td>103.321</td>\n      <td>63.27</td>\n      <td>103.153</td>\n      <td>68.864</td>\n      <td>30.73</td>\n      <td>112.71</td>\n      <td>219.37</td>\n      <td>0.0</td>\n      <td>...</td>\n      <td>23.134</td>\n      <td>14.791</td>\n      <td>3.605</td>\n      <td>-27.552</td>\n      <td>-27.302</td>\n      <td>-24.559</td>\n      <td>22.232</td>\n      <td>-27.439</td>\n      <td>-27.268</td>\n      <td>-27.428</td>\n    </tr>\n    <tr>\n      <th>39605</th>\n      <td>TRAIN_39606</td>\n      <td>66.465</td>\n      <td>103.320</td>\n      <td>63.67</td>\n      <td>102.025</td>\n      <td>67.845</td>\n      <td>30.30</td>\n      <td>112.60</td>\n      <td>275.52</td>\n      <td>0.0</td>\n      <td>...</td>\n      <td>26.412</td>\n      <td>15.757</td>\n      <td>4.216</td>\n      <td>-26.760</td>\n      <td>-26.634</td>\n      <td>-24.066</td>\n      <td>23.305</td>\n      <td>-26.536</td>\n      <td>-26.751</td>\n      <td>-26.635</td>\n    </tr>\n  </tbody>\n</table>\n<p>3917 rows × 70 columns</p>\n</div>"
     },
     "execution_count": 200,
     "metadata": {},
     "output_type": "execute_result"
    }
   ],
   "source": [
    "# 값의차이들을 보기 , 어떤 컬럼이 정상값이 아닌지 체크하기 \n",
    "outlier_train"
   ],
   "metadata": {
    "collapsed": false,
    "pycharm": {
     "name": "#%%\n"
    }
   }
  },
  {
   "cell_type": "code",
   "execution_count": null,
   "outputs": [],
   "source": [],
   "metadata": {
    "collapsed": false,
    "pycharm": {
     "name": "#%%\n"
    }
   }
  },
  {
   "cell_type": "code",
   "execution_count": null,
   "outputs": [],
   "source": [
    "y_train"
   ],
   "metadata": {
    "collapsed": false,
    "pycharm": {
     "name": "#%%\n"
    }
   }
  },
  {
   "cell_type": "code",
   "execution_count": null,
   "outputs": [],
   "source": [],
   "metadata": {
    "collapsed": false,
    "pycharm": {
     "name": "#%%\n"
    }
   }
  }
 ],
 "metadata": {
  "kernelspec": {
   "display_name": "Python 3",
   "language": "python",
   "name": "python3"
  },
  "language_info": {
   "codemirror_mode": {
    "name": "ipython",
    "version": 2
   },
   "file_extension": ".py",
   "mimetype": "text/x-python",
   "name": "python",
   "nbconvert_exporter": "python",
   "pygments_lexer": "ipython2",
   "version": "2.7.6"
  }
 },
 "nbformat": 4,
 "nbformat_minor": 0
}